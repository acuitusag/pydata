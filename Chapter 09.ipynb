{
 "cells": [
  {
   "cell_type": "markdown",
   "id": "14507b48",
   "metadata": {},
   "source": [
    "# Chapter 9: Plotting and Visualization"
   ]
  },
  {
   "cell_type": "markdown",
   "id": "63cae7fc",
   "metadata": {},
   "source": [
    "## 9.1 A Brief matplotlib API Primer"
   ]
  },
  {
   "cell_type": "code",
   "execution_count": null,
   "id": "5feb411e",
   "metadata": {},
   "outputs": [],
   "source": [
    "import matplotlib.pyplot as plt\n",
    "import numpy as np\n",
    "import seaborn as sns\n",
    "import scipy.stats as stats\n",
    "import pandas as pd\n",
    "from datetime import datetime"
   ]
  },
  {
   "cell_type": "code",
   "execution_count": null,
   "id": "36fe2dfc",
   "metadata": {},
   "outputs": [],
   "source": [
    "data = np.arange(10)\n",
    "print(data)\n",
    "plt.plot(data)"
   ]
  },
  {
   "cell_type": "markdown",
   "id": "cbb60921",
   "metadata": {},
   "source": [
    "### Figures and Subplots"
   ]
  },
  {
   "cell_type": "code",
   "execution_count": null,
   "id": "7160af53",
   "metadata": {},
   "outputs": [],
   "source": [
    "fig = plt.figure()\n",
    "ax1 = fig.add_subplot(2, 2, 1)\n",
    "ax2 = fig.add_subplot(2, 2, 2)\n",
    "ax3 = fig.add_subplot(2, 2, 3)"
   ]
  },
  {
   "cell_type": "code",
   "execution_count": null,
   "id": "b00a77ff",
   "metadata": {},
   "outputs": [],
   "source": [
    "fig = plt.figure()\n",
    "ax1 = fig.add_subplot(2, 2, 1)\n",
    "ax2 = fig.add_subplot(2, 2, 2)\n",
    "ax3 = fig.add_subplot(2, 2, 3)\n",
    "ax4 = fig.add_subplot(2, 2, 4)\n",
    "\n",
    "ax1.hist(np.random.standard_normal(100), bins=20, color='black', alpha=0.3)\n",
    "ax2.scatter(\n",
    "    np.arange(30),\n",
    "    np.arange(30) + np.random.standard_normal(30),\n",
    ")\n",
    "ax3.plot(\n",
    "    np.random.standard_normal(50).cumsum(),\n",
    "    color='black',\n",
    "    linestyle='dashed'\n",
    ")\n",
    "\n",
    "np.random.seed(10)\n",
    "D = np.random.normal((3, 5, 4), (0.75, 1.00, 0.75), (200, 3))\n",
    "ax4.violinplot(D, [2, 4, 6], widths=2,\n",
    "               showmeans=False, showmedians=False, showextrema=False)"
   ]
  },
  {
   "cell_type": "code",
   "execution_count": null,
   "id": "e02f4896",
   "metadata": {},
   "outputs": [],
   "source": [
    "fig, axes = plt.subplots(2, 3, figsize=(10, 10))\n",
    "axes"
   ]
  },
  {
   "cell_type": "code",
   "execution_count": null,
   "id": "1cfa329b",
   "metadata": {},
   "outputs": [],
   "source": [
    "fig, axes = plt.subplots(2, 2, sharex=True, sharey=True)\n",
    "for i in range(2):\n",
    "    for j in range(2):\n",
    "        axes[i, j].hist(\n",
    "            np.random.standard_normal(500),\n",
    "            bins=50,\n",
    "            color='black',\n",
    "            alpha=0.3)\n",
    "fig.subplots_adjust(hspace=0.0, wspace=0.0)"
   ]
  },
  {
   "cell_type": "markdown",
   "id": "a6e1265b",
   "metadata": {},
   "source": [
    "### Colors, Markers and Line Styles"
   ]
  },
  {
   "cell_type": "code",
   "execution_count": null,
   "id": "10ce166e",
   "metadata": {},
   "outputs": [],
   "source": [
    "fig, ax = plt.subplots(1, 1, figsize=(8, 6))\n",
    "ax.set_title('Cumulative Sum with Markers')\n",
    "ax.plot(\n",
    "    np.random.standard_normal(30).cumsum(),\n",
    "    color='black',\n",
    "    linestyle='dashed',\n",
    "    marker='o')"
   ]
  },
  {
   "cell_type": "code",
   "execution_count": null,
   "id": "1d79c384",
   "metadata": {},
   "outputs": [],
   "source": [
    "fig, ax = plt.subplots()\n",
    "data = np.random.standard_normal(30).cumsum()\n",
    "ax.plot(data, color='black', linestyle='dashed', label='Default')\n",
    "ax.plot(data, color='red', linestyle='dashed',\n",
    "        drawstyle='steps-post', label='steps-post')\n",
    "ax.set_title('Cumulative Sum with Different Styles')\n",
    "ax.legend()\n",
    "ax.set_xlabel('Index')\n",
    "ax.set_ylabel('Cumulative Sum')"
   ]
  },
  {
   "cell_type": "markdown",
   "id": "a482f079",
   "metadata": {},
   "source": [
    "### Ticks, Labels, and Legends"
   ]
  },
  {
   "cell_type": "code",
   "execution_count": null,
   "id": "40ef6b54",
   "metadata": {},
   "outputs": [],
   "source": [
    "fig, ax = plt.subplots(1, 1, figsize=(8, 6))\n",
    "ax.plot(np.random.standard_normal(1000).cumsum())"
   ]
  },
  {
   "cell_type": "code",
   "execution_count": null,
   "id": "5ae904c6",
   "metadata": {},
   "outputs": [],
   "source": [
    "fig, ax = plt.subplots(1, 1, figsize=(8, 6))\n",
    "ax.plot(np.random.standard_normal(1000).cumsum())\n",
    "ticks = ax.set_xticks([0, 250, 500, 750, 1000])\n",
    "labels = ax.set_xticklabels(['one', 'two', 'three', 'four', 'five'],\n",
    "                            rotation=30, fontsize=8)\n",
    "ax.set_xlabel('Stages')\n",
    "ax.set_title('My first matplotlib plot')"
   ]
  },
  {
   "cell_type": "markdown",
   "id": "4bdea889",
   "metadata": {},
   "source": [
    "#### Adding legends"
   ]
  },
  {
   "cell_type": "code",
   "execution_count": null,
   "id": "8c36b51b",
   "metadata": {},
   "outputs": [],
   "source": [
    "fig, ax = plt.subplots(1, 1, figsize=(8, 6))\n",
    "ax.plot(np.random.randn(1000).cumsum(), color='black', label='one')\n",
    "ax.plot(np.random.randn(1000).cumsum(), color='red',\n",
    "        linestyle='dashed', label='two')\n",
    "ax.plot(np.random.randn(1000).cumsum(), color='blue',\n",
    "        linestyle='dotted', label='three')\n",
    "ax.legend(loc='best')\n"
   ]
  },
  {
   "cell_type": "markdown",
   "id": "23d1a003",
   "metadata": {},
   "source": [
    "#### Annotations and Drawing on a Subplot"
   ]
  },
  {
   "cell_type": "code",
   "execution_count": null,
   "id": "39ca6c26",
   "metadata": {},
   "outputs": [],
   "source": [
    "fig, ax = plt.subplots()\n",
    "\n",
    "data =pd.read_csv(r\"F:\\books\\pydata-book-3rd-edition\\examples\\spx.csv\",\n",
    "                  index_col=0, parse_dates=True)\n",
    "spx = data[\"SPX\"]\n",
    "\n",
    "spx.plot(ax=ax, color=\"green\", lw=2, label=\"S&P 500\")\n",
    "\n",
    "crisis_data = [\n",
    "    (datetime(2007, 10, 11), \"Peak of bull market\"),\n",
    "    (datetime(2008, 3, 12), \"Bear Stearns Fails\"),\n",
    "    (datetime(2008, 9, 15), \"Lehman Bankruptcy\")\n",
    "]\n",
    "\n",
    "for date, label in crisis_data:\n",
    "    ax.annotate(label, xy=(date, spx.asof(date) + 75),\n",
    "                xytext=(date, spx.asof(date) + 225),\n",
    "                arrowprops=dict(facecolor=\"red\", headwidth=4, width=2,\n",
    "                                headlength=4),\n",
    "                horizontalalignment=\"left\", verticalalignment=\"top\")\n",
    "\n",
    "# Zoom in on 2007-2010\n",
    "ax.set_xlim([\"1/1/2007\", \"1/1/2011\"])\n",
    "ax.set_ylim([600, 1800])\n",
    "\n",
    "ax.set_title(\"Important dates in the 2008–2009 financial crisis\")"
   ]
  },
  {
   "cell_type": "code",
   "execution_count": null,
   "id": "943fdf0b",
   "metadata": {},
   "outputs": [],
   "source": [
    "fig, ax = plt.subplots(1, 1, figsize=(8, 6))\n",
    "rect = plt.Rectangle((0.2, 0.75), 0.4, 0.15, color='black', alpha=0.5)\n",
    "circ = plt.Circle((0.7, 0.2), 0.15, color='blue', alpha=0.3)\n",
    "pgon = plt.Polygon([[0.15, 0.15], [0.35, 0.4], [0.2, 0.6]],\n",
    "                   color='green', alpha=0.5)\n",
    "ax.add_patch(rect)\n",
    "ax.add_patch(circ)\n",
    "ax.add_patch(pgon)"
   ]
  },
  {
   "cell_type": "markdown",
   "id": "e6845535",
   "metadata": {},
   "source": [
    "### Saving Plots to File"
   ]
  },
  {
   "cell_type": "code",
   "execution_count": null,
   "id": "548e25e7",
   "metadata": {},
   "outputs": [],
   "source": [
    "fig.savefig('figpath.svg')\n",
    "fig.savefig('figpath.png', dpi=300, bbox_inches='tight')"
   ]
  },
  {
   "cell_type": "markdown",
   "id": "b6d02cef",
   "metadata": {},
   "source": [
    "### matplotlib Configuration"
   ]
  },
  {
   "cell_type": "code",
   "execution_count": null,
   "id": "e3131c4d",
   "metadata": {},
   "outputs": [],
   "source": [
    "plt.rc('figure', figsize=(10, 10))\n",
    "plt.rc('font', family='monospace', weight='bold', size=8)"
   ]
  },
  {
   "cell_type": "markdown",
   "id": "4e5e0fcb",
   "metadata": {},
   "source": [
    "## 9.2 Plotting with pandas and seaborn"
   ]
  },
  {
   "cell_type": "code",
   "execution_count": null,
   "id": "cde2a326",
   "metadata": {},
   "outputs": [],
   "source": [
    "s = pd.Series(np.random.standard_normal(10).cumsum(),\n",
    "              index = np.arange(0, 100,10))\n",
    "s.plot()"
   ]
  },
  {
   "cell_type": "code",
   "execution_count": null,
   "id": "295e68e5",
   "metadata": {},
   "outputs": [],
   "source": [
    "df = pd.DataFrame(np.random.standard_normal((10, 4)).cumsum(0),\n",
    "                  columns=['A', 'B', 'C', 'D'],\n",
    "                  index=np.arange(0, 100, 10))\n",
    "\n",
    "plt.style.use('grayscale')\n",
    "df.plot()"
   ]
  },
  {
   "cell_type": "markdown",
   "id": "abbf9c5e",
   "metadata": {},
   "source": [
    "### Bar Plots"
   ]
  },
  {
   "cell_type": "code",
   "execution_count": null,
   "id": "a4d291fd",
   "metadata": {},
   "outputs": [],
   "source": [
    "fig, axes = plt.subplots(2, 1)\n",
    "data = pd.Series(\n",
    "    np.random.uniform(size=16),\n",
    "    index=list('abcdefghijklmnop')\n",
    ")\n",
    "\n",
    "data.plot.bar(ax=axes[0], color='black', alpha=0.7)\n",
    "data.plot.barh(ax=axes[1], color='black', alpha=0.7)"
   ]
  },
  {
   "cell_type": "code",
   "execution_count": null,
   "id": "f6087c97",
   "metadata": {},
   "outputs": [],
   "source": [
    "df = pd.DataFrame(\n",
    "    np.random.uniform(size=(6, 4)),\n",
    "    index=['one', 'two', 'three', 'four', 'five', 'six'],\n",
    "    columns=pd.Index(['A', 'B', 'C', 'D'], name='Genus')\n",
    ")\n",
    "\n",
    "print(df)\n",
    "df.plot.bar()"
   ]
  },
  {
   "cell_type": "code",
   "execution_count": null,
   "id": "69450050",
   "metadata": {},
   "outputs": [],
   "source": [
    "df.plot.barh(stacked=True, alpha=0.5)"
   ]
  },
  {
   "cell_type": "code",
   "execution_count": null,
   "id": "71943fd9",
   "metadata": {},
   "outputs": [],
   "source": [
    "tips = pd.read_csv(r\"F:\\books\\pydata-book-3rd-edition\\examples\\tips.csv\")\n",
    "tips.head(n=10)"
   ]
  },
  {
   "cell_type": "code",
   "execution_count": null,
   "id": "d56a8a3b",
   "metadata": {},
   "outputs": [],
   "source": [
    "party_counts = pd.crosstab(tips['day'],  tips['size'])\n",
    "party_counts"
   ]
  },
  {
   "cell_type": "code",
   "execution_count": null,
   "id": "cb2c86f9",
   "metadata": {},
   "outputs": [],
   "source": [
    "party_counts = party_counts.reindex(\n",
    "    index=['Thur', 'Fri', 'Sat', 'Sun'],\n",
    ")\n",
    "party_counts"
   ]
  },
  {
   "cell_type": "code",
   "execution_count": null,
   "id": "10f520f6",
   "metadata": {},
   "outputs": [],
   "source": [
    "party_counts = party_counts.loc[:, 2:5]\n",
    "party_counts"
   ]
  },
  {
   "cell_type": "code",
   "execution_count": null,
   "id": "77e4d036",
   "metadata": {},
   "outputs": [],
   "source": [
    "party_pct = party_counts.div(party_counts.sum(axis='columns'), axis='index')\n",
    "party_pct"
   ]
  },
  {
   "cell_type": "code",
   "execution_count": null,
   "id": "e9093422",
   "metadata": {},
   "outputs": [],
   "source": [
    "party_pct.plot.bar(stacked=True, alpha=0.5)"
   ]
  },
  {
   "cell_type": "code",
   "execution_count": null,
   "id": "7dea7dd1",
   "metadata": {},
   "outputs": [],
   "source": [
    "tips['tip_pct'] = tips.tip / ( tips.total_bill - tips.tip)\n",
    "tips.head(n=10)"
   ]
  },
  {
   "cell_type": "code",
   "execution_count": null,
   "id": "bdd849ef",
   "metadata": {},
   "outputs": [],
   "source": [
    "sns.barplot(x='tip_pct', y='day', hue='day', data=tips, orient='horizontal',)"
   ]
  },
  {
   "cell_type": "code",
   "execution_count": null,
   "id": "544624d6",
   "metadata": {},
   "outputs": [],
   "source": [
    "sns.barplot(x='tip_pct', y='day', hue='time', data=tips, orient='horizontal',)"
   ]
  },
  {
   "cell_type": "code",
   "execution_count": null,
   "id": "cce592fe",
   "metadata": {},
   "outputs": [],
   "source": [
    "sns.set_style('whitegrid')\n",
    "sns.set_palette('Set3')\n",
    "sns.barplot(x='tip_pct', y='day', hue='time', data=tips, orient='horizontal')"
   ]
  },
  {
   "cell_type": "markdown",
   "id": "a2d74d09",
   "metadata": {},
   "source": [
    "### Histograms and Density Plots"
   ]
  },
  {
   "cell_type": "code",
   "execution_count": null,
   "id": "d2d80ecc",
   "metadata": {},
   "outputs": [],
   "source": [
    "tips['tip_pct'].plot.hist(bins=50, color='black', alpha=0.3)"
   ]
  },
  {
   "cell_type": "code",
   "execution_count": null,
   "id": "e9bf3e83",
   "metadata": {},
   "outputs": [],
   "source": [
    "tips['tip_pct'].plot.density()"
   ]
  },
  {
   "cell_type": "code",
   "execution_count": null,
   "id": "c16a45a7",
   "metadata": {},
   "outputs": [],
   "source": [
    "fig, ax = plt.subplots(1, 1, figsize=(8, 6))\n",
    "tips['tip_pct'].plot.density(ax=ax, color='red')\n",
    "tips['tip_pct'].plot.hist(\n",
    "    ax=ax, bins=50, color='black', alpha=0.3, density=True,)"
   ]
  },
  {
   "cell_type": "code",
   "execution_count": null,
   "id": "18ce3a1a",
   "metadata": {},
   "outputs": [],
   "source": [
    "comp1 = np.random.standard_normal(200)\n",
    "comp2 = 10 + 2 * np.random.standard_normal(200)\n",
    "\n",
    "values = pd.Series(np.concatenate([comp1, comp2]))\n",
    "\n",
    "fig, ax = plt.subplots(1, 1, figsize=(8, 6))\n",
    "sns.histplot(values, bins=50, color='black', alpha=0.3, kde=True)"
   ]
  },
  {
   "cell_type": "code",
   "execution_count": null,
   "id": "0c0f4a6b",
   "metadata": {},
   "outputs": [],
   "source": [
    "sns.kdeplot(values, color='red')"
   ]
  },
  {
   "cell_type": "code",
   "execution_count": null,
   "id": "b7f4cf11",
   "metadata": {},
   "outputs": [],
   "source": [
    "fig, ax = plt.subplots(1, 1, figsize=(8, 6))\n",
    "sns.kdeplot(tips['tip_pct'], ax=ax, fill=True, color='black', alpha=0.3)\n",
    "sns.histplot(tips['tip_pct'], ax=ax, bins = 50, fill=True, color='red', alpha=0.3)"
   ]
  },
  {
   "cell_type": "code",
   "execution_count": null,
   "id": "822ee12d",
   "metadata": {},
   "outputs": [],
   "source": [
    "sns.histplot(\n",
    "    tips['tip_pct'], bins=50, color='black', alpha=0.3, kde=True,\n",
    "    stat='density', common_norm=False\n",
    ")"
   ]
  },
  {
   "cell_type": "markdown",
   "id": "7944ee42",
   "metadata": {},
   "source": [
    "### Scatter or Point Plots"
   ]
  },
  {
   "cell_type": "code",
   "execution_count": null,
   "id": "03eae75b",
   "metadata": {},
   "outputs": [],
   "source": [
    "macro = pd.read_csv(r\"F:\\books\\pydata-book-3rd-edition\\examples\\macrodata.csv\",)\n",
    "data = macro[['cpi', 'm1', 'tbilrate', 'unemp']]\n",
    "trans_data = np.log(data).diff().dropna()\n",
    "trans_data.tail()"
   ]
  },
  {
   "cell_type": "code",
   "execution_count": null,
   "id": "50c95437",
   "metadata": {},
   "outputs": [],
   "source": [
    "ax = sns.regplot(x='m1', y='unemp', data=trans_data)\n",
    "ax.set_title('Changes in log(m1) vs. log(unemp)')"
   ]
  },
  {
   "cell_type": "code",
   "execution_count": null,
   "id": "b28d1abb",
   "metadata": {},
   "outputs": [],
   "source": [
    "sns.pairplot(trans_data, diag_kind='kde', plot_kws={'alpha': 0.2})"
   ]
  },
  {
   "cell_type": "markdown",
   "id": "472e35d6",
   "metadata": {},
   "source": [
    "### Facet Grids and Categorical Data"
   ]
  },
  {
   "cell_type": "code",
   "execution_count": null,
   "id": "ea07089b",
   "metadata": {},
   "outputs": [],
   "source": [
    "sns.catplot(\n",
    "    x='day', y='tip_pct', hue='time', col='smoker',\n",
    "    kind='bar', height=6, aspect=1.5,\n",
    "    data=tips[tips.tip_pct < 1.0]  # Filter out extreme values  \n",
    ")"
   ]
  },
  {
   "cell_type": "code",
   "execution_count": null,
   "id": "bc8d2fee",
   "metadata": {},
   "outputs": [],
   "source": [
    "sns.catplot(x='day', y='total_bill', row='time', col='smoker',\n",
    "            kind='bar', height=6, aspect=1.5,\n",
    "            data=tips[tips.tip_pct < 1.0]) # Filter out extreme values)"
   ]
  },
  {
   "cell_type": "code",
   "execution_count": null,
   "id": "a20bb2b3",
   "metadata": {},
   "outputs": [],
   "source": [
    "sns.catplot(x=\"day\", y=\"tip_pct\", row=\"time\",\n",
    "                col=\"smoker\", hue='day',\n",
    "                kind=\"bar\", data=tips[tips.tip_pct < 1])"
   ]
  },
  {
   "cell_type": "code",
   "execution_count": 74,
   "id": "38d61d6e",
   "metadata": {},
   "outputs": [
    {
     "data": {
      "text/plain": [
       "<seaborn.axisgrid.FacetGrid at 0x1fb8e0585c0>"
      ]
     },
     "execution_count": 74,
     "metadata": {},
     "output_type": "execute_result"
    },
    {
     "data": {
      "image/png": "[encoded data removed]",
      "text/plain": [
       "<Figure size 500x500 with 1 Axes>"
      ]
     },
     "metadata": {},
     "output_type": "display_data"
    }
   ],
   "source": [
    "sns.catplot(\n",
    "    x='tip_pct',\n",
    "    y='day',\n",
    "    kind='box',\n",
    "    hue='day',\n",
    "    data=tips[tips.tip_pct < 0.5],\n",
    "    orient='horizontal',\n",
    ")"
   ]
  }
 ],
 "metadata": {
  "kernelspec": {
   "display_name": "base",
   "language": "python",
   "name": "python3"
  },
  "language_info": {
   "codemirror_mode": {
    "name": "ipython",
    "version": 3
   },
   "file_extension": ".py",
   "mimetype": "text/x-python",
   "name": "python",
   "nbconvert_exporter": "python",
   "pygments_lexer": "ipython3",
   "version": "3.12.7"
  }
 },
 "nbformat": 4,
 "nbformat_minor": 5
}
