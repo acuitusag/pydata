{
 "cells": [
  {
   "cell_type": "markdown",
   "metadata": {},
   "source": [
    "## Chapter 3: Built-In Data Structures, Functions, and Files"
   ]
  },
  {
   "cell_type": "markdown",
   "metadata": {},
   "source": [
    "### 3.1 Data Structures and Sequences"
   ]
  },
  {
   "cell_type": "markdown",
   "metadata": {},
   "source": [
    "#### Tuple"
   ]
  },
  {
   "cell_type": "markdown",
   "metadata": {},
   "source": [
    "A tuple is a sequence of immutable Python objects. Tuples are similar to lists, but they cannot be changed after creation. They are defined by enclosing the elements in parentheses `()`."
   ]
  },
  {
   "cell_type": "code",
   "execution_count": null,
   "metadata": {},
   "outputs": [],
   "source": [
    "tup = (4, 5, 6)\n",
    "tup2 = 7, 8, 9\n",
    "print(tup)\n",
    "print(tup2)\n",
    "print(tup == tup2)\n",
    "tup3 = tup\n",
    "tup3 is tup"
   ]
  },
  {
   "cell_type": "markdown",
   "metadata": {},
   "source": [
    "You can convert a sequence or iterature to a tuple using the `tuple()` function.\n",
    "\n"
   ]
  },
  {
   "cell_type": "code",
   "execution_count": null,
   "metadata": {},
   "outputs": [],
   "source": [
    "my_list = [4, 0, 2]\n",
    "print(tuple(my_list))\n",
    "\n",
    "tup = tuple(\"string\")\n",
    "\n",
    "print(tup)"
   ]
  },
  {
   "cell_type": "markdown",
   "metadata": {},
   "source": [
    "The elements of a tuple can be access using indexing, and you can also use slicing to get a sub-tuple. Tuples support concatenation and repetition, similar to lists.\n"
   ]
  },
  {
   "cell_type": "code",
   "execution_count": null,
   "metadata": {},
   "outputs": [],
   "source": [
    "tup[0]"
   ]
  },
  {
   "cell_type": "markdown",
   "metadata": {},
   "source": [
    "You can also nest tuples, meaning you can have a tuple inside another tuple. This is useful for creating complex data structures. Tuples can be unpacked into variables, allowing you to assign multiple values at once. You can also use the `len()` function to get the length of a tuple, and the `in` operator to check if an element is in a tuple."
   ]
  },
  {
   "cell_type": "code",
   "execution_count": null,
   "metadata": {},
   "outputs": [],
   "source": [
    "nested_tup = (4, 5, 6), (7, 8)\n",
    "print(nested_tup)\n",
    "\n",
    "print(nested_tup[0])\n",
    "print(nested_tup[1])"
   ]
  },
  {
   "cell_type": "markdown",
   "metadata": {},
   "source": [
    "Tuples are immutable. "
   ]
  },
  {
   "cell_type": "code",
   "execution_count": null,
   "metadata": {},
   "outputs": [],
   "source": [
    "tup = tuple([\"foo\", [1, 2], True])\n",
    "print(tup)\n",
    "\n",
    "tup[2] = False  # TypeError: 'tuple' object does not support item assignment"
   ]
  },
  {
   "cell_type": "markdown",
   "metadata": {},
   "source": [
    "When we have a mutable object inside a tuple, we can change the mutable object but not the tuple itself. For example, if we have a list inside a tuple, we can change the list but not the tuple. "
   ]
  },
  {
   "cell_type": "code",
   "execution_count": null,
   "metadata": {},
   "outputs": [],
   "source": [
    "\n",
    "tup[1].append(3) # This is allowed, as we are changing the list inside the tuple\n",
    "print(tup)\n",
    "tup[1] = [3, 4] # This is not allowed, as we are trying to change the tuple itself\n"
   ]
  },
  {
   "cell_type": "markdown",
   "metadata": {},
   "source": [
    "We can concatenate tuples, but we cannot change the elements of a tuple. We concatenate tuples using the `+` operator, and we can repeat tuples using the `*` operator."
   ]
  },
  {
   "cell_type": "code",
   "execution_count": null,
   "metadata": {},
   "outputs": [],
   "source": [
    "print((4, None, 'foo') + (6, 0) + ('bar',))\n",
    "\n",
    "my_tup = ('foo', 'bar') * 4\n",
    "print((my_tup))\n",
    "print(len(my_tup))"
   ]
  },
  {
   "cell_type": "markdown",
   "metadata": {},
   "source": [
    "##### Unpacking Tuples"
   ]
  },
  {
   "cell_type": "markdown",
   "metadata": {},
   "source": [
    "If you try to assign to a tuple-like expression of variables, Python will attempt to unpack the tuple. This means that Python will try to assign each element of the tuple to a variable. If the number of variables does not match the number of elements in the tuple, Python will raise a `ValueError`."
   ]
  },
  {
   "cell_type": "code",
   "execution_count": null,
   "metadata": {},
   "outputs": [],
   "source": [
    "tup = 4, 5, 6\n",
    "a, b, c = tup\n",
    "print(a, b, c)\n",
    "print(b)"
   ]
  },
  {
   "cell_type": "markdown",
   "metadata": {},
   "source": [
    "Even sequences with nested tuples can be unpacked. For example, if we have a tuple with a nested tuple, we can unpack the nested tuple into separate variables. This is useful for working with complex data structures."
   ]
  },
  {
   "cell_type": "code",
   "execution_count": null,
   "metadata": {},
   "outputs": [],
   "source": [
    "tup = 4, 5, (6, 7)\n",
    "a, b, (c, d) = tup\n",
    "print(a, b, c, d)"
   ]
  },
  {
   "cell_type": "markdown",
   "metadata": {},
   "source": [
    "This behavior allows us to swap variables names easily. For example, if we have two variables `a` and `b`, we can swap their values using tuple unpacking: `a, b = b, a`. This is a common Python idiom for swapping variables."
   ]
  },
  {
   "cell_type": "code",
   "execution_count": null,
   "metadata": {},
   "outputs": [],
   "source": [
    "a, b = 1, 2\n",
    "print(a)\n",
    "print(b)\n",
    "a, b = b, a  # Swap values\n",
    "print(a)\n",
    "print(b)"
   ]
  },
  {
   "cell_type": "markdown",
   "metadata": {},
   "source": [
    "A common use of variable unpacking is iterating over a list of tuples. For example, if we have a list of tuples representing coordinates, we can unpack the tuples into separate variables for `x` and `y` coordinates. This makes the code more readable and easier to understand."
   ]
  },
  {
   "cell_type": "code",
   "execution_count": null,
   "metadata": {},
   "outputs": [],
   "source": [
    "seq = [(1, 2, 3), (4, 5, 6), (7, 8, 9)]\n",
    "print(seq)\n",
    "\n",
    "for a, b, c in seq:\n",
    "    print(f\"a={a}, b={b}, c={c}\")"
   ]
  },
  {
   "cell_type": "markdown",
   "metadata": {},
   "source": [
    "There are some situations where we might want to pluck a few elements from the beginning of a tuple and ignore the rest. In this case, we can use the underscore `_` as a throwaway variable. For example, if we have a tuple with three elements and we only want the first two, we can do `x, y, _ = my_tuple`. This allows us to ignore the third element without creating an unused variable."
   ]
  },
  {
   "cell_type": "code",
   "execution_count": null,
   "metadata": {},
   "outputs": [],
   "source": [
    "values = 1, 2, 3, 4, 5\n",
    "a, b, *rest = values\n",
    "print(a)\n",
    "print(b)\n",
    "print(rest)\n",
    "\n",
    "a, b, *_ = values\n",
    "print(a)\n",
    "print(b)\n",
    "print(_)"
   ]
  },
  {
   "cell_type": "markdown",
   "metadata": {},
   "source": [
    "##### Tuple Methods"
   ]
  },
  {
   "cell_type": "markdown",
   "metadata": {},
   "source": [
    "Tuples have only two built-in methods: `count()` and `index()`. The `count()` method returns the number of occurrences of a specified value in the tuple, while the `index()` method returns the index of the first occurrence of a specified value. If the value is not found, it raises a `ValueError`."
   ]
  },
  {
   "cell_type": "code",
   "execution_count": null,
   "metadata": {},
   "outputs": [],
   "source": [
    "a = 1, 2, 2, 2, 3, 4, 2\n",
    "print(a.count(2))\n",
    "print(a.index(4))"
   ]
  },
  {
   "cell_type": "markdown",
   "metadata": {},
   "source": [
    "#### List"
   ]
  },
  {
   "cell_type": "markdown",
   "metadata": {},
   "source": [
    "In contrast to tuples, lists are mutable sequences. Lists can be modified after creation, allowing you to add, remove, or change elements. Lists are defined by enclosing the elements in square brackets `[]`.\n",
    "You can convert a sequence or iterable to a list using the `list()` function. Lists support indexing, slicing, concatenation, and repetition, similar to tuples. You can also nest lists, meaning you can have a list inside another list."
   ]
  },
  {
   "cell_type": "code",
   "execution_count": null,
   "metadata": {},
   "outputs": [],
   "source": [
    "a_list = [2, 3, 7, None]\n",
    "print(a_list)\n",
    "tup = (\"foo\", \"bar\", \"baz\")\n",
    "b_list = list(tup)\n",
    "print(b_list)\n",
    "b_list[1] = \"peekaboo\"\n",
    "print(b_list)"
   ]
  },
  {
   "cell_type": "markdown",
   "metadata": {},
   "source": [
    "The list built-in function is frequencyly used in data processing to materialize an iterator or generator expression. This is useful when you want to create a list from a sequence of values generated by an iterator or generator. For example, if you have a generator expression that generates a sequence of numbers, you can use the `list()` function to convert it into a list."
   ]
  },
  {
   "cell_type": "code",
   "execution_count": null,
   "metadata": {},
   "outputs": [],
   "source": [
    "gen = range(10)\n",
    "print(gen)\n",
    "print(list(gen))"
   ]
  },
  {
   "cell_type": "markdown",
   "metadata": {},
   "source": [
    "##### Adding and removing elements"
   ]
  },
  {
   "cell_type": "markdown",
   "metadata": {},
   "source": [
    "Elements can be added to a list using the `append()` method, which adds an element to the end of the list. You can also use the `insert()` method to add an element at a specific index."
   ]
  },
  {
   "cell_type": "code",
   "execution_count": null,
   "metadata": {},
   "outputs": [],
   "source": [
    "print(b_list)\n",
    "b_list.append(\"dwarf\")\n",
    "print(b_list)\n",
    "b_list.insert(1, \"red\")\n",
    "print(b_list)"
   ]
  },
  {
   "cell_type": "markdown",
   "metadata": {},
   "source": [
    " To remove elements, you can use the `remove()` method, which removes the first occurrence of a specified value, or the `pop()` method, which removes and returns an element at a specified index (or the last element if no index is provided). The `clear()` method removes all elements from the list."
   ]
  },
  {
   "cell_type": "code",
   "execution_count": null,
   "metadata": {},
   "outputs": [],
   "source": [
    "b_list.append(\"foo\")\n",
    "print(b_list)\n",
    "b_list.remove(\"foo\")\n",
    "print(b_list)"
   ]
  },
  {
   "cell_type": "markdown",
   "metadata": {},
   "source": [
    "Check to see if an element is in a list using the `in` operator. This is useful for checking if a value exists in a list before performing an operation on it. For example, if you want to remove an element from a list, you can first check if it exists using the `in` operator.\n",
    "You can also use the `index()` method to find the index of the first occurrence of a specified value in the list. If the value is not found, it raises a `ValueError`. This is useful for finding the position of an element in a list before performing an operation on it."
   ]
  },
  {
   "cell_type": "code",
   "execution_count": null,
   "metadata": {},
   "outputs": [],
   "source": [
    "\"dwarf\" in b_list"
   ]
  },
  {
   "cell_type": "code",
   "execution_count": null,
   "metadata": {},
   "outputs": [],
   "source": [
    "\"dwarf\" not in b_list"
   ]
  },
  {
   "cell_type": "markdown",
   "metadata": {},
   "source": [
    "##### Concatenating and combining lists"
   ]
  },
  {
   "cell_type": "code",
   "execution_count": null,
   "metadata": {},
   "outputs": [],
   "source": [
    "my_list = [4, None, \"foo\"] + [7, 8, 9]\n",
    "print(my_list)\n",
    "\n",
    "x = [4, None, \"foo\"]\n",
    "print(x)\n",
    "x.extend([7, 8, (2, 3)])\n",
    "print(x)"
   ]
  },
  {
   "cell_type": "markdown",
   "metadata": {},
   "source": [
    "##### Sorting lists"
   ]
  },
  {
   "cell_type": "markdown",
   "metadata": {},
   "source": [
    "Sorting lists is a common operation in Python. You can use the `sort()` method to sort a list in place, or the `sorted()` function to return a new sorted list. The `sort()` method modifies the original list, while the `sorted()` function creates a new list.\n",
    "You can specify the sorting order using the `reverse` parameter, which sorts the list in descending order if set to `True`. You can also use the `key` parameter to specify a custom sorting function. This is useful for sorting lists of complex objects based on a specific attribute or property."
   ]
  },
  {
   "cell_type": "code",
   "execution_count": null,
   "metadata": {},
   "outputs": [],
   "source": [
    "a = [7, 2, 5, 1, 3]\n",
    "print(a)\n",
    "a.sort()\n",
    "print(a)\n",
    "a.sort(reverse=True)\n",
    "print(a)"
   ]
  },
  {
   "cell_type": "markdown",
   "metadata": {},
   "source": [
    "The sort method has a few options that occationally come in handy. The `key` parameter allows you to specify a function that will be called on each element before sorting. This is useful for sorting lists of complex objects based on a specific attribute or property. The `reverse` parameter allows you to sort the list in descending order if set to `True`. This is useful when you want to sort a list in reverse order without modifying the original list.\n",
    "The `sort()` method sorts the list in place, meaning it modifies the original list. If you want to create a new sorted list without modifying the original, you can use the `sorted()` function. This function returns a new sorted list and does not modify the original list."
   ]
  },
  {
   "cell_type": "code",
   "execution_count": null,
   "metadata": {},
   "outputs": [],
   "source": [
    "b = [\"saw\", \"small\", \"He\", \"foxes\", \"six\"]\n",
    "print(b)\n",
    "c = sorted(b)\n",
    "print(c)\n",
    "b.sort(key = len)\n",
    "print(b)"
   ]
  },
  {
   "cell_type": "markdown",
   "metadata": {},
   "source": [
    "##### Slicing lists"
   ]
  },
  {
   "cell_type": "markdown",
   "metadata": {},
   "source": [
    "Slicing lists is a powerful feature in Python that allows you to extract a portion of a list. You can use slicing to create a new list that contains a subset of the original list. This is useful for working with large lists or when you only need a specific portion of the data.\n",
    "You can use the `:` operator to specify the start and end indices for slicing. For example, `my_list[start:end]` returns a new list containing elements from index `start` to index `end - 1`. If you omit the start index, it defaults to `0`, and if you omit the end index, it defaults to the length of the list. You can also use negative indices to slice from the end of the list."
   ]
  },
  {
   "cell_type": "code",
   "execution_count": null,
   "metadata": {},
   "outputs": [],
   "source": [
    "seq = [7, 2, 3, 7, 5, 6, 0, 1]\n",
    "print(seq.count(7))\n",
    "print(seq.index(7))\n",
    "seq[1:5]"
   ]
  },
  {
   "cell_type": "markdown",
   "metadata": {},
   "source": [
    "Slices can also be assigned with a sequence. This means that you can replace a portion of a list with another sequence. For example, if you have a list and you want to replace a portion of it with another list, you can use slicing to do so. This is useful for modifying lists without creating new ones.\n",
    "You can also use the `del` statement to remove a slice from a list. This is useful for removing a portion of a list without creating a new one. For example, if you have a list and you want to remove a portion of it, you can use `del my_list[start:end]` to remove the elements from index `start` to index `end - 1`. This modifies the original list and does not create a new one."
   ]
  },
  {
   "cell_type": "code",
   "execution_count": null,
   "metadata": {},
   "outputs": [],
   "source": [
    "seq = [7, 2, 3, 7, 5, 6, 0, 1]\n",
    "print(seq)\n",
    "seq[3:5] = [6, 3]\n",
    "print(seq)"
   ]
  },
  {
   "cell_type": "markdown",
   "metadata": {},
   "source": [
    "The start and stop of a slice can be omitted. If you omit the start index, it defaults to `0`, and if you omit the end index, it defaults to the length of the list. This is useful for creating slices that include all elements from the beginning or end of a list.\n",
    "You can also use the `step` parameter to specify the interval between elements in the slice. For example, `my_list[start:end:step]` returns a new list containing elements from index `start` to index `end - 1`, with a step size of `step`. This is useful for creating slices that include every nth element in the list."
   ]
  },
  {
   "cell_type": "code",
   "execution_count": null,
   "metadata": {},
   "outputs": [],
   "source": [
    "print(seq)\n",
    "print(seq[:5])\n",
    "print(seq[3:])"
   ]
  },
  {
   "cell_type": "markdown",
   "metadata": {},
   "source": [
    "You can also use negative indices to slice from the end of the list. For example, `my_list[-3:]` returns a new list containing the last three elements of the list. This is useful for working with lists when you want to access elements from the end without knowing the length of the list.\n",
    "You can also use the `len()` function to get the length of a list. This is useful for checking the size of a list before performing operations on it. For example, if you want to slice a list, you can use `len(my_list)` to get the length and determine the start and end indices for slicing."
   ]
  },
  {
   "cell_type": "code",
   "execution_count": null,
   "metadata": {},
   "outputs": [],
   "source": [
    "print(seq)\n",
    "print(seq[-4])\n",
    "print(seq[-6:-2])"
   ]
  },
  {
   "cell_type": "markdown",
   "metadata": {},
   "source": [
    "A step can also be used after a second colon. This allows you to specify the interval between elements in the slice. For example, `my_list[start:end:step]` returns a new list containing elements from index `start` to index `end - 1`, with a step size of `step`. This is useful for creating slices that include every nth element in the list."
   ]
  },
  {
   "cell_type": "code",
   "execution_count": null,
   "metadata": {},
   "outputs": [],
   "source": [
    "print(seq)\n",
    "print(seq[::2])\n",
    "print(seq[::3])\n",
    "print(seq[::-1])"
   ]
  },
  {
   "cell_type": "markdown",
   "metadata": {},
   "source": [
    "#### Dictionary"
   ]
  },
  {
   "cell_type": "markdown",
   "metadata": {},
   "source": [
    "Dictionaries are mutable mappings in Python. They are defined by enclosing key-value pairs in curly braces `{}`. Each key is unique and maps to a value, allowing you to store and retrieve data efficiently. You can convert a sequence of key-value pairs to a dictionary using the `dict()` function.\n",
    "Dictionaries support indexing, but they do not support slicing. You can access values using keys, and you can also use the `in` operator to check if a key exists in a dictionary. This is useful for checking if a value exists before performing an operation on it. For example, if you want to retrieve a value from a dictionary, you can first check if the key exists using the `in` operator."
   ]
  },
  {
   "cell_type": "code",
   "execution_count": null,
   "metadata": {},
   "outputs": [],
   "source": [
    "empty_dict = {}\n",
    "print(empty_dict)\n",
    "\n",
    "d1 = {\"a\": \"some value\", \"b\": [1, 2, 3, 4]}\n",
    "print(d1)\n",
    "\n",
    "d1[7] = \"an integer\"\n",
    "print(d1)\n",
    "\n",
    "print(d1[\"b\"])"
   ]
  },
  {
   "cell_type": "code",
   "execution_count": null,
   "metadata": {},
   "outputs": [],
   "source": [
    "# check if a dictionary has a key\n",
    "print(\"b\" in d1)\n",
    "print(\"c\" in d1)"
   ]
  },
  {
   "cell_type": "code",
   "execution_count": null,
   "metadata": {},
   "outputs": [],
   "source": [
    "d1[5] = \"some value\"\n",
    "print(d1)\n",
    "d1[\"dummy\"] = \"another value\"\n",
    "print(d1)\n",
    "del d1[5]\n",
    "print(d1)\n",
    "ret = d1.pop(\"dummy\")\n",
    "print(ret)\n",
    "print(d1)"
   ]
  },
  {
   "cell_type": "markdown",
   "metadata": {},
   "source": [
    "Dictionaries record information using key-value pairs. This means that each key in the dictionary maps to a specific value. You can use any immutable type as a key, such as strings, numbers, or tuples. This allows you to create complex data structures using dictionaries.\n",
    "Dictionaries are unordered collections, meaning that the order of the key-value pairs is not guaranteed. This is different from lists and tuples, which are ordered collections. However, you can use the `OrderedDict` class from the `collections` module to create an ordered dictionary if you need to maintain the order of the key-value pairs."
   ]
  },
  {
   "cell_type": "code",
   "execution_count": null,
   "metadata": {},
   "outputs": [],
   "source": [
    "my_keys = list(d1.keys())\n",
    "my_values = list(d1.values())\n",
    "print(my_keys)\n",
    "print(my_values)"
   ]
  },
  {
   "cell_type": "markdown",
   "metadata": {},
   "source": [
    "If you need to interate over both keys and values, you can use the `items()` method. This returns a view object that contains the key-value pairs as tuples. You can then iterate over the view object to access both keys and values. This is useful for processing dictionaries when you need to work with both keys and values simultaneously.\n",
    "You can also use the `keys()` and `values()` methods to get views of the keys and values in the dictionary, respectively. This is useful for accessing only the keys or values without needing to iterate over the entire dictionary. For example, if you only need the keys, you can use `my_dict.keys()` to get a view of the keys in the dictionary."
   ]
  },
  {
   "cell_type": "code",
   "execution_count": null,
   "metadata": {},
   "outputs": [],
   "source": [
    "my_iterate = list(d1.items())\n",
    "print(my_iterate)\n",
    "\n",
    "interation_values = list(range(0, len(my_iterate)))\n",
    "\n",
    "for i in interation_values:\n",
    "    print(my_iterate[i][0], my_iterate[i][1])"
   ]
  },
  {
   "cell_type": "code",
   "execution_count": null,
   "metadata": {},
   "outputs": [],
   "source": [
    "print(d1)\n",
    "\n",
    "d1.update({\"b\": \"foo\", \"c\": 12})\n",
    "print(d1)\n",
    "\n"
   ]
  },
  {
   "cell_type": "markdown",
   "metadata": {},
   "source": [
    "##### Creating dictionaries from sequences"
   ]
  },
  {
   "cell_type": "markdown",
   "metadata": {},
   "source": [
    "Creating dictionaries from sequences is a common operation in Python. You can use the `dict()` function to create a dictionary from a sequence of key-value pairs. This is useful for converting lists or tuples into dictionaries for easier data manipulation.\n",
    "You can also use dictionary comprehensions to create dictionaries from sequences. This allows you to create dictionaries in a more concise and readable way. For example, if you have a list of tuples representing key-value pairs, you can use a dictionary comprehension to create a dictionary from the list."
   ]
  },
  {
   "cell_type": "code",
   "execution_count": null,
   "metadata": {},
   "outputs": [],
   "source": [
    "tuples = zip(range(5), reversed(range(5)))\n",
    "print(tuples)\n",
    "\n",
    "mapping = dict(tuples)\n",
    "print(mapping)"
   ]
  },
  {
   "cell_type": "markdown",
   "metadata": {},
   "source": [
    "##### Default values"
   ]
  },
  {
   "cell_type": "code",
   "execution_count": null,
   "metadata": {},
   "outputs": [],
   "source": [
    "words = [\"apple\", \"bat\", \"bar\", \"atom\", \"book\"]\n",
    "\n",
    "by_letter = {}\n",
    "\n",
    "for word in words:\n",
    "    letter = word[0]\n",
    "    if letter not in by_letter:\n",
    "        by_letter[letter] = [word]\n",
    "    else:\n",
    "        by_letter[letter].append(word)\n",
    "\n",
    "print(by_letter)\n",
    "\n",
    "word = words[0]\n",
    "print(word)\n",
    "print(word[0])"
   ]
  },
  {
   "cell_type": "markdown",
   "metadata": {},
   "source": [
    "The setdefault() method is a useful feature in Python dictionaries. It allows you to set a default value for a key if the key does not exist in the dictionary. This is useful for avoiding `KeyError` exceptions when trying to access a key that may not be present."
   ]
  },
  {
   "cell_type": "code",
   "execution_count": null,
   "metadata": {},
   "outputs": [],
   "source": [
    "words = [\"apple\", \"bat\", \"bar\", \"atom\", \"book\"]\n",
    "\n",
    "by_letter = {}\n",
    "\n",
    "for word in words:\n",
    "    letter = word[0]\n",
    "    by_letter.setdefault(letter, []).append(word)\n",
    "\n",
    "print(by_letter)"
   ]
  },
  {
   "cell_type": "markdown",
   "metadata": {},
   "source": [
    "An alternative way to create dictionaries is to use the `defaultdict` class from the `collections` module. This allows you to create a dictionary with default values for missing keys. This is useful for avoiding `KeyError` exceptions when accessing keys that do not exist in the dictionary."
   ]
  },
  {
   "cell_type": "code",
   "execution_count": null,
   "metadata": {},
   "outputs": [],
   "source": [
    "from collections import defaultdict\n",
    "by_letter = defaultdict(list)\n",
    "\n",
    "print(by_letter)\n",
    "\n",
    "for word in words:\n",
    "    by_letter[word[0]].append(word)\n",
    "    \n",
    "print(by_letter)"
   ]
  },
  {
   "cell_type": "markdown",
   "metadata": {},
   "source": [
    "##### Valid dictionary key types"
   ]
  },
  {
   "cell_type": "code",
   "execution_count": null,
   "metadata": {},
   "outputs": [],
   "source": [
    "print(hash(\"string\"))\n",
    "\n",
    "print(hash((1, 2, (3, 4))))\n",
    "\n",
    "print(hash((1, 2, [3, 4])))  # TypeError: unhashable type: 'list'"
   ]
  },
  {
   "cell_type": "code",
   "execution_count": null,
   "metadata": {},
   "outputs": [],
   "source": [
    "d = {}\n",
    "d[tuple([1, 2, 3])] = 5\n",
    "\n",
    "print(d)"
   ]
  },
  {
   "cell_type": "markdown",
   "metadata": {},
   "source": [
    "#### Set"
   ]
  },
  {
   "cell_type": "markdown",
   "metadata": {},
   "source": [
    "A set is an unordered collection of unique elements. Sets are defined by enclosing the elements in curly braces `{}` or using the `set()` function. Sets are mutable, meaning you can add or remove elements after creation. However, the elements in a set must be immutable types, such as strings, numbers, or tuples."
   ]
  },
  {
   "cell_type": "code",
   "execution_count": null,
   "metadata": {},
   "outputs": [],
   "source": [
    "my_list = [2, 2, 2, 1, 3, 3]\n",
    "\n",
    "print(set(my_list))\n",
    "\n",
    "{2, 2, 2, 1, 3, 3}"
   ]
  },
  {
   "cell_type": "markdown",
   "metadata": {},
   "source": [
    "Sets support mathematical set operations, such as union, intersection, and difference. You can use the `|` operator for union, the `&` operator for intersection, and the `-` operator for difference. This allows you to perform set operations easily and efficiently."
   ]
  },
  {
   "cell_type": "code",
   "execution_count": null,
   "metadata": {},
   "outputs": [],
   "source": [
    "a = {1, 2, 3, 4, 5}\n",
    "b = {3, 4, 5, 6, 7, 8}\n",
    "\n",
    "print(a.union(b))\n",
    "print(a | b)\n",
    "\n",
    "print(a.intersection(b))\n",
    "print(a & b)"
   ]
  },
  {
   "cell_type": "code",
   "execution_count": null,
   "metadata": {},
   "outputs": [],
   "source": [
    "c = a.copy()\n",
    "print(c)\n",
    "\n",
    "c |= b\n",
    "print(c)\n",
    "\n",
    "d = a.copy()\n",
    "print(d)\n",
    "\n",
    "d &= b\n",
    "\n",
    "print(d)"
   ]
  },
  {
   "cell_type": "markdown",
   "metadata": {},
   "source": [
    "Like dictionary keys, set elements must be immutable types. This means that you cannot use lists or dictionaries as elements in a set. However, you can use tuples as elements in a set, as long as the tuples contain only immutable types. This allows you to create complex data structures using sets and tuples."
   ]
  },
  {
   "cell_type": "code",
   "execution_count": null,
   "metadata": {},
   "outputs": [],
   "source": [
    "my_data = [1, 2, 3, 4, 5]\n",
    "\n",
    "my_set = {tuple(my_data)}\n",
    "\n",
    "print(my_set)"
   ]
  },
  {
   "cell_type": "markdown",
   "metadata": {},
   "source": [
    "We can also check to see if a set is a subset of another set using the `issubset()` method. This is useful for checking if one set is contained within another set. For example, if you have two sets and you want to check if one is a subset of the other, you can use `set1.issubset(set2)` to check this. We can also see if a set is a superset of another set using the `issuperset()` method. This is useful for checking if one set contains all elements of another set. For example, if you have two sets and you want to check if one is a superset of the other, you can use `set1.issuperset(set2)` to check this."
   ]
  },
  {
   "cell_type": "code",
   "execution_count": null,
   "metadata": {},
   "outputs": [],
   "source": [
    "a_set = {1, 2, 3, 4, 5}\n",
    "\n",
    "aa = {1, 2, 3}\n",
    "\n",
    "print(aa.issubset(a_set))\n",
    "print(a_set.issuperset(aa))"
   ]
  },
  {
   "cell_type": "code",
   "execution_count": null,
   "metadata": {},
   "outputs": [],
   "source": [
    "# check to see if sets are equal\n",
    "\n",
    "{1, 2, 3} == {3, 2, 1}"
   ]
  },
  {
   "cell_type": "markdown",
   "metadata": {},
   "source": [
    "#### Built_In Sequence Functions"
   ]
  },
  {
   "cell_type": "markdown",
   "metadata": {},
   "source": [
    "##### enumerate"
   ]
  },
  {
   "cell_type": "markdown",
   "metadata": {},
   "source": [
    "The enumerate() function is a built-in function in Python that allows you to iterate over a sequence while keeping track of the index of each element. This is useful for situations where you need both the index and the value of each element in the sequence. The enumerate() function returns an iterator that produces pairs of index and value."
   ]
  },
  {
   "cell_type": "code",
   "execution_count": null,
   "metadata": {},
   "outputs": [],
   "source": [
    "print(my_data)\n",
    "\n",
    "index = 0\n",
    "for value in my_data:\n",
    "    index += 1\n",
    "    print(index)\n",
    "\n",
    "print(list(enumerate(my_data)))"
   ]
  },
  {
   "cell_type": "markdown",
   "metadata": {},
   "source": [
    "##### Sorted"
   ]
  },
  {
   "cell_type": "markdown",
   "metadata": {},
   "source": [
    "The sorted function is a built-in function in Python that allows you to sort a sequence. It returns a new sorted list from the elements of any iterable. The sorted() function does not modify the original sequence, making it useful for creating sorted copies of sequences without altering the original data."
   ]
  },
  {
   "cell_type": "code",
   "execution_count": null,
   "metadata": {},
   "outputs": [],
   "source": [
    "my_list = [7, 1, 2, 6, 0, 3, 2]\n",
    "print(sorted(my_list))\n",
    "\n",
    "print(sorted(\"horse race\"))"
   ]
  },
  {
   "cell_type": "markdown",
   "metadata": {},
   "source": [
    "##### zip"
   ]
  },
  {
   "cell_type": "markdown",
   "metadata": {},
   "source": [
    "The zip() function is a built-in function in Python that allows you to combine multiple sequences into a single sequence of tuples. Each tuple contains elements from the input sequences at the same index. This is useful for iterating over multiple sequences simultaneously or for creating dictionaries from two lists."
   ]
  },
  {
   "cell_type": "code",
   "execution_count": null,
   "metadata": {},
   "outputs": [],
   "source": [
    "seq1 = [\"foo\", \"bar\", \"baz\"]\n",
    "seq2 = [\"one\", \"two\", \"three\"]\n",
    "\n",
    "zipped = zip(seq1, seq2)\n",
    "\n",
    "list(zipped)"
   ]
  },
  {
   "cell_type": "markdown",
   "metadata": {},
   "source": [
    "Zip can take an aribtrary number of sequences. This means that you can combine any number of sequences into a single sequence of tuples. For example, if you have three lists and you want to combine them into a single list of tuples, you can use `zip(list1, list2, list3)` to do so. This creates a new list of tuples where each tuple contains elements from the three lists at the same index."
   ]
  },
  {
   "cell_type": "code",
   "execution_count": null,
   "metadata": {},
   "outputs": [],
   "source": [
    "seq3 = [False, True]\n",
    "\n",
    "list(zip(seq1, seq2, seq3))"
   ]
  },
  {
   "cell_type": "markdown",
   "metadata": {},
   "source": [
    "A common use of zip is simulatneously interating over multiple sequwnces. This is useful for situations where you need to process multiple sequences together. For example, if you have two lists representing x and y coordinates, you can use `zip(x_coords, y_coords)` to iterate over both lists simultaneously. This allows you to access both x and y coordinates at the same time without needing to use indexing."
   ]
  },
  {
   "cell_type": "code",
   "execution_count": null,
   "metadata": {},
   "outputs": [],
   "source": [
    "for index, (a, b) in enumerate(zip(seq1, seq2)):\n",
    "    print(index, a, b)"
   ]
  },
  {
   "cell_type": "markdown",
   "metadata": {},
   "source": [
    "#### List, Set, and Dictionary Comprehensions"
   ]
  },
  {
   "cell_type": "code",
   "execution_count": null,
   "metadata": {},
   "outputs": [],
   "source": [
    "# Using a for loop\n",
    "\n",
    "result = []\n",
    "for value in my_data:\n",
    "    result.append(value ** 2)\n",
    "print(result)  "
   ]
  },
  {
   "cell_type": "code",
   "execution_count": null,
   "metadata": {},
   "outputs": [],
   "source": [
    "strings = [\"a\", \"as\", \"bat\", \"car\", \"dove\", \"python\"]\n",
    "[x.upper() for x in strings if len(x) > 2]"
   ]
  },
  {
   "cell_type": "code",
   "execution_count": null,
   "metadata": {},
   "outputs": [],
   "source": [
    "unique_lengths = {len(x) for x in strings}\n",
    "print(unique_lengths)\n",
    "\n",
    "mapped_lengths = set(map(len, strings))\n",
    "\n",
    "print(mapped_lengths)\n",
    "\n",
    "local_mapping = {value: index for index, value in enumerate(strings)}\n",
    "print(local_mapping)"
   ]
  },
  {
   "cell_type": "markdown",
   "metadata": {},
   "source": [
    "##### Nested list comprehensions"
   ]
  },
  {
   "cell_type": "code",
   "execution_count": null,
   "metadata": {},
   "outputs": [],
   "source": [
    "all_data = [[\"John\", \"Emily\", \"Michael\", \"Mary\", \"Steven\"],\n",
    "            [\"Maria\", \"Juan\", \"Javier\", \"Natalia\", \"Pilar\"]]\n",
    "\n",
    "print(all_data)\n",
    "print(all_data[0])\n",
    "print(all_data[1])"
   ]
  },
  {
   "cell_type": "code",
   "execution_count": null,
   "metadata": {},
   "outputs": [],
   "source": [
    "# using a for loop\n",
    "names_of_interest = []\n",
    "\n",
    "for names in all_data:\n",
    "    enough_as = [name for name in names if name.count(\"a\") >= 2]\n",
    "    names_of_interest.extend(enough_as)\n",
    "print(names_of_interest)"
   ]
  },
  {
   "cell_type": "code",
   "execution_count": null,
   "metadata": {},
   "outputs": [],
   "source": [
    "result = [name for names in all_data for name in names\n",
    "           if name.count(\"a\") >= 2]\n",
    "print(result)"
   ]
  },
  {
   "cell_type": "code",
   "execution_count": null,
   "metadata": {},
   "outputs": [],
   "source": [
    "# flatten a list of tuples\n",
    "\n",
    "some_tuples = [(1, 2, 3), (4, 5, 6), (7, 8, 9)]\n",
    "print(some_tuples)\n",
    "\n",
    "flattened = [x for tup in some_tuples for x in tup]\n",
    "print(flattened)\n",
    "\n",
    "flattened = []\n",
    "for tup in some_tuples:\n",
    "    for x in tup:\n",
    "        flattened.append(x)\n",
    "print(flattened)"
   ]
  },
  {
   "cell_type": "code",
   "execution_count": null,
   "metadata": {},
   "outputs": [],
   "source": [
    "# produce a list of lists\n",
    "\n",
    "[[x for x in tup] for tup in some_tuples]"
   ]
  },
  {
   "cell_type": "markdown",
   "metadata": {},
   "source": [
    "## 3.2 Functions"
   ]
  },
  {
   "cell_type": "markdown",
   "metadata": {},
   "source": [
    "Functions are a fundamental part of Python programming. They allow you to encapsulate code into reusable blocks, making your code more organized and easier to read. Functions can take arguments, return values, and be called from anywhere in your code.\n",
    "Functions are defined using the `def` keyword, followed by the function name and parentheses containing any parameters. The function body is indented and contains the code that will be executed when the function is called. You can also use the `return` statement to return a value from a function.\n"
   ]
  },
  {
   "cell_type": "code",
   "execution_count": null,
   "metadata": {},
   "outputs": [],
   "source": [
    "def my_function(x, y):\n",
    "    return x + y\n",
    "\n",
    "print(my_function(1, 2))\n",
    "\n",
    "result = my_function(1, 2)\n",
    "print(result)"
   ]
  },
  {
   "cell_type": "code",
   "execution_count": null,
   "metadata": {},
   "outputs": [],
   "source": [
    "def function_without_return(x):\n",
    "    print(x)\n",
    "\n",
    "result = function_without_return(\"Hello World!\")\n",
    "print(result)  # None"
   ]
  },
  {
   "cell_type": "markdown",
   "metadata": {},
   "source": [
    "Functions can have positional and keyword arguments. Positional arguments are passed to the function in the order they are defined, while keyword arguments are passed using the parameter name. This allows you to specify only the arguments you want to provide, making your code more flexible and easier to read.\n",
    "You can also use default arguments to provide default values for parameters. This allows you to call the function without providing all arguments, making it more flexible. For example, if you have a function that takes two parameters and you want to provide a default value for the second parameter, you can define it as `def my_function(param1, param2=default_value)`. This allows you to call the function with just one argument if desired."
   ]
  },
  {
   "cell_type": "code",
   "execution_count": null,
   "metadata": {},
   "outputs": [],
   "source": [
    "def my_function2(x, y, z = 1.5):\n",
    "    if z > 1:\n",
    "        return z * (x + y)\n",
    "    else:\n",
    "        return z / (x + y)\n",
    "    \n",
    "print(my_function2(5, 6, z = 0.7))\n",
    "print(my_function2(3.14, 7, 3.5))\n",
    "print(my_function2(10, 20))"
   ]
  },
  {
   "cell_type": "markdown",
   "metadata": {},
   "source": [
    "### Namespaces, Scope, and Local Functions"
   ]
  },
  {
   "cell_type": "markdown",
   "metadata": {},
   "source": [
    "Namespaces are a way to organize and manage the names of variables, functions, and other objects in Python. Each namespace is a mapping from names to objects, allowing you to avoid naming conflicts and keep your code organized. Python has several built-in namespaces, including the global namespace, local namespace, and built-in namespace.\n",
    "The global namespace is the top-level namespace that contains all global variables and functions. The local namespace is created when a function is called and contains all local variables and functions defined within that function. The built-in namespace contains all built-in functions and objects provided by Python."
   ]
  },
  {
   "cell_type": "code",
   "execution_count": null,
   "metadata": {},
   "outputs": [],
   "source": [
    "def func():\n",
    "    a = []\n",
    "    for i in range(5):\n",
    "        a.append(i)\n",
    "\n",
    "example = func()\n",
    "print(example)\n",
    "\n",
    "a = []\n",
    "\n",
    "def func():\n",
    "    for i in range(5):\n",
    "        a.append(i)\n",
    "\n",
    "func()\n",
    "print(a)\n",
    "\n",
    "func()\n",
    "print(a)"
   ]
  },
  {
   "cell_type": "code",
   "execution_count": null,
   "metadata": {},
   "outputs": [],
   "source": [
    "a = None\n",
    "\n",
    "def bind_a_variable():\n",
    "    global a\n",
    "    a = []\n",
    "\n",
    "bind_a_variable()\n",
    "print(a)"
   ]
  },
  {
   "cell_type": "markdown",
   "metadata": {},
   "source": [
    "### Return Multiple Values"
   ]
  },
  {
   "cell_type": "code",
   "execution_count": null,
   "metadata": {},
   "outputs": [],
   "source": [
    "def f():\n",
    "    a = 5\n",
    "    b = 6\n",
    "    c = 7\n",
    "    return a, b, c\n",
    "\n",
    "a, b, c = f()\n",
    "print(a)\n",
    "print(b)\n",
    "print(c)\n",
    "\n",
    "return_value = f()\n",
    "print(return_value)"
   ]
  },
  {
   "cell_type": "code",
   "execution_count": null,
   "metadata": {},
   "outputs": [],
   "source": [
    "# return a dictionary\n",
    "\n",
    "def f():\n",
    "    a = 5\n",
    "    b = 6\n",
    "    c = 7\n",
    "    return {\"a\": a, \"b\": b, \"c\": c}\n",
    "\n",
    "f()"
   ]
  },
  {
   "cell_type": "markdown",
   "metadata": {},
   "source": [
    "### Functions Are Objects"
   ]
  },
  {
   "cell_type": "code",
   "execution_count": null,
   "metadata": {},
   "outputs": [],
   "source": [
    "states = [\"   Alabama \", \"Georgia!\", \"Georgia\", \"georgia\", \"FlOrIda\",\n",
    "          \"south   carolina##\", \"West virginia?\"]\n",
    "\n",
    "print(states)"
   ]
  },
  {
   "cell_type": "code",
   "execution_count": null,
   "metadata": {},
   "outputs": [],
   "source": [
    "import re\n",
    "\n",
    "def clean_strings(strings):\n",
    "    result = []\n",
    "    for value in strings:\n",
    "        value = value.strip()\n",
    "        value = re.sub(\"[!#?]\", \"\", value)\n",
    "        value = value.title()\n",
    "        result.append(value)\n",
    "    return result\n",
    "\n",
    "clean_strings(states)"
   ]
  },
  {
   "cell_type": "code",
   "execution_count": null,
   "metadata": {},
   "outputs": [],
   "source": [
    "def remove_punctuation(value):\n",
    "    return re.sub(\"[!#?]\", \"\", value)\n",
    "\n",
    "clean_ops = [str.strip, remove_punctuation, str.title]\n",
    "\n",
    "def clean_strings(strings, ops):\n",
    "    result = []\n",
    "    for value in strings:\n",
    "        for func in ops:\n",
    "            value = func(value)\n",
    "        result.append(value)\n",
    "    return result\n",
    "\n",
    "clean_strings(states, clean_ops)"
   ]
  },
  {
   "cell_type": "code",
   "execution_count": null,
   "metadata": {},
   "outputs": [],
   "source": [
    "for x in map(remove_punctuation, states):\n",
    "    print(x)"
   ]
  },
  {
   "cell_type": "markdown",
   "metadata": {},
   "source": [
    "### Anonymous (Lambda) Functions"
   ]
  },
  {
   "cell_type": "markdown",
   "metadata": {},
   "source": [
    "Anonymous function, also known as a lambda function, is a small, unnamed function defined using the `lambda` keyword. Lambda functions are often used for short, throwaway functions that are not needed elsewhere in the code. They can take any number of arguments but can only have one expression. The expression is evaluated and returned when the lambda function is called.\n",
    "Lambda functions are often used in conjunction with higher-order functions, such as `map()`, `filter()`, and `reduce()`. These functions take other functions as arguments and apply them to sequences. Lambda functions are useful for creating small, inline functions that can be passed to these higher-order functions without needing to define a separate named function."
   ]
  },
  {
   "cell_type": "code",
   "execution_count": null,
   "metadata": {},
   "outputs": [],
   "source": [
    "def short_function(x):\n",
    "    return x * 2\n",
    "print(short_function(2))\n",
    "\n",
    "equiv_anon = lambda x: x * 2\n",
    "print(equiv_anon(2))"
   ]
  },
  {
   "cell_type": "code",
   "execution_count": null,
   "metadata": {},
   "outputs": [],
   "source": [
    "def apply_to_list(some_list, func):\n",
    "    return [func(x) for x in some_list]\n",
    "\n",
    "ints = [4, 0, 1, 5, 6]\n",
    "\n",
    "apply_to_list(ints, lambda x: x * 2)"
   ]
  },
  {
   "cell_type": "code",
   "execution_count": null,
   "metadata": {},
   "outputs": [],
   "source": [
    "strings = [\"foo\", \"card\", \"bar\", \"aaaa\", \"abab\"]\n",
    "print(strings)\n",
    "\n",
    "strings.sort(key = lambda x: len(set(x)))\n",
    "print(strings)"
   ]
  },
  {
   "cell_type": "markdown",
   "metadata": {},
   "source": [
    "### Generators"
   ]
  },
  {
   "cell_type": "markdown",
   "metadata": {},
   "source": [
    "Generators are a special type of iterator in Python that allow you to create iterators using a simple and concise syntax. Generators are defined using the `yield` keyword, which allows you to produce a sequence of values one at a time, rather than creating the entire sequence at once. This makes generators memory-efficient and suitable for working with large datasets or infinite sequences.\n",
    "Generators are often used in conjunction with the `for` loop to iterate over the values produced by the generator. This allows you to process each value one at a time without needing to create a list or other data structure to hold all the values. This is useful for working with large datasets or infinite sequences, as it allows you to process the data without consuming a lot of memory."
   ]
  },
  {
   "cell_type": "code",
   "execution_count": null,
   "metadata": {},
   "outputs": [],
   "source": [
    "some_dict = {\"a\": 1, \"b\": 2, \"c\": 3}\n",
    "print(some_dict)\n",
    "\n",
    "for key in some_dict:\n",
    "    print(key)"
   ]
  },
  {
   "cell_type": "code",
   "execution_count": null,
   "metadata": {},
   "outputs": [],
   "source": [
    "dict_iterator = iter(some_dict)\n",
    "print(dict_iterator)\n",
    "list(dict_iterator)"
   ]
  },
  {
   "cell_type": "markdown",
   "metadata": {},
   "source": [
    "A generator expression is a concise way to create a generator without defining a separate function. It uses a similar syntax to list comprehensions but uses parentheses instead of square brackets. This allows you to create generators in a more readable and concise way.\n",
    "Generator expressions are often used in conjunction with higher-order functions, such as `map()`, `filter()`, and `reduce()`. This allows you to create generators that can be processed using these functions without needing to define a separate generator function. This is useful for creating small, inline generators that can be passed to these higher-order functions without needing to define a separate named function.\n",
    "With a generator function we use the yield keyword to produce a value. This allows us to create a generator that can be iterated over using a for loop or other iterator methods. The yield keyword allows us to produce a value and pause the execution of the function, allowing us to resume later. This is useful for creating generators that can produce values on demand without needing to create a list or other data structure to hold all the values.\n",
    "The yield keyword allows us to produce a value and pause the execution of the function, allowing us to resume later. This is useful for creating generators that can produce values on demand without needing to create a list or other data structure to hold all the values."
   ]
  },
  {
   "cell_type": "code",
   "execution_count": null,
   "metadata": {},
   "outputs": [],
   "source": [
    "def squares(n = 10):\n",
    "    print(f\"Generating squares from 1 to {n ** 2}\")\n",
    "    for i in range(1, n + 1):\n",
    "        yield i ** 2\n",
    "\n",
    "gen = squares(20)\n",
    "print(gen)\n",
    "\n",
    "for x in gen:\n",
    "    print(x, end = \" \")"
   ]
  },
  {
   "cell_type": "markdown",
   "metadata": {},
   "source": [
    "#### Generator expressions"
   ]
  },
  {
   "cell_type": "markdown",
   "metadata": {},
   "source": [
    "Generator expressions are a concise way to create generators without defining a separate function. They use a similar syntax to list comprehensions but use parentheses instead of square brackets. This allows you to create generators in a more readable and concise way.\n",
    "Generator expressions are often used in conjunction with higher-order functions, such as `map()`, `filter()`, and `reduce()`. This allows you to create generators that can be processed using these functions without needing to define a separate generator function. This is useful for creating small, inline generators that can be passed to these higher-order functions without needing to define a separate named function."
   ]
  },
  {
   "cell_type": "code",
   "execution_count": null,
   "metadata": {},
   "outputs": [],
   "source": [
    "gen = (x ** 2 for x in range(100))\n",
    "\n",
    "print(gen)"
   ]
  },
  {
   "cell_type": "code",
   "execution_count": null,
   "metadata": {},
   "outputs": [],
   "source": [
    "# more verbose\n",
    "\n",
    "def _make_gen():\n",
    "    for x in range(100):\n",
    "        yield x ** 2\n",
    "gen = _make_gen()\n",
    "print(gen)"
   ]
  },
  {
   "cell_type": "code",
   "execution_count": null,
   "metadata": {},
   "outputs": [],
   "source": [
    "sum_of_squares = sum(x ** 2 for x in range(100))\n",
    "print(sum_of_squares)\n",
    "\n",
    "squares_dict = dict((i, i ** 2) for i in range(6))\n",
    "print(squares_dict)\n"
   ]
  },
  {
   "cell_type": "markdown",
   "metadata": {},
   "source": [
    "### itertools module"
   ]
  }
 ],
 "metadata": {
  "kernelspec": {
   "display_name": "Python 3",
   "language": "python",
   "name": "python3"
  },
  "language_info": {
   "codemirror_mode": {
    "name": "ipython",
    "version": 3
   },
   "file_extension": ".py",
   "mimetype": "text/x-python",
   "name": "python",
   "nbconvert_exporter": "python",
   "pygments_lexer": "ipython3",
   "version": "3.13.2"
  }
 },
 "nbformat": 4,
 "nbformat_minor": 2
}
