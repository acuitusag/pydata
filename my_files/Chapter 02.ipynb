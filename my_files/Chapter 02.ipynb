{
 "cells": [
  {
   "cell_type": "markdown",
   "metadata": {},
   "source": [
    "## Chapter 2 Python Language Basics, IPython, and Jupyter Notebooks"
   ]
  },
  {
   "cell_type": "markdown",
   "metadata": {},
   "source": [
    "### 2.1 Python Interpreter"
   ]
  },
  {
   "cell_type": "markdown",
   "metadata": {},
   "source": [
    "When we start up a Jupyter notebook, we are using an IPython kernel. This kernel is a Python interpreter that allows us to execute Python code interactively. The IPython kernel is a powerful tool for data analysis and scientific computing. We need to make sure that we choose the correct kernel for our notebook. If we are using Python 3, we should choose the Python 3 kernel.\n"
   ]
  },
  {
   "cell_type": "code",
   "execution_count": null,
   "metadata": {},
   "outputs": [],
   "source": [
    "a = 5\n",
    "print(a)\n",
    "print(\"Hello, World!\")"
   ]
  },
  {
   "cell_type": "markdown",
   "metadata": {},
   "source": [
    "### 2.2 IPython Basics"
   ]
  },
  {
   "cell_type": "code",
   "execution_count": null,
   "metadata": {},
   "outputs": [],
   "source": [
    "import numpy as np\n",
    "import pandas as pd\n",
    "data = [np.random.standard_normal() for i in range (10)]\n",
    "print(data)\n",
    "dataframe = pd.DataFrame(data, columns=['Random Numbers'])\n",
    "dataframe"
   ]
  },
  {
   "cell_type": "markdown",
   "metadata": {},
   "source": [
    "An big advantage of and IDE is tab completion. This allows us to quickly complete variable names and function names by typing the first few letters and then pressing the tab key. This can save us a lot of time when we are working with large codebases."
   ]
  },
  {
   "cell_type": "code",
   "execution_count": null,
   "metadata": {},
   "outputs": [],
   "source": [
    "an_apple = 27\n",
    "an_example = 42\n",
    "\n",
    "an_apple += 1\n",
    "an_apple\n",
    "\n",
    "b = [1, 2, 3]\n",
    "b.count(1)"
   ]
  },
  {
   "cell_type": "markdown",
   "metadata": {},
   "source": [
    "Tab also works for modules. If we type `import numpy as np` and then type `np.` and press the tab key, we will see a list of all the functions and variables in the numpy module. This can be very helpful when we are trying to remember the names of functions or variables."
   ]
  },
  {
   "cell_type": "code",
   "execution_count": null,
   "metadata": {},
   "outputs": [],
   "source": [
    "import datetime\n",
    "datetime.datetime.now()"
   ]
  },
  {
   "cell_type": "code",
   "execution_count": null,
   "metadata": {},
   "outputs": [],
   "source": [
    "def func_with_keywords(abra = 1, abbra = 2, abbbra = 3, abbbbra = 4):\n",
    "    return abra, abbra, abbbra, abbbbra\n",
    "\n",
    "print(func_with_keywords(abra = 1, abbra = 2, abbbra = 3, abbbbra = 4))\n",
    "print(func_with_keywords(abra = 2, abbra = 3, abbbra = 4, abbbbra = 1))"
   ]
  },
  {
   "cell_type": "markdown",
   "metadata": {},
   "source": [
    "We can find out about an object by using introspection. If we type `np.array?` and press the enter key, we will see a description of the array function in the numpy module. This can be very helpful when we are trying to understand how a function works.\n",
    "We can also use the `help` function to get more information about an object. If we type `help(np.array)` and press the enter key, we will see a detailed description of the array function in the numpy module. This can be very helpful when we are trying to understand how a function works."
   ]
  },
  {
   "cell_type": "code",
   "execution_count": null,
   "metadata": {},
   "outputs": [],
   "source": [
    "b = [1, 2, 3]\n",
    "b?"
   ]
  },
  {
   "cell_type": "code",
   "execution_count": null,
   "metadata": {},
   "outputs": [],
   "source": [
    "print?"
   ]
  },
  {
   "cell_type": "code",
   "execution_count": null,
   "metadata": {},
   "outputs": [],
   "source": [
    "def add_numbers(a, b):\n",
    "    \"\"\"\n",
    "    Add two numbers together\n",
    "\n",
    "    Returns\n",
    "    -------\n",
    "    the_sum : type of arguments\n",
    "    \"\"\"\n",
    "    return a + b\n",
    "\n",
    "add_numbers?"
   ]
  },
  {
   "cell_type": "code",
   "execution_count": null,
   "metadata": {},
   "outputs": [],
   "source": [
    "import numpy as np\n",
    "np.*load*?\n"
   ]
  },
  {
   "cell_type": "markdown",
   "metadata": {},
   "source": [
    "### 2.3 Python Language Basics"
   ]
  },
  {
   "cell_type": "markdown",
   "metadata": {},
   "source": [
    "Language Semantics. The Python language design is distinguished by its emphasis on readability and simplicity. Python code is often described as being \"executable pseudocode\" because it is easy to read and understand. This makes Python a great language for beginners and experienced programmers alike.\n",
    "Python is an interpreted language, which means that it is executed line by line. This allows us to quickly test and debug our code. Python also has a large standard library that provides many useful functions and modules for data analysis and scientific computing."
   ]
  },
  {
   "cell_type": "markdown",
   "metadata": {},
   "source": [
    "#### Language Semantics"
   ]
  },
  {
   "cell_type": "markdown",
   "metadata": {},
   "source": [
    "##### Indentation, not braces"
   ]
  },
  {
   "cell_type": "markdown",
   "metadata": {},
   "source": [
    "In python, indentation is very important. Python uses indentation to define blocks of code. This makes the code more readable and helps to avoid errors. We should always use four spaces for indentation in Python. We should never mix tabs and spaces in our code. In Python, whitespace is significant. This means that we should be careful when using spaces and tabs in our code. We should always use spaces for indentation and never mix tabs and spaces."
   ]
  },
  {
   "cell_type": "markdown",
   "metadata": {},
   "source": [
    "In Microsoft VS Code, we comment out code using the keyboard shortcut Ctrl + /."
   ]
  },
  {
   "cell_type": "markdown",
   "metadata": {},
   "source": [
    "Functions and methods in Python are closely related concepts, but they have some key differences:\n",
    "\n",
    "- **Functions**: Functions are defined using the `def` keyword and can be called independently. They are not associated with any object. Functions can take arguments, perform operations, and return values. They are defined at the module level.\n",
    "\n",
    "    ```python\n",
    "    def my_function(x):\n",
    "            return x + 1\n",
    "\n",
    "    result = my_function(5)\n",
    "    print(result)  # Output: 6\n",
    "    ```\n",
    "\n",
    "- **Methods**: Methods are functions that are associated with an object. They are defined within a class and operate on instances of that class. Methods can access and modify the object's attributes. There are two main types of methods: instance methods and class methods.\n",
    "\n",
    "    ```python\n",
    "    class MyClass:\n",
    "            def __init__(self, value):\n",
    "                    self.value = value\n",
    "\n",
    "            def instance_method(self):\n",
    "                    return self.value + 1\n",
    "\n",
    "    obj = MyClass(5)\n",
    "    result = obj.instance_method()\n",
    "    print(result)  # Output: 6\n",
    "    ```\n",
    "\n",
    "In summary, while both functions and methods perform operations and can return values, methods are functions that are bound to objects and can access and modify the object's state."
   ]
  },
  {
   "cell_type": "markdown",
   "metadata": {},
   "source": [
    "Functions can take both positional and keyword arguments. Positional arguments are passed based on their position in the function call, while keyword arguments are passed by specifying the parameter name. Keyword arguments are useful when we want to specify only certain arguments and use default values for the rest.\n",
    "\n",
    "```python\n",
    "def my_function(x, y, z=1):\n",
    "        return x + y + z"
   ]
  },
  {
   "cell_type": "markdown",
   "metadata": {},
   "source": [
    "##### Variables an argument passing"
   ]
  },
  {
   "cell_type": "code",
   "execution_count": null,
   "metadata": {},
   "outputs": [],
   "source": [
    "a = [1, 2, 3]\n",
    "b = a\n",
    "print (b)\n",
    "a.append(4)\n",
    "print (b)\n",
    "a is b"
   ]
  },
  {
   "cell_type": "code",
   "execution_count": null,
   "metadata": {},
   "outputs": [],
   "source": [
    "def append_element(some_list, element):\n",
    "    some_list.append(element)\n",
    "\n",
    "data = [1, 2, 3]\n",
    "append_element(data, 4)\n",
    "print(data)\n"
   ]
  },
  {
   "cell_type": "markdown",
   "metadata": {},
   "source": [
    "##### Dynamic references, strong types\n",
    "\n",
    "Variables in Python have no inherent type, and we can assign any value to a variable. The type of a variable is determined by the value it references. This is known as dynamic typing. For example, we can assign an integer value to a variable and then assign a string value to the same variable."
   ]
  },
  {
   "cell_type": "code",
   "execution_count": null,
   "metadata": {},
   "outputs": [],
   "source": [
    "a = 5\n",
    "print(type(a))\n",
    "a = 'foo'\n",
    "print(type(a))"
   ]
  },
  {
   "cell_type": "markdown",
   "metadata": {},
   "source": [
    "Python is a typed language. This means that every object has a specific type. For example, an integer is a different type than a string. Python is also a strongly typed language. Python uses dyanmic typing, which means that the type of a variable is determined at runtime. This is different from static typing, where the type of a variable is determined at compile time. Python is also a strongly typed language, which means that we cannot perform operations on objects of different types. For example, we cannot add an integer and a string in Python. We will get a TypeError if we try to do this."
   ]
  },
  {
   "cell_type": "code",
   "execution_count": null,
   "metadata": {},
   "outputs": [],
   "source": [
    "\"5\" + 5"
   ]
  },
  {
   "cell_type": "markdown",
   "metadata": {},
   "source": [
    "Some implicit conversions are possible in Python. For example, we can add an integer and a float, and Python will automatically convert the integer to a float before performing the addition. This is known as implicit type conversion. However, we cannot add an integer and a string in Python. We will get a TypeError if we try to do this."
   ]
  },
  {
   "cell_type": "code",
   "execution_count": null,
   "metadata": {},
   "outputs": [],
   "source": [
    "a = 4.5\n",
    "b = 2\n",
    "c = a / b\n",
    "\n",
    "print(f\"a is {type(a)}, b is {type(b)}, and a / b is {type(a / b)}\")"
   ]
  },
  {
   "cell_type": "markdown",
   "metadata": {},
   "source": [
    "Sometimes we might want to create a Boolean based on type by using the isinstance function. For example, we can use the isinstance function to check if a variable is an integer. This can be useful when we want to perform different operations based on the type of a variable."
   ]
  },
  {
   "cell_type": "code",
   "execution_count": null,
   "metadata": {},
   "outputs": [],
   "source": [
    "a = 5\n",
    "b = 4.5\n",
    "\n",
    "print(isinstance(a, int))\n",
    "print(isinstance(a, (int, float)))\n",
    "print(isinstance(b, (int, float)))\n"
   ]
  },
  {
   "cell_type": "markdown",
   "metadata": {},
   "source": [
    "##### Attributes and methods"
   ]
  },
  {
   "cell_type": "code",
   "execution_count": null,
   "metadata": {},
   "outputs": [],
   "source": [
    "a = \"foo\"\n",
    "\n",
    "dir(a)\n",
    "a. # press tab to see the list of methods"
   ]
  },
  {
   "cell_type": "markdown",
   "metadata": {},
   "source": [
    "##### Duck typing\n",
    "\n",
    "Duck typing is a concept in Python that emphasizes the importance of an object's behavior over its type. The idea is that if an object behaves like a duck (i.e., it quacks like a duck and walks like a duck), then it is a duck. In Python, this means that we can use an object if it supports the required behavior, regardless of its type. This allows for more flexible and dynamic code."
   ]
  },
  {
   "cell_type": "code",
   "execution_count": 28,
   "metadata": {},
   "outputs": [
    {
     "name": "stdout",
     "output_type": "stream",
     "text": [
      "True\n",
      "True\n",
      "False\n"
     ]
    }
   ],
   "source": [
    "def isiterable(obj):\n",
    "    try:\n",
    "        iter(obj)\n",
    "        return True\n",
    "    except TypeError: # not iterable\n",
    "        return False\n",
    "\n",
    "print(isiterable('a string'))\n",
    "print(isiterable([1, 2, 3]))\n",
    "print(isiterable(5))"
   ]
  },
  {
   "cell_type": "markdown",
   "metadata": {},
   "source": [
    "##### Imports"
   ]
  },
  {
   "cell_type": "code",
   "execution_count": null,
   "metadata": {},
   "outputs": [],
   "source": [
    "import some_module\n",
    "result = some_module.f(5)\n",
    "pi = some_module.PI\n",
    "\n",
    "print(f\"result is {result}, pi is {pi}\")"
   ]
  },
  {
   "cell_type": "code",
   "execution_count": null,
   "metadata": {},
   "outputs": [],
   "source": [
    "from some_module import g, PI\n",
    "result = g(5, PI)\n",
    "\n",
    "print(result)"
   ]
  },
  {
   "cell_type": "code",
   "execution_count": null,
   "metadata": {},
   "outputs": [],
   "source": [
    "import some_module as sm\n",
    "from some_module import PI as pi, g as gf\n",
    "\n",
    "r1 = sm.f(pi)\n",
    "r2 = gf(6, pi)\n",
    "\n",
    "print(f\"r1 is {r1}, r2 is {r2}\")"
   ]
  },
  {
   "cell_type": "markdown",
   "metadata": {},
   "source": [
    "##### Binary operators and comparisons"
   ]
  },
  {
   "cell_type": "code",
   "execution_count": null,
   "metadata": {},
   "outputs": [],
   "source": [
    "print(5 - 7)\n",
    "print(12 + 21.5)\n",
    "5 <= 2"
   ]
  },
  {
   "cell_type": "markdown",
   "metadata": {},
   "source": [
    "Check to see if two variables refer to the same object using the is operator. For example, we can use the is operator to check if two variables refer to the same list object. This can be useful when we want to check if two variables are aliases for the same object."
   ]
  },
  {
   "cell_type": "code",
   "execution_count": null,
   "metadata": {},
   "outputs": [],
   "source": [
    "a = [1, 2, 3]\n",
    "b = a\n",
    "c = list(a)\n",
    "print(a is b)\n",
    "print(a is not c)\n",
    "print(a == c)"
   ]
  },
  {
   "cell_type": "markdown",
   "metadata": {},
   "source": [
    "A common use for is and is not is to check if a variable is None. For example, we can use the is operator to check if a variable is None. This can be useful when we want to check if a variable has been assigned a value."
   ]
  },
  {
   "cell_type": "code",
   "execution_count": null,
   "metadata": {},
   "outputs": [],
   "source": [
    "a = None\n",
    "a is None"
   ]
  },
  {
   "cell_type": "markdown",
   "metadata": {},
   "source": [
    "##### Mutable and immutable objects"
   ]
  },
  {
   "cell_type": "markdown",
   "metadata": {},
   "source": [
    "A mutable object in Python is an object whose value can be changed after it is created. A mutable object can be modified in place, which means that the object itself is changed. For example, a list is a mutable object because we can change the elements of the list after it is created."
   ]
  },
  {
   "cell_type": "code",
   "execution_count": null,
   "metadata": {},
   "outputs": [],
   "source": [
    "a_list = ['foo', 2, [4, 5]]\n",
    "print(a_list[2])\n",
    "a_list"
   ]
  },
  {
   "cell_type": "markdown",
   "metadata": {},
   "source": [
    "Strings and tuples are immutable objects in Python. An immutable object is an object whose value cannot be changed after it is created. If we try to change the value of an immutable object, Python will create a new object with the new value. For example, a string is an immutable object because we cannot change the characters of the string after it is created."
   ]
  },
  {
   "cell_type": "code",
   "execution_count": 27,
   "metadata": {},
   "outputs": [
    {
     "ename": "TypeError",
     "evalue": "'tuple' object does not support item assignment",
     "output_type": "error",
     "traceback": [
      "\u001b[31m---------------------------------------------------------------------------\u001b[39m",
      "\u001b[31mTypeError\u001b[39m                                 Traceback (most recent call last)",
      "\u001b[36mCell\u001b[39m\u001b[36m \u001b[39m\u001b[32mIn[27]\u001b[39m\u001b[32m, line 2\u001b[39m\n\u001b[32m      1\u001b[39m a_type = (\u001b[32m3\u001b[39m, \u001b[32m4\u001b[39m, (\u001b[32m4\u001b[39m, \u001b[32m5\u001b[39m))\n\u001b[32m----> \u001b[39m\u001b[32m2\u001b[39m \u001b[43ma_type\u001b[49m\u001b[43m[\u001b[49m\u001b[32;43m2\u001b[39;49m\u001b[43m]\u001b[49m = \u001b[33m'\u001b[39m\u001b[33mfour\u001b[39m\u001b[33m'\u001b[39m\n",
      "\u001b[31mTypeError\u001b[39m: 'tuple' object does not support item assignment"
     ]
    }
   ],
   "source": [
    "a_type = (3, 4, (4, 5))\n",
    "a_type[2] = 'four'"
   ]
  },
  {
   "cell_type": "markdown",
   "metadata": {},
   "source": [
    "#### Scalar types"
   ]
  }
 ],
 "metadata": {
  "kernelspec": {
   "display_name": "Python 3",
   "language": "python",
   "name": "python3"
  },
  "language_info": {
   "codemirror_mode": {
    "name": "ipython",
    "version": 3
   },
   "file_extension": ".py",
   "mimetype": "text/x-python",
   "name": "python",
   "nbconvert_exporter": "python",
   "pygments_lexer": "ipython3",
   "version": "3.13.2"
  }
 },
 "nbformat": 4,
 "nbformat_minor": 2
}
