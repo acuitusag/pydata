{
 "cells": [
  {
   "cell_type": "markdown",
   "id": "b1892357",
   "metadata": {},
   "source": [
    "## Chapter 5: Getting Started with pandas"
   ]
  },
  {
   "cell_type": "code",
   "execution_count": null,
   "id": "ae11cec3",
   "metadata": {},
   "outputs": [],
   "source": [
    "import numpy as np\n",
    "import pandas as pd"
   ]
  },
  {
   "cell_type": "markdown",
   "id": "52eecbbb",
   "metadata": {},
   "source": [
    "### 5.1 Introduction to pandas Data Structures"
   ]
  },
  {
   "cell_type": "markdown",
   "id": "03c624e1",
   "metadata": {},
   "source": [
    "#### Series"
   ]
  },
  {
   "cell_type": "code",
   "execution_count": null,
   "id": "123f0501",
   "metadata": {},
   "outputs": [],
   "source": [
    "obj = pd.Series([4, 7, -5, 3])\n",
    "print(obj)"
   ]
  },
  {
   "cell_type": "code",
   "execution_count": null,
   "id": "92f6fb43",
   "metadata": {},
   "outputs": [],
   "source": [
    "print(obj.array)\n",
    "print(obj.values)\n",
    "print(obj.index)"
   ]
  },
  {
   "cell_type": "markdown",
   "id": "76203b15",
   "metadata": {},
   "source": [
    "Sometimes we want to create a Series with an index that is not just the default integer index. We can do this by passing a list of labels to the `index` parameter when creating the Series. For example, we can create a Series with string labels as follows:"
   ]
  },
  {
   "cell_type": "code",
   "execution_count": null,
   "id": "4942c41d",
   "metadata": {},
   "outputs": [],
   "source": [
    "obj2 = pd.Series([4, 7, -5, 3], index=['d', 'b', 'a', 'c'])\n",
    "print(obj2)\n",
    "print(obj2.values)\n",
    "print(obj2.index)"
   ]
  },
  {
   "cell_type": "markdown",
   "id": "354aa75b",
   "metadata": {},
   "source": [
    "We can use the index values of a Series to access its elements. For example, if we have a Series `s` with index labels 'a', 'b', and 'c', we can access the element with label 'b' using `s['b']`. This will return the value associated with that label."
   ]
  },
  {
   "cell_type": "code",
   "execution_count": null,
   "id": "12bbbe9e",
   "metadata": {},
   "outputs": [],
   "source": [
    "print(obj2['a'])\n",
    "print(obj2[\"d\"])\n",
    "group = ['c', 'a', 'd']\n",
    "print(obj2[group])"
   ]
  },
  {
   "cell_type": "markdown",
   "id": "8f9bc740",
   "metadata": {},
   "source": [
    "We can filter using boolean indexing. For example, if we have a Series `s` and we want to filter it to only include values greater than 2"
   ]
  },
  {
   "cell_type": "code",
   "execution_count": null,
   "id": "ff947a1a",
   "metadata": {},
   "outputs": [],
   "source": [
    "print(obj2[obj2 > 0])\n",
    "print(obj2 * 2)\n",
    "\n",
    "np.exp(obj2)"
   ]
  },
  {
   "cell_type": "markdown",
   "id": "eab4b559",
   "metadata": {},
   "source": [
    "Another way to think about a Series is as a fixed-size dictionary. The index labels are the keys, and the values are the values in the dictionary. This means we can use methods like `get` to access elements by their index labels. For example, `s.get('b')` will return the value associated with the label 'b', or `None` if 'b' is not in the Series."
   ]
  },
  {
   "cell_type": "code",
   "execution_count": null,
   "id": "9c20d6fc",
   "metadata": {},
   "outputs": [],
   "source": [
    "print(\"b\" in obj2)\n",
    "print(\"e\" in obj2)"
   ]
  },
  {
   "cell_type": "code",
   "execution_count": null,
   "id": "5aa12e8a",
   "metadata": {},
   "outputs": [],
   "source": [
    "sdata = {\"Ohio\": 35000, \"Texas\": 71000, \"Oregon\": 16000, \"Utah\": 5000}\n",
    "obj3 = pd.Series(sdata)\n",
    "print(obj3)\n",
    "\n",
    "print(obj3.to_dict())"
   ]
  },
  {
   "cell_type": "code",
   "execution_count": null,
   "id": "cd3597de",
   "metadata": {},
   "outputs": [],
   "source": [
    "states = [\"California\", \"Ohio\", \"Oregon\", \"Texas\"]\n",
    "obj4 = pd.Series(sdata, index=states)\n",
    "print(obj4)\n"
   ]
  },
  {
   "cell_type": "code",
   "execution_count": null,
   "id": "a7c2334a",
   "metadata": {},
   "outputs": [],
   "source": [
    "print(pd.isnull(obj4))\n",
    "print(pd.notnull(obj4))\n",
    "print(obj4.isna())"
   ]
  },
  {
   "cell_type": "code",
   "execution_count": null,
   "id": "1781212d",
   "metadata": {},
   "outputs": [],
   "source": [
    "print(obj3)\n",
    "print(obj4)\n",
    "print(obj3 + obj4)"
   ]
  },
  {
   "cell_type": "markdown",
   "id": "b0cd95ff",
   "metadata": {},
   "source": [
    "Both the Series object itself and its index have a `name` attribute. We can set the name of the Series and its index using the `name` parameter when creating the Series. For example, we can create a Series with the name 'my_series' and an index with the name 'my_index' as follows:"
   ]
  },
  {
   "cell_type": "code",
   "execution_count": null,
   "id": "ef899c77",
   "metadata": {},
   "outputs": [],
   "source": [
    "obj4.name = \"population\"\n",
    "obj4.index.name = \"state\"\n",
    "\n",
    "print(obj4)"
   ]
  },
  {
   "cell_type": "markdown",
   "id": "2c446a40",
   "metadata": {},
   "source": [
    "A Series's index can be altered after the Series is created. For example, we can change the index of a Series `s` to a new list of labels using the `index` attribute:"
   ]
  },
  {
   "cell_type": "code",
   "execution_count": null,
   "id": "7786c814",
   "metadata": {},
   "outputs": [],
   "source": [
    "print(obj)\n",
    "obj.index = [\"Bob\", \"Steve\", \"Jeff\", \"Ryan\"]\n",
    "print(obj)"
   ]
  },
  {
   "cell_type": "markdown",
   "id": "ccffa668",
   "metadata": {},
   "source": [
    "#### DataFrame"
   ]
  },
  {
   "cell_type": "code",
   "execution_count": null,
   "id": "79442c84",
   "metadata": {},
   "outputs": [],
   "source": [
    "data = {\"state\": [\"Ohio\", \"Ohio\", \"Ohio\", \"Nevada\", \"Nevada\", \"Nevada\"],\n",
    "        \"year\": [2000, 2001, 2002, 2001, 2002, 2003],\n",
    "        \"pop\": [1.5, 1.7, 3.6, 2.4, 2.9, 3.2]}\n",
    "frame = pd.DataFrame(data)\n",
    "frame"
   ]
  },
  {
   "cell_type": "code",
   "execution_count": null,
   "id": "c422f37a",
   "metadata": {},
   "outputs": [],
   "source": [
    "frame.head()"
   ]
  },
  {
   "cell_type": "code",
   "execution_count": null,
   "id": "2ebea536",
   "metadata": {},
   "outputs": [],
   "source": [
    "frame.tail(n=2)"
   ]
  },
  {
   "cell_type": "markdown",
   "id": "f74fdc56",
   "metadata": {},
   "source": [
    "Change the order of the columns using the columns attribute."
   ]
  },
  {
   "cell_type": "code",
   "execution_count": null,
   "id": "452218ba",
   "metadata": {},
   "outputs": [],
   "source": [
    "pd.DataFrame(data, columns=[\"year\", \"state\", \"pop\"])"
   ]
  },
  {
   "cell_type": "code",
   "execution_count": null,
   "id": "2d69908e",
   "metadata": {},
   "outputs": [],
   "source": [
    "frame2 = pd.DataFrame(data, columns=[\"year\", \"state\", \"pop\", \"debt\"])\n",
    "frame2"
   ]
  },
  {
   "cell_type": "code",
   "execution_count": null,
   "id": "686d7330",
   "metadata": {},
   "outputs": [],
   "source": [
    "frame2.columns"
   ]
  },
  {
   "cell_type": "code",
   "execution_count": null,
   "id": "7a5c89cb",
   "metadata": {},
   "outputs": [],
   "source": [
    "print(frame2[\"state\"])\n",
    "print(frame2.year)"
   ]
  },
  {
   "cell_type": "markdown",
   "id": "70c9eb86",
   "metadata": {},
   "source": [
    "Rows can be accessed using the `loc` and `iloc` attributes. The `loc` attribute is used for label-based indexing, while the `iloc` attribute is used for position-based indexing. For example, if we have a DataFrame `df`, we can access the first row using `df.iloc[0]` or the row with label 'a' using `df.loc['a']`.\n",
    "We can also filter rows using boolean indexing. For example, if we have a DataFrame `df` and we want to filter it to only include rows where the value in the 'A' column is greater than 2."
   ]
  },
  {
   "cell_type": "code",
   "execution_count": null,
   "id": "e47bb6e9",
   "metadata": {},
   "outputs": [],
   "source": [
    "print(frame2.loc[1])\n",
    "print(frame2.iloc[2])"
   ]
  },
  {
   "cell_type": "code",
   "execution_count": null,
   "id": "afbce719",
   "metadata": {},
   "outputs": [],
   "source": [
    "frame2[\"debt\"] = 16.5\n",
    "frame2"
   ]
  },
  {
   "cell_type": "code",
   "execution_count": null,
   "id": "ea50e35a",
   "metadata": {},
   "outputs": [],
   "source": [
    "nobs = len(frame2)\n",
    "frame2[\"debt\"] = np.arange(nobs)\n",
    "frame2"
   ]
  },
  {
   "cell_type": "code",
   "execution_count": null,
   "id": "28d9dd95",
   "metadata": {},
   "outputs": [],
   "source": [
    "chosen_columns = [\"debt\", \"state\"]\n",
    "frame2[chosen_columns]"
   ]
  },
  {
   "cell_type": "code",
   "execution_count": null,
   "id": "dd5492fd",
   "metadata": {},
   "outputs": [],
   "source": [
    "chosen_rows = [1, 3, 5]\n",
    "frame2.loc[chosen_rows, chosen_columns]"
   ]
  },
  {
   "cell_type": "code",
   "execution_count": null,
   "id": "e97d8eb1",
   "metadata": {},
   "outputs": [],
   "source": [
    "val = pd.Series([-1.2, -1.5, -1.7], index=[2, 4, 5])\n",
    "print(val)\n",
    "frame2[\"debt\"] = val\n",
    "frame2"
   ]
  },
  {
   "cell_type": "code",
   "execution_count": null,
   "id": "8c49a2e1",
   "metadata": {},
   "outputs": [],
   "source": [
    "frame2[\"eastern\"] = frame2.state == \"Ohio\"\n",
    "frame2"
   ]
  },
  {
   "cell_type": "code",
   "execution_count": null,
   "id": "aa42b57f",
   "metadata": {},
   "outputs": [],
   "source": [
    "print(frame2.columns)\n",
    "del frame2[\"eastern\"]\n",
    "frame2.columns"
   ]
  },
  {
   "cell_type": "code",
   "execution_count": null,
   "id": "60dc1432",
   "metadata": {},
   "outputs": [],
   "source": [
    "populations = {\"Ohio\": {2000: 1.5, 2001: 1.7, 2002: 3.6},\n",
    "               \"Nevada\": {2001: 2.4, 2002: 2.9}}\n",
    "\n",
    "frame3 = pd.DataFrame(populations)\n",
    "print(frame3.index)\n",
    "print(frame3.columns)\n",
    "print(frame3.values)\n",
    "frame3\n"
   ]
  },
  {
   "cell_type": "code",
   "execution_count": null,
   "id": "c78eae7d",
   "metadata": {},
   "outputs": [],
   "source": [
    "# the transpose of a DataFrame\n",
    "frame3.T"
   ]
  },
  {
   "cell_type": "code",
   "execution_count": null,
   "id": "ad22171e",
   "metadata": {},
   "outputs": [],
   "source": [
    "pd.DataFrame(populations, index=[2001, 2002, 2003])"
   ]
  },
  {
   "cell_type": "code",
   "execution_count": null,
   "id": "716b217a",
   "metadata": {},
   "outputs": [],
   "source": [
    "print(frame3)\n",
    "pdata = {\"Ohio\": frame3[\"Ohio\"][:-1], \"Nevada\": frame3[\"Nevada\"][:2]}\n",
    "pd.DataFrame(pdata)"
   ]
  },
  {
   "cell_type": "code",
   "execution_count": null,
   "id": "d1e4681d",
   "metadata": {},
   "outputs": [],
   "source": [
    "print(frame3.index)\n",
    "print(frame3.columns)\n",
    "print(frame3.values)\n",
    "\n",
    "frame3.index.name = \"year\"\n",
    "frame3.columns.name = \"state\"\n",
    "print(frame3)\n",
    "frame3"
   ]
  },
  {
   "cell_type": "code",
   "execution_count": null,
   "id": "80768d81",
   "metadata": {},
   "outputs": [],
   "source": [
    "frame3.to_numpy()"
   ]
  },
  {
   "cell_type": "code",
   "execution_count": null,
   "id": "79d8c245",
   "metadata": {},
   "outputs": [],
   "source": [
    "frame2.to_numpy()"
   ]
  },
  {
   "cell_type": "markdown",
   "id": "cf9ecfd5",
   "metadata": {},
   "source": [
    "#### Index Objects"
   ]
  },
  {
   "cell_type": "markdown",
   "id": "5eefad2e",
   "metadata": {},
   "source": [
    "Index objects are immutable and can be thought of as fixed-size sets. They are used to label the axes of pandas objects. The main difference between Index objects and regular Python sets is that Index objects can have duplicate labels, while sets cannot. This means that we can create an Index object with duplicate labels, but we cannot create a set with duplicate elements.\n",
    "Index objects are also hashable, which means they can be used as keys in dictionaries. This is useful when we want to create a mapping between labels and values. For example, we can create a dictionary that maps index labels to values using an Index object as the keys."
   ]
  },
  {
   "cell_type": "code",
   "execution_count": null,
   "id": "f8a570bd",
   "metadata": {},
   "outputs": [],
   "source": [
    "obj = pd.Series(np.arange(3), index = [\"a\", \"b\", \"c\"])\n",
    "print(obj)\n",
    "index = obj.index\n",
    "print(index)"
   ]
  },
  {
   "cell_type": "code",
   "execution_count": null,
   "id": "de8adfe6",
   "metadata": {},
   "outputs": [],
   "source": [
    "index[1] = \"d\""
   ]
  },
  {
   "cell_type": "code",
   "execution_count": null,
   "id": "ea4dd8bb",
   "metadata": {},
   "outputs": [],
   "source": [
    "labels = pd.Index(np.arange(3))\n",
    "print(labels)\n",
    "print(type(labels))\n",
    "\n",
    "obj2 = pd.Series([1.5, -2.5, 0], index = labels)\n",
    "obj2"
   ]
  },
  {
   "cell_type": "code",
   "execution_count": null,
   "id": "81e7c5bf",
   "metadata": {},
   "outputs": [],
   "source": [
    "obj2.index is labels"
   ]
  },
  {
   "cell_type": "code",
   "execution_count": null,
   "id": "b4409445",
   "metadata": {},
   "outputs": [],
   "source": [
    "print(frame3)\n",
    "print(frame3.columns)\n",
    "print(\"Ohio\" in frame3.columns)\n",
    "print(2003 in frame3.index)"
   ]
  },
  {
   "cell_type": "markdown",
   "id": "0f473939",
   "metadata": {},
   "source": [
    "Unlike python sets, a pandas index can have duplicate labels. This means that we can create an Index object with duplicate labels, but we cannot create a set with duplicate elements. Index objects are also hashable, which means they can be used as keys in dictionaries. This is useful when we want to create a mapping between labels and values. For example, we can create a dictionary that maps index labels to values using an Index object as the keys.\n",
    "We can also create a MultiIndex object, which is an index with multiple levels. This is useful when we want to create a hierarchical index. For example, we can create a MultiIndex with two levels, 'A' and 'B'."
   ]
  },
  {
   "cell_type": "code",
   "execution_count": null,
   "id": "c2e870ff",
   "metadata": {},
   "outputs": [],
   "source": [
    "pd.Index([\"foo\", \"foo\", \"bar\", \"bar\"])"
   ]
  },
  {
   "cell_type": "markdown",
   "id": "0c0bcfb4",
   "metadata": {},
   "source": [
    "### 5.2 Essential Functionality"
   ]
  },
  {
   "cell_type": "markdown",
   "id": "1b18a2e1",
   "metadata": {},
   "source": [
    "#### Reindexing"
   ]
  },
  {
   "cell_type": "markdown",
   "id": "3c1b0bd0",
   "metadata": {},
   "source": [
    "Reindexing is the process of conforming a DataFrame to a new index. This can be useful when we want to change the order of the rows or columns, or when we want to add or remove rows or columns. We can use the `reindex` method to reindex a DataFrame. For example, if we have a DataFrame `df` and we want to change the order of the rows, we can do this as follows:\n",
    "```python\n",
    "df.reindex([2, 0, 1])\n",
    "```\n"
   ]
  },
  {
   "cell_type": "code",
   "execution_count": null,
   "id": "eafef11b",
   "metadata": {},
   "outputs": [],
   "source": [
    "obj = pd.Series([4.5, 7.2, -5.3, 3.6], index=[\"d\", \"b\", \"a\", \"c\"])\n",
    "obj"
   ]
  },
  {
   "cell_type": "markdown",
   "id": "2b19f5b5",
   "metadata": {},
   "source": [
    "Reindexing rearranges the data in the DataFrame to conform to the new index. This means that if we reindex a DataFrame with a new index that has fewer labels than the original index, the resulting DataFrame will have `NaN` values for the missing labels. For example, if we have a DataFrame `df` with an index of [0, 1, 2] and we reindex it with an index of [0, 2], the resulting DataFrame will have `NaN` values for the label '1'."
   ]
  },
  {
   "cell_type": "code",
   "execution_count": null,
   "id": "2837fe67",
   "metadata": {},
   "outputs": [],
   "source": [
    "obj2 = obj.reindex([\"a\", \"b\", \"c\", \"d\", \"e\"])\n",
    "print(obj2)"
   ]
  },
  {
   "cell_type": "markdown",
   "id": "9a3b512a",
   "metadata": {},
   "source": [
    "For ordered data like time series, we can use the `sort_index` method to sort the DataFrame by its index. This is useful when we want to ensure that the data is in a specific order. For example, if we have a DataFrame `df` with an index of [2, 0, 1], we can sort it as follows:\n",
    "```python\n",
    "df.sort_index()\n",
    "```\n",
    "This will sort the DataFrame by its index, resulting in a DataFrame with an index of [0, 1, 2].\n",
    "It is also possible to interpolate or filling in missing values using the `fillna` method. This is useful when we want to fill in missing values with a specific value or method. For example, if we have a DataFrame `df` with missing values, we can fill them in with the value 0 as follows:\n",
    "```python\n",
    "df.fillna(0)\n",
    "```"
   ]
  },
  {
   "cell_type": "code",
   "execution_count": null,
   "id": "291ba956",
   "metadata": {},
   "outputs": [],
   "source": [
    "obj3 = pd.Series([\"blue\", \"purple\", \"yellow\"], index=[0, 2, 4])\n",
    "print(obj3)\n",
    "obj3 = obj3.reindex(range(8), method=\"ffill\")\n",
    "print(obj3)"
   ]
  },
  {
   "cell_type": "code",
   "execution_count": null,
   "id": "b68b01db",
   "metadata": {},
   "outputs": [],
   "source": [
    "frame = pd.DataFrame(np.arange(9).reshape((3, 3)),\n",
    "                     index=[\"a\", \"b\", \"d\"],\n",
    "                     columns=[\"Ohio\", \"Texas\", \"California\"])\n",
    "print(frame)\n",
    "frame2 = frame.reindex([\"a\", \"b\", \"c\", \"d\"])\n",
    "print(frame2)"
   ]
  },
  {
   "cell_type": "code",
   "execution_count": null,
   "id": "810ed7d7",
   "metadata": {},
   "outputs": [],
   "source": [
    "# reindexing columns\n",
    "print(frame)\n",
    "states = [\"Texas\", \"Utah\", \"California\"]\n",
    "frame.reindex(columns=states)"
   ]
  },
  {
   "cell_type": "code",
   "execution_count": null,
   "id": "eecb66dd",
   "metadata": {},
   "outputs": [],
   "source": [
    "frame.reindex(states, axis=\"columns\")"
   ]
  },
  {
   "cell_type": "markdown",
   "id": "97557f9a",
   "metadata": {},
   "source": [
    "#### Dropping Entries from an Axis"
   ]
  },
  {
   "cell_type": "markdown",
   "id": "a18188d6",
   "metadata": {},
   "source": [
    "Dropping entries from an axis is the process of removing rows or columns from a DataFrame. We can use the `drop` method to drop entries from a DataFrame. For example, if we have a DataFrame `df` and we want to drop the row with label 'a', we can do this as follows:\n",
    "```python\n",
    "df.drop('a')\n",
    "```"
   ]
  },
  {
   "cell_type": "code",
   "execution_count": null,
   "id": "59936f45",
   "metadata": {},
   "outputs": [],
   "source": [
    "obj = pd.Series(np.arange(5), index=[\"a\", \"b\", \"c\", \"d\", \"e\"])\n",
    "print(obj)\n",
    "\n",
    "new_obj = obj.drop(\"c\")\n",
    "print(new_obj)\n",
    "\n",
    "obj.drop([\"d\", \"c\"])"
   ]
  },
  {
   "cell_type": "code",
   "execution_count": null,
   "id": "8d0d1313",
   "metadata": {},
   "outputs": [],
   "source": [
    "data = pd.DataFrame(np.arange(16).reshape((4, 4)),\n",
    "                     index=[\"Ohio\", \"Colorado\", \"Utah\", \"New York\"],\n",
    "                     columns=[\"one\", \"two\", \"three\", \"four\"])\n",
    "\n",
    "data"
   ]
  },
  {
   "cell_type": "code",
   "execution_count": null,
   "id": "c7cbe540",
   "metadata": {},
   "outputs": [],
   "source": [
    "data.drop([\"Colorado\", \"Ohio\"])"
   ]
  },
  {
   "cell_type": "code",
   "execution_count": null,
   "id": "7f2d6bc5",
   "metadata": {},
   "outputs": [],
   "source": [
    "data.drop(\"two\", axis=1)"
   ]
  },
  {
   "cell_type": "code",
   "execution_count": null,
   "id": "4e8a7148",
   "metadata": {},
   "outputs": [],
   "source": [
    "\n",
    "data.drop([\"two\", \"four\"], axis=\"columns\")"
   ]
  },
  {
   "cell_type": "markdown",
   "id": "62dbfc92",
   "metadata": {},
   "source": [
    "#### Indexing, Selection, and Filtering"
   ]
  },
  {
   "cell_type": "code",
   "execution_count": null,
   "id": "666e2eaf",
   "metadata": {},
   "outputs": [],
   "source": [
    "obj = pd.Series(np.arange(4.), index=[\"a\", \"b\", \"c\", \"d\"])\n",
    "print(obj)\n",
    "\n",
    "print(obj[\"b\"])\n",
    "print(obj[1])\n",
    "print(obj.iloc[1])\n",
    "print(obj[2:4])\n",
    "print(obj.iloc[2:4])\n",
    "print(obj[[\"b\", \"a\", \"d\"]])\n",
    "print(obj[[1, 3]])\n",
    "print(obj.iloc[[1, 3]])\n",
    "print(obj[obj < 2])\n",
    "obj.loc[[\"b\", \"a\", \"d\"]]"
   ]
  },
  {
   "cell_type": "code",
   "execution_count": null,
   "id": "9e2ba7f5",
   "metadata": {},
   "outputs": [],
   "source": [
    "obj1 = pd.Series([1, 2, 3], index=[2, 0, 1])\n",
    "print(obj1)\n",
    "obj2 = pd.Series([1, 2, 3], index=[\"a\", \"b\", \"c\"])\n",
    "print(obj2)\n",
    "\n",
    "print(obj1[[0, 1, 2]])\n",
    "print(obj2[[0, 1, 2]])"
   ]
  },
  {
   "cell_type": "code",
   "execution_count": null,
   "id": "2eae8839",
   "metadata": {},
   "outputs": [],
   "source": [
    "print(obj2.loc[[0, 1, 2]])"
   ]
  },
  {
   "cell_type": "code",
   "execution_count": null,
   "id": "ecaef6e0",
   "metadata": {},
   "outputs": [],
   "source": [
    "print(obj1.iloc[[0, 1, 2]])\n",
    "print(obj2.iloc[[0, 1, 2]])\n",
    "print(obj2.loc[\"b\":\"c\"])"
   ]
  },
  {
   "cell_type": "code",
   "execution_count": null,
   "id": "b8be75bf",
   "metadata": {},
   "outputs": [],
   "source": [
    "obj2.loc[\"b\":\"c\"] = 5\n",
    "print(obj2)"
   ]
  },
  {
   "cell_type": "code",
   "execution_count": null,
   "id": "c800dd07",
   "metadata": {},
   "outputs": [],
   "source": [
    "data = pd.DataFrame(np.arange(16).reshape((4, 4)),\n",
    "                     index=[\"Ohio\", \"Colorado\", \"Utah\", \"New York\"],\n",
    "                     columns=[\"one\", \"two\", \"three\", \"four\"])\n",
    "data"
   ]
  },
  {
   "cell_type": "code",
   "execution_count": null,
   "id": "3434838e",
   "metadata": {},
   "outputs": [],
   "source": [
    "print(data)\n",
    "print(data[\"two\"])\n",
    "print(data[[\"three\", \"one\"]])\n",
    "print(data[:2])\n",
    "print(data[data[\"three\"] > 5])"
   ]
  },
  {
   "cell_type": "code",
   "execution_count": null,
   "id": "d645e8d4",
   "metadata": {},
   "outputs": [],
   "source": [
    "data < 5"
   ]
  },
  {
   "cell_type": "code",
   "execution_count": null,
   "id": "9dd4c325",
   "metadata": {},
   "outputs": [],
   "source": [
    "data[data < 5] = 0\n",
    "data"
   ]
  },
  {
   "cell_type": "code",
   "execution_count": null,
   "id": "a93cb91f",
   "metadata": {},
   "outputs": [],
   "source": [
    "print(data)\n",
    "\n",
    "data.loc[\"Colorado\"]"
   ]
  },
  {
   "cell_type": "code",
   "execution_count": null,
   "id": "c176dc1e",
   "metadata": {},
   "outputs": [],
   "source": [
    "data.loc[[\"Colorado\", \"New York\"]]"
   ]
  },
  {
   "cell_type": "code",
   "execution_count": null,
   "id": "7a6c772b",
   "metadata": {},
   "outputs": [],
   "source": [
    "data.loc[\"Colorado\", [\"two\", \"three\"]]"
   ]
  },
  {
   "cell_type": "code",
   "execution_count": null,
   "id": "38ea4a94",
   "metadata": {},
   "outputs": [],
   "source": [
    "data.loc[[\"Colorado\", \"Utah\"], [\"two\", \"three\"]]"
   ]
  },
  {
   "cell_type": "code",
   "execution_count": null,
   "id": "540d1cc0",
   "metadata": {},
   "outputs": [],
   "source": [
    "print(data)\n",
    "print(data.iloc[2])\n",
    "print(data.iloc[2, 1])\n",
    "print(data.iloc[2, [3, 0, 1]])"
   ]
  },
  {
   "cell_type": "code",
   "execution_count": null,
   "id": "17ffe079",
   "metadata": {},
   "outputs": [],
   "source": [
    "print(data)\n",
    "print(data.loc[:\"Utah\", \"two\"])\n",
    "print(data.iloc[:, :3])\n",
    "print(data.iloc[:, :3][data.three > 5])"
   ]
  },
  {
   "cell_type": "code",
   "execution_count": null,
   "id": "0b4328f2",
   "metadata": {},
   "outputs": [],
   "source": [
    "data.loc[data.three >= 2]"
   ]
  }
 ],
 "metadata": {
  "kernelspec": {
   "display_name": "Python 3",
   "language": "python",
   "name": "python3"
  },
  "language_info": {
   "codemirror_mode": {
    "name": "ipython",
    "version": 3
   },
   "file_extension": ".py",
   "mimetype": "text/x-python",
   "name": "python",
   "nbconvert_exporter": "python",
   "pygments_lexer": "ipython3",
   "version": "3.13.2"
  }
 },
 "nbformat": 4,
 "nbformat_minor": 5
}
