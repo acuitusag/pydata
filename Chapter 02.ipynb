{
 "cells": [
  {
   "cell_type": "markdown",
   "metadata": {},
   "source": [
    "## Chapter 2 Python Language Basics, IPython, and Jupyter Notebooks"
   ]
  },
  {
   "cell_type": "markdown",
   "metadata": {},
   "source": [
    "### 2.1 Python Interpreter"
   ]
  },
  {
   "cell_type": "markdown",
   "metadata": {},
   "source": [
    "When we start up a Jupyter notebook, we are using an IPython kernel. This kernel is a Python interpreter that allows us to execute Python code interactively. The IPython kernel is a powerful tool for data analysis and scientific computing. We need to make sure that we choose the correct kernel for our notebook. If we are using Python 3, we should choose the Python 3 kernel.\n"
   ]
  },
  {
   "cell_type": "code",
   "execution_count": null,
   "metadata": {},
   "outputs": [],
   "source": [
    "a = 5\n",
    "print(a)\n",
    "print(\"Hello, World!\")"
   ]
  },
  {
   "cell_type": "markdown",
   "metadata": {},
   "source": [
    "### 2.2 IPython Basics"
   ]
  },
  {
   "cell_type": "code",
   "execution_count": null,
   "metadata": {},
   "outputs": [],
   "source": [
    "import numpy as np\n",
    "import pandas as pd\n",
    "data = [np.random.standard_normal() for i in range (10)]\n",
    "print(data)\n",
    "dataframe = pd.DataFrame(data, columns=['Random Numbers'])\n",
    "dataframe"
   ]
  },
  {
   "cell_type": "markdown",
   "metadata": {},
   "source": [
    "#### Tab Completion"
   ]
  },
  {
   "cell_type": "markdown",
   "metadata": {},
   "source": [
    "An big advantage of and IDE is tab completion. This allows us to quickly complete variable names and function names by typing the first few letters and then pressing the tab key. This can save us a lot of time when we are working with large codebases."
   ]
  },
  {
   "cell_type": "code",
   "execution_count": null,
   "metadata": {},
   "outputs": [],
   "source": [
    "an_apple = 27\n",
    "an_example = 42\n",
    "\n",
    "an_apple += 1\n",
    "an_apple\n",
    "\n",
    "b = [1, 2, 3]\n",
    "b.count(1)"
   ]
  },
  {
   "cell_type": "markdown",
   "metadata": {},
   "source": [
    "Tab also works for modules. If we type `import numpy as np` and then type `np.` and press the tab key, we will see a list of all the functions and variables in the numpy module. This can be very helpful when we are trying to remember the names of functions or variables."
   ]
  },
  {
   "cell_type": "code",
   "execution_count": null,
   "metadata": {},
   "outputs": [],
   "source": [
    "import datetime\n",
    "datetime.datetime.now()"
   ]
  },
  {
   "cell_type": "code",
   "execution_count": null,
   "metadata": {},
   "outputs": [],
   "source": [
    "def func_with_keywords(abra = 1, abbra = 2, abbbra = 3, abbbbra = 4):\n",
    "    return abra, abbra, abbbra, abbbbra\n",
    "\n",
    "print(func_with_keywords(abra = 1, abbra = 2, abbbra = 3, abbbbra = 4))\n",
    "print(func_with_keywords(abra = 2, abbra = 3, abbbra = 4, abbbbra = 1))"
   ]
  },
  {
   "cell_type": "markdown",
   "metadata": {},
   "source": [
    "#### Introspection"
   ]
  },
  {
   "cell_type": "markdown",
   "metadata": {},
   "source": [
    "We can find out about an object by using introspection. If we type `np.array?` and press the enter key, we will see a description of the array function in the numpy module. This can be very helpful when we are trying to understand how a function works.\n",
    "We can also use the `help` function to get more information about an object. If we type `help(np.array)` and press the enter key, we will see a detailed description of the array function in the numpy module. This can be very helpful when we are trying to understand how a function works."
   ]
  },
  {
   "cell_type": "code",
   "execution_count": null,
   "metadata": {},
   "outputs": [],
   "source": [
    "b = [1, 2, 3]\n",
    "b?"
   ]
  },
  {
   "cell_type": "code",
   "execution_count": null,
   "metadata": {},
   "outputs": [],
   "source": [
    "print?"
   ]
  },
  {
   "cell_type": "code",
   "execution_count": null,
   "metadata": {},
   "outputs": [],
   "source": [
    "def add_numbers(a, b):\n",
    "    \"\"\"\n",
    "    Add two numbers together\n",
    "\n",
    "    Returns\n",
    "    -------\n",
    "    the_sum : type of arguments\n",
    "    \"\"\"\n",
    "    return a + b\n",
    "\n",
    "add_numbers?"
   ]
  },
  {
   "cell_type": "code",
   "execution_count": null,
   "metadata": {},
   "outputs": [],
   "source": [
    "import numpy as np\n",
    "np.*load*?\n"
   ]
  },
  {
   "cell_type": "markdown",
   "metadata": {},
   "source": [
    "### 2.3 Python Language Basics"
   ]
  },
  {
   "cell_type": "markdown",
   "metadata": {},
   "source": [
    "Language Semantics. The Python language design is distinguished by its emphasis on readability and simplicity. Python code is often described as being \"executable pseudocode\" because it is easy to read and understand. This makes Python a great language for beginners and experienced programmers alike.\n",
    "Python is an interpreted language, which means that it is executed line by line. This allows us to quickly test and debug our code. Python also has a large standard library that provides many useful functions and modules for data analysis and scientific computing."
   ]
  },
  {
   "cell_type": "markdown",
   "metadata": {},
   "source": [
    "#### Language Semantics"
   ]
  },
  {
   "cell_type": "markdown",
   "metadata": {},
   "source": [
    "##### Indentation, not braces"
   ]
  },
  {
   "cell_type": "markdown",
   "metadata": {},
   "source": [
    "In python, indentation is very important. Python uses indentation to define blocks of code. This makes the code more readable and helps to avoid errors. We should always use four spaces for indentation in Python. We should never mix tabs and spaces in our code. In Python, whitespace is significant. This means that we should be careful when using spaces and tabs in our code. We should always use spaces for indentation and never mix tabs and spaces."
   ]
  },
  {
   "cell_type": "markdown",
   "metadata": {},
   "source": [
    "##### Everything is an object"
   ]
  },
  {
   "cell_type": "markdown",
   "metadata": {},
   "source": [
    "Python uses an object model. This means that everything in Python is an object. This includes integers, floats, strings, lists, dictionaries, functions, and modules. This makes Python a very flexible and powerful language. We can create new objects by defining classes. We can also use objects to create new objects. This makes Python a very powerful language for object-oriented programming."
   ]
  },
  {
   "cell_type": "markdown",
   "metadata": {},
   "source": [
    "##### Comments"
   ]
  },
  {
   "cell_type": "markdown",
   "metadata": {},
   "source": [
    "In Microsoft VS Code, we comment out code using the keyboard shortcut Ctrl + /. It is important to comment our code so that other people can understand what it does. We should always write clear and concise comments that explain what our code does. We should also use comments to explain why we wrote the code in a certain way. This can help us to remember why we made certain decisions when we come back to our code later."
   ]
  },
  {
   "cell_type": "markdown",
   "metadata": {},
   "source": [
    "##### Functions and object method calls"
   ]
  },
  {
   "cell_type": "markdown",
   "metadata": {},
   "source": [
    "Functions and methods in Python are closely related concepts, but they have some key differences:\n",
    "\n",
    "- **Functions**: Functions are defined using the `def` keyword and can be called independently. They are not associated with any object. Functions can take arguments, perform operations, and return values. They are defined at the module level.\n",
    "\n",
    "    ```python\n",
    "    def my_function(x):\n",
    "            return x + 1\n",
    "\n",
    "    result = my_function(5)\n",
    "    print(result)  # Output: 6\n",
    "    ```\n",
    "\n",
    "- **Methods**: Methods are functions that are associated with an object. They are defined within a class and operate on instances of that class. Methods can access and modify the object's attributes. There are two main types of methods: instance methods and class methods.\n",
    "\n",
    "    ```python\n",
    "    class MyClass:\n",
    "            def __init__(self, value):\n",
    "                    self.value = value\n",
    "\n",
    "            def instance_method(self):\n",
    "                    return self.value + 1\n",
    "\n",
    "    obj = MyClass(5)\n",
    "    result = obj.instance_method()\n",
    "    print(result)  # Output: 6\n",
    "    ```\n",
    "\n",
    "In summary, while both functions and methods perform operations and can return values, methods are functions that are bound to objects and can access and modify the object's state."
   ]
  },
  {
   "cell_type": "markdown",
   "metadata": {},
   "source": [
    "Functions can take both positional and keyword arguments. Positional arguments are passed based on their position in the function call, while keyword arguments are passed by specifying the parameter name. Keyword arguments are useful when we want to specify only certain arguments and use default values for the rest.\n"
   ]
  },
  {
   "cell_type": "markdown",
   "metadata": {},
   "source": [
    "##### Variables an argument passing"
   ]
  },
  {
   "cell_type": "code",
   "execution_count": null,
   "metadata": {},
   "outputs": [],
   "source": [
    "a = [1, 2, 3]\n",
    "b = a\n",
    "print (b)\n",
    "a.append(4)\n",
    "print (b)\n",
    "a is b"
   ]
  },
  {
   "cell_type": "code",
   "execution_count": null,
   "metadata": {},
   "outputs": [],
   "source": [
    "def append_element(some_list, element):\n",
    "    some_list.append(element)\n",
    "\n",
    "data = [1, 2, 3]\n",
    "print(data)\n",
    "append_element(data, 4)\n",
    "print(data)\n"
   ]
  },
  {
   "cell_type": "markdown",
   "metadata": {},
   "source": [
    "##### Dynamic references, strong types\n",
    "\n",
    "Variables in Python have no inherent type, and we can assign any value to a variable. The type of a variable is determined by the value it references. This is known as dynamic typing. For example, we can assign an integer value to a variable and then assign a string value to the same variable."
   ]
  },
  {
   "cell_type": "code",
   "execution_count": null,
   "metadata": {},
   "outputs": [],
   "source": [
    "a = 5\n",
    "print(type(a))\n",
    "a = 'foo'\n",
    "print(type(a))"
   ]
  },
  {
   "cell_type": "markdown",
   "metadata": {},
   "source": [
    "Python is a typed language. This means that every object has a specific type. For example, an integer is a different type than a string. Python is also a strongly typed language. Python uses dynamic typing, which means that the type of a variable is determined at runtime. This is different from static typing, where the type of a variable is determined at compile time. Python is also a strongly typed language, which means that we cannot perform operations on objects of different types. For example, we cannot add an integer and a string in Python. We will get a TypeError if we try to do this."
   ]
  },
  {
   "cell_type": "code",
   "execution_count": null,
   "metadata": {},
   "outputs": [],
   "source": [
    "\"5\" + 5"
   ]
  },
  {
   "cell_type": "markdown",
   "metadata": {},
   "source": [
    "Some implicit conversions are possible in Python. For example, we can add an integer and a float, and Python will automatically convert the integer to a float before performing the addition. This is known as implicit type conversion. However, we cannot add an integer and a string in Python. We will get a TypeError if we try to do this."
   ]
  },
  {
   "cell_type": "code",
   "execution_count": null,
   "metadata": {},
   "outputs": [],
   "source": [
    "a = 4.5\n",
    "b = 2\n",
    "c = a / b\n",
    "\n",
    "print(f\"a is {type(a)}, b is {type(b)}, and a / b is {type(a / b)}\")"
   ]
  },
  {
   "cell_type": "markdown",
   "metadata": {},
   "source": [
    "Sometimes we might want to create a Boolean based on type by using the **isinstance** function. For example, we can use the isinstance function to check if a variable is an integer. This can be useful when we want to perform different operations based on the type of a variable."
   ]
  },
  {
   "cell_type": "code",
   "execution_count": null,
   "metadata": {},
   "outputs": [],
   "source": [
    "a = 5\n",
    "b = 4.5\n",
    "\n",
    "print(isinstance(a, int))\n",
    "print(isinstance(a, (int, float)))\n",
    "print(isinstance(b, (int, float)))\n"
   ]
  },
  {
   "cell_type": "markdown",
   "metadata": {},
   "source": [
    "##### Attributes and methods"
   ]
  },
  {
   "cell_type": "code",
   "execution_count": null,
   "metadata": {},
   "outputs": [],
   "source": [
    "a = \"foo\"\n",
    "\n",
    "dir(a)\n",
    "a. # press tab to see the list of methods"
   ]
  },
  {
   "cell_type": "markdown",
   "metadata": {},
   "source": [
    "##### Duck typing\n",
    "\n",
    "Duck typing is a concept in Python that emphasizes the importance of an object's behavior over its type. The idea is that if an object behaves like a duck (i.e., it quacks like a duck and walks like a duck), then it is a duck. In Python, this means that we can use an object if it supports the required behavior, regardless of its type. This allows for more flexible and dynamic code."
   ]
  },
  {
   "cell_type": "code",
   "execution_count": null,
   "metadata": {},
   "outputs": [],
   "source": [
    "def isiterable(obj):\n",
    "    try:\n",
    "        iter(obj)\n",
    "        return True\n",
    "    except TypeError: # not iterable\n",
    "        return False\n",
    "\n",
    "print(isiterable('a string'))\n",
    "print(isiterable([1, 2, 3]))\n",
    "print(isiterable(5))"
   ]
  },
  {
   "cell_type": "markdown",
   "metadata": {},
   "source": [
    "##### Imports"
   ]
  },
  {
   "cell_type": "code",
   "execution_count": null,
   "metadata": {},
   "outputs": [],
   "source": [
    "import some_module\n",
    "result = some_module.f(5)\n",
    "pi = some_module.PI\n",
    "\n",
    "print(f\"result is {result}, pi is {pi}\")"
   ]
  },
  {
   "cell_type": "code",
   "execution_count": null,
   "metadata": {},
   "outputs": [],
   "source": [
    "from some_module import g, PI\n",
    "result = g(5, PI)\n",
    "\n",
    "print(result)"
   ]
  },
  {
   "cell_type": "code",
   "execution_count": null,
   "metadata": {},
   "outputs": [],
   "source": [
    "import some_module as sm\n",
    "from some_module import PI as pi, g as gf\n",
    "\n",
    "r1 = sm.f(pi)\n",
    "r2 = gf(6, pi)\n",
    "\n",
    "print(f\"r1 is {r1}, r2 is {r2}\")"
   ]
  },
  {
   "cell_type": "markdown",
   "metadata": {},
   "source": [
    "##### Binary operators and comparisons"
   ]
  },
  {
   "cell_type": "code",
   "execution_count": null,
   "metadata": {},
   "outputs": [],
   "source": [
    "print(5 - 7)\n",
    "print(12 + 21.5)\n",
    "5 <= 2"
   ]
  },
  {
   "cell_type": "markdown",
   "metadata": {},
   "source": [
    "Check to see if two variables refer to the same object using the is operator. For example, we can use the is operator to check if two variables refer to the same list object. This can be useful when we want to check if two variables are aliases for the same object."
   ]
  },
  {
   "cell_type": "code",
   "execution_count": null,
   "metadata": {},
   "outputs": [],
   "source": [
    "a = [1, 2, 3]\n",
    "b = a\n",
    "c = list(a)\n",
    "print(a is b)\n",
    "print(a is not c)\n",
    "print(a == c)"
   ]
  },
  {
   "cell_type": "markdown",
   "metadata": {},
   "source": [
    "A common use for is and is not is to check if a variable is None. For example, we can use the is operator to check if a variable is None. This can be useful when we want to check if a variable has been assigned a value."
   ]
  },
  {
   "cell_type": "code",
   "execution_count": null,
   "metadata": {},
   "outputs": [],
   "source": [
    "a = None\n",
    "a is None"
   ]
  },
  {
   "cell_type": "markdown",
   "metadata": {},
   "source": [
    "##### Mutable and immutable objects"
   ]
  },
  {
   "cell_type": "markdown",
   "metadata": {},
   "source": [
    "A mutable object in Python is an object whose value can be changed after it is created. A mutable object can be modified in place, which means that the object itself is changed. For example, a list is a mutable object because we can change the elements of the list after it is created."
   ]
  },
  {
   "cell_type": "code",
   "execution_count": null,
   "metadata": {},
   "outputs": [],
   "source": [
    "a_list = ['foo', 2, [4, 5]]\n",
    "print(a_list[2])\n",
    "a_list"
   ]
  },
  {
   "cell_type": "markdown",
   "metadata": {},
   "source": [
    "Strings and tuples are immutable objects in Python. An immutable object is an object whose value cannot be changed after it is created. If we try to change the value of an immutable object, Python will create a new object with the new value. For example, a string is an immutable object because we cannot change the characters of the string after it is created."
   ]
  },
  {
   "cell_type": "code",
   "execution_count": null,
   "metadata": {},
   "outputs": [],
   "source": [
    "a_type = (3, 4, (4, 5))\n",
    "a_type[2] = 'four'"
   ]
  },
  {
   "cell_type": "markdown",
   "metadata": {},
   "source": [
    "Here is an example where we try to change the value of a tuple. We will get a TypeError because tuples are immutable objects."
   ]
  },
  {
   "cell_type": "code",
   "execution_count": null,
   "metadata": {},
   "outputs": [],
   "source": [
    "a_tuple = (3, 5, (4, 5))\n",
    "a_tuple[1] = 'four'"
   ]
  },
  {
   "cell_type": "markdown",
   "metadata": {},
   "source": [
    "#### Scalar types"
   ]
  },
  {
   "cell_type": "markdown",
   "metadata": {},
   "source": [
    "##### Numeric types"
   ]
  },
  {
   "cell_type": "code",
   "execution_count": null,
   "metadata": {},
   "outputs": [],
   "source": [
    "# integers\n",
    "ival = 17239871\n",
    "ival ** 6"
   ]
  },
  {
   "cell_type": "code",
   "execution_count": null,
   "metadata": {},
   "outputs": [],
   "source": [
    "# float\n",
    "fval = 7.243\n",
    "fval2 = 6.78e-5\n",
    "\n",
    "print(fval, fval2)"
   ]
  },
  {
   "cell_type": "code",
   "execution_count": null,
   "metadata": {},
   "outputs": [],
   "source": [
    "# float division versus integer division\n",
    "\n",
    "print(3 / 2)\n",
    "print(3 // 2)\n"
   ]
  },
  {
   "cell_type": "markdown",
   "metadata": {},
   "source": [
    "##### Strings"
   ]
  },
  {
   "cell_type": "code",
   "execution_count": null,
   "metadata": {},
   "outputs": [],
   "source": [
    "a = 'one way of writing a string'\n",
    "b = \"another way\"\n",
    "c = \"\"\" \n",
    "This is a longer string that\n",
    "spans multiple lines\n",
    "\"\"\"\n",
    "print(a)\n",
    "print(b)\n",
    "print(c)"
   ]
  },
  {
   "cell_type": "code",
   "execution_count": null,
   "metadata": {},
   "outputs": [],
   "source": [
    "# how many lines of code in c\n",
    "\n",
    "c.count('\\n')"
   ]
  },
  {
   "cell_type": "markdown",
   "metadata": {},
   "source": [
    "Strings are immutable sequences of characters. We can create strings using single quotes, double quotes, or triple quotes. We can use the + operator to concatenate strings. We can also use the * operator to repeat a string. We can access individual characters in a string using indexing. We can also use slicing to extract substrings from a string."
   ]
  },
  {
   "cell_type": "code",
   "execution_count": null,
   "metadata": {},
   "outputs": [],
   "source": [
    "a = 'this is a string'\n",
    "a[10] = 'f'"
   ]
  },
  {
   "cell_type": "code",
   "execution_count": null,
   "metadata": {},
   "outputs": [],
   "source": [
    "# create a new string\n",
    "\n",
    "b = a.replace('string', 'longer string')\n",
    "print(a)\n",
    "print(b)"
   ]
  },
  {
   "cell_type": "markdown",
   "metadata": {},
   "source": [
    "Most Python objects can be converted to a string using the str function. For example, we can convert an integer to a string using the str function. We can also use the format method to format strings. We can use placeholders in a string and then pass values to the format method to fill in the placeholders."
   ]
  },
  {
   "cell_type": "code",
   "execution_count": null,
   "metadata": {},
   "outputs": [],
   "source": [
    "a = 5.6\n",
    "s = str(a)\n",
    "print(type(a))\n",
    "print(type(s)) "
   ]
  },
  {
   "cell_type": "markdown",
   "metadata": {},
   "source": [
    "Strings are a sequence of Unicode characters in Python. This means that we can use characters from any language in a string. We can also use escape sequences to represent special characters in a string. For example, we can use the \\n escape sequence to represent a newline character in a string. They work in a similar way to lists and tuples. We can use indexing and slicing to access individual characters and substrings in a string. We can also use the len function to get the length of a string."
   ]
  },
  {
   "cell_type": "code",
   "execution_count": null,
   "metadata": {},
   "outputs": [],
   "source": [
    "s = \"Python\"\n",
    "print(list(s))\n",
    "print(s[:3])"
   ]
  },
  {
   "cell_type": "markdown",
   "metadata": {},
   "source": [
    "The backslash character (\\) is used to escape special characters in a string. For example, we can use the \\n escape sequence to represent a newline character in a string. We can also use the \\t escape sequence to represent a tab character in a string. We can use the r prefix to create a raw string. This tells Python not to interpret any escape sequences in the string. For example, we can use the r prefix to create a raw string that contains a backslash character."
   ]
  },
  {
   "cell_type": "code",
   "execution_count": null,
   "metadata": {},
   "outputs": [],
   "source": [
    "s = \"12\\\\34\"\n",
    "print(s)"
   ]
  },
  {
   "cell_type": "markdown",
   "metadata": {},
   "source": [
    "The r notation means that the string is a raw string. This means that Python will not interpret any escape sequences in the string. For example, we can use the r prefix to create a raw string that contains a backslash character. This can be useful when we want to include backslashes in a string without escaping them."
   ]
  },
  {
   "cell_type": "code",
   "execution_count": null,
   "metadata": {},
   "outputs": [],
   "source": [
    "s = r\"This\\has\\no\\special\\characters\"\n",
    "print(s)"
   ]
  },
  {
   "cell_type": "markdown",
   "metadata": {},
   "source": [
    "We can concatenate two strings by adding them together. For example, we can concatenate the strings \"hello\" and \"world\" to create the string \"hello world\". We can also use the * operator to repeat a string. For example, we can repeat the string \"hello\" three times to create the string \"hellohellohello\"."
   ]
  },
  {
   "cell_type": "code",
   "execution_count": null,
   "metadata": {},
   "outputs": [],
   "source": [
    "a = \"this is the first half \"\n",
    "b = \"and this is the second half\"\n",
    "a + b"
   ]
  },
  {
   "cell_type": "markdown",
   "metadata": {},
   "source": [
    "String templating and formatting is a powerful feature of Python. We can use placeholders in a string and then pass values to the format method to fill in the placeholders. For example, we can use the {} placeholder in a string and then pass a value to the format method to fill in the placeholder. We can also use named placeholders to make the code more readable."
   ]
  },
  {
   "cell_type": "code",
   "execution_count": null,
   "metadata": {},
   "outputs": [],
   "source": [
    "template = \"{0:.2f} {1:s} are worth US${2:d}\"\n",
    "template.format(4.5560, 'Argentine Pesos', 1)"
   ]
  },
  {
   "cell_type": "markdown",
   "metadata": {},
   "source": [
    "A more convenient way to format strings is to use f-strings. F-strings allow us to embed expressions inside string literals, using curly braces {}. For example, we can use an f-string to embed the result of an expression inside a string. This can make the code more readable and concise."
   ]
  },
  {
   "cell_type": "code",
   "execution_count": null,
   "metadata": {},
   "outputs": [],
   "source": [
    "amount = 10\n",
    "rate = 88.46\n",
    "currency = \"Pesos\"\n",
    "result = f\"{amount} {currency} are worth US${amount / rate:.2f}\"\n",
    "print(result)"
   ]
  },
  {
   "cell_type": "markdown",
   "metadata": {},
   "source": [
    "##### Bytes and Unicode"
   ]
  },
  {
   "cell_type": "code",
   "execution_count": null,
   "metadata": {},
   "outputs": [],
   "source": [
    "val = \"español\"\n",
    "print(val)\n",
    "val_utf8 = val.encode('utf-8')\n",
    "print(val_utf8)\n",
    "print(type(val_utf8))\n",
    "print(val_utf8.decode('utf-8'))\n",
    "print(val.encode('utf-16'))\n",
    "print(val.encode('utf-16le'))"
   ]
  },
  {
   "cell_type": "markdown",
   "metadata": {},
   "source": [
    "##### Booleans"
   ]
  },
  {
   "cell_type": "markdown",
   "metadata": {},
   "source": [
    "Booleans are a built-in data type in Python that can have one of two values: True or False. Booleans are used to represent truth values in Python. We can use Booleans to make decisions in our code. For example, we can use a Boolean to check if a condition is true and then execute some code based on the result."
   ]
  },
  {
   "cell_type": "code",
   "execution_count": null,
   "metadata": {},
   "outputs": [],
   "source": [
    "print(True and True)\n",
    "print(False and True)\n",
    "print(True or False)"
   ]
  },
  {
   "cell_type": "code",
   "execution_count": null,
   "metadata": {},
   "outputs": [],
   "source": [
    "print(int(False))\n",
    "print(int(True))"
   ]
  },
  {
   "cell_type": "code",
   "execution_count": null,
   "metadata": {},
   "outputs": [],
   "source": [
    "a = True\n",
    "b = False\n",
    "\n",
    "print(a)\n",
    "print(not a)\n",
    "print(b)\n",
    "print(not b)"
   ]
  },
  {
   "cell_type": "markdown",
   "metadata": {},
   "source": [
    "##### Type casting"
   ]
  },
  {
   "cell_type": "code",
   "execution_count": null,
   "metadata": {},
   "outputs": [],
   "source": [
    "x = \"3.14159\"\n",
    "fval = float(x)\n",
    "print(type(fval))\n",
    "print(int(fval))\n",
    "print(bool(fval))\n",
    "print(bool(0))"
   ]
  },
  {
   "cell_type": "markdown",
   "metadata": {},
   "source": [
    "##### None"
   ]
  },
  {
   "cell_type": "markdown",
   "metadata": {},
   "source": [
    "None is the Python null value type. It is used to represent the absence of a value. None is a special value in Python that is used to indicate that a variable does not have a value. We can use None to initialize a variable that we do not want to have a value. We can also use None to check if a variable has been assigned a value."
   ]
  },
  {
   "cell_type": "code",
   "execution_count": null,
   "metadata": {},
   "outputs": [],
   "source": [
    "a = None\n",
    "print(a is None)\n",
    "b = 5\n",
    "print(b is not None)"
   ]
  },
  {
   "cell_type": "markdown",
   "metadata": {},
   "source": [
    "None is a common default value in function agruments. For example, we can use None as a default value for a function argument. This allows us to call the function without passing a value for the argument. We can also use None as a sentinel value to indicate that a function argument has not been provided."
   ]
  },
  {
   "cell_type": "code",
   "execution_count": null,
   "metadata": {},
   "outputs": [],
   "source": [
    "def add_and_maybe_multiply(a, b, c = None):\n",
    "    result = a + b\n",
    "    if c is not None:\n",
    "        result = result * c\n",
    "    return result"
   ]
  },
  {
   "cell_type": "markdown",
   "metadata": {},
   "source": [
    "##### Dates and times"
   ]
  },
  {
   "cell_type": "markdown",
   "metadata": {},
   "source": [
    "The built-in datetime module in Python provides classes for working with dates and times. The datetime class represents a date and time. The date class represents a date. The time class represents a time. We can use these classes to create, manipulate, and format dates and times in Python.\n",
    "We can create a date object using the date class. For example, we can create a date object that represents the current date. We can also create a time object using the time class. For example, we can create a time object that represents the current time."
   ]
  },
  {
   "cell_type": "code",
   "execution_count": null,
   "metadata": {},
   "outputs": [],
   "source": [
    "from datetime import datetime, date, time\n",
    "dt = datetime(2011, 10, 29, 20, 30, 21)\n",
    "print(dt)\n",
    "print(dt.day)\n",
    "print(dt.minute)"
   ]
  },
  {
   "cell_type": "code",
   "execution_count": null,
   "metadata": {},
   "outputs": [],
   "source": [
    "print(dt.date())\n",
    "print(dt.time())\n",
    "dt.date()"
   ]
  },
  {
   "cell_type": "code",
   "execution_count": null,
   "metadata": {},
   "outputs": [],
   "source": [
    "# format datetime as a string\n",
    "print(dt.strftime('%m/%d/%Y %H:%M'))\n",
    "print(dt.strftime('%Y-%m-%d %H:%M'))"
   ]
  },
  {
   "cell_type": "code",
   "execution_count": null,
   "metadata": {},
   "outputs": [],
   "source": [
    "# create a date from a string\n",
    "datetime.strptime(\"20091031\", \"%Y%m%d\")"
   ]
  },
  {
   "cell_type": "markdown",
   "metadata": {},
   "source": [
    "Objects of type datetime are immutable. This means that we cannot change the value of a datetime object after it is created. If we want to change the value of a datetime object, we need to create a new object with the new value.\n",
    "We can use the strftime method to format a datetime object as a string. For example, we can use the strftime method to format a datetime object as a string in the \"YYYY-MM-DD\" format. We can also use the strptime method to parse a string into a datetime object. For example, we can use the strptime method to parse a string that represents a date and time into a datetime object."
   ]
  },
  {
   "cell_type": "code",
   "execution_count": null,
   "metadata": {},
   "outputs": [],
   "source": [
    "# replace parts of a datetime object\n",
    "print(dt)\n",
    "dt_hour = dt.replace(minute = 0, second = 0)\n",
    "print(dt_hour)\n",
    "print(dt)\n"
   ]
  },
  {
   "cell_type": "markdown",
   "metadata": {},
   "source": [
    "The difference between two datetimes is a timedelta object. We can use the timedelta class to represent a duration of time. For example, we can create a timedelta object that represents one day. We can then use this object to perform arithmetic operations on datetime objects."
   ]
  },
  {
   "cell_type": "code",
   "execution_count": null,
   "metadata": {},
   "outputs": [],
   "source": [
    "dt2 = datetime(2011, 11, 15, 22, 30)\n",
    "print(dt2)\n",
    "print(dt)\n",
    "\n",
    "delta = dt2 - dt\n",
    "print(delta)\n",
    "type(delta)"
   ]
  },
  {
   "cell_type": "code",
   "execution_count": null,
   "metadata": {},
   "outputs": [],
   "source": [
    "print(dt)\n",
    "print(dt2)\n",
    "dt + delta"
   ]
  },
  {
   "cell_type": "markdown",
   "metadata": {},
   "source": [
    "#### Control Flow"
   ]
  },
  {
   "cell_type": "markdown",
   "metadata": {},
   "source": [
    "##### if, elif, and else"
   ]
  },
  {
   "cell_type": "markdown",
   "metadata": {},
   "source": [
    "if, elif, and else statements are used to control the flow of execution in Python. We can use these statements to make decisions in our code. For example, we can use an if statement to check if a condition is true and then execute some code based on the result. We can also use elif and else statements to handle multiple conditions.\n",
    "We can use the in operator to check if a value is in a list or a string. For example, we can use the in operator to check if a value is in a list. This can be useful when we want to check if a value is in a list without using a loop."
   ]
  },
  {
   "cell_type": "code",
   "execution_count": null,
   "metadata": {},
   "outputs": [],
   "source": [
    "x = -5\n",
    "if x < 0:\n",
    "    print(\"x is negative\")"
   ]
  },
  {
   "cell_type": "code",
   "execution_count": null,
   "metadata": {},
   "outputs": [],
   "source": [
    "x = 0\n",
    "if x < 0:\n",
    "    print(\"It's negative\")\n",
    "elif x == 0:\n",
    "    print(\"Equal to zero\")\n",
    "elif 0 < x < 5:\n",
    "    print(\"Positive and smaller than 5\")\n",
    "else:\n",
    "    print(\"Positive and larger than 5\")"
   ]
  },
  {
   "cell_type": "markdown",
   "metadata": {},
   "source": [
    "We can use compound statements to combine multiple conditions in a single if statement. For example, we can check if a number is between 0 and 5, or if it is greater than 10. Compound statements often use the and and or operators to combine multiple conditions. The and operator returns True if both conditions are true, while the or operator returns True if at least one condition is true."
   ]
  },
  {
   "cell_type": "code",
   "execution_count": null,
   "metadata": {},
   "outputs": [],
   "source": [
    "a = 5; b = 7\n",
    "c = 8; d = 4\n",
    "\n",
    "if a < b and c > d:\n",
    "    print(\"Made it\")"
   ]
  },
  {
   "cell_type": "code",
   "execution_count": null,
   "metadata": {},
   "outputs": [],
   "source": [
    "4 > 3 > 2 > 1"
   ]
  },
  {
   "cell_type": "markdown",
   "metadata": {},
   "source": [
    "##### for loops\n"
   ]
  },
  {
   "cell_type": "markdown",
   "metadata": {},
   "source": [
    "for loops are used to iterate over a sequence of values. We can use for loops to iterate over lists, strings, and other iterable objects. For example, we can use a for loop to iterate over a list of numbers and print each number. We can also use the range function to generate a sequence of numbers. The range function returns an iterable object that generates a sequence of numbers.\n",
    "We can use the range function to generate a sequence of numbers. For example, we can use the range function to generate a sequence of numbers from 0 to 9. We can also use the range function to generate a sequence of numbers with a specific step size. For example, we can use the range function to generate a sequence of even numbers from 0 to 10."
   ]
  },
  {
   "cell_type": "code",
   "execution_count": null,
   "metadata": {},
   "outputs": [],
   "source": [
    "sequence = [1, 2, None, 4, None, 5]\n",
    "total = 0\n",
    "for value in sequence:\n",
    "    if value is None:\n",
    "        continue\n",
    "    total += value\n",
    "print(total)"
   ]
  },
  {
   "cell_type": "code",
   "execution_count": null,
   "metadata": {},
   "outputs": [],
   "source": [
    "sequence = [1, 2, 0, 4, 6, 5, 2, 1]\n",
    "total_until_5 = 0\n",
    "for value in sequence:\n",
    "    if value == 5:\n",
    "        break\n",
    "    total_until_5 += value\n",
    "print(total_until_5)"
   ]
  },
  {
   "cell_type": "code",
   "execution_count": null,
   "metadata": {},
   "outputs": [],
   "source": [
    "for i in range(4):\n",
    "    for j in range(4):\n",
    "        if j > i:\n",
    "            break\n",
    "        print((i, j))"
   ]
  },
  {
   "cell_type": "markdown",
   "metadata": {},
   "source": [
    "##### while loops"
   ]
  },
  {
   "cell_type": "code",
   "execution_count": null,
   "metadata": {},
   "outputs": [],
   "source": [
    "x = 256\n",
    "total = 0\n",
    "while x > 0:\n",
    "    if total > 500:\n",
    "        break\n",
    "    total += x\n",
    "    x = x // 2\n",
    "    print(x)"
   ]
  },
  {
   "cell_type": "markdown",
   "metadata": {},
   "source": [
    "##### pass"
   ]
  },
  {
   "cell_type": "markdown",
   "metadata": {},
   "source": [
    "pass is a null statement in Python. It is used as a placeholder when we want to define a block of code but do not want to execute any code. For example, we can use pass to define an empty function or an empty class. This can be useful when we want to define a function or a class but do not want to implement it yet.\n",
    "pass is also used in control flow statements to indicate that we do not want to execute any code. For example, we can use pass in an if statement to indicate that we do not want to execute any code if the condition is true. This can be useful when we want to define a block of code but do not want to execute any code."
   ]
  },
  {
   "cell_type": "code",
   "execution_count": null,
   "metadata": {},
   "outputs": [],
   "source": [
    "x = 100\n",
    "if x < 0:\n",
    "    print(\"x is negative\")\n",
    "elif x == 0:\n",
    "   # TODO: put something here\n",
    "   pass\n",
    "else:\n",
    "    print(\"x is positive\")"
   ]
  },
  {
   "cell_type": "markdown",
   "metadata": {},
   "source": [
    "##### range"
   ]
  },
  {
   "cell_type": "markdown",
   "metadata": {},
   "source": [
    "range is a built-in function in Python that generates a sequence of numbers. It is commonly used in for loops to iterate over a range of values. The range function can take one, two, or three arguments: start, stop, and step. The start argument specifies the starting value of the sequence, the stop argument specifies the ending value of the sequence, and the step argument specifies the increment between each value in the sequence.\n",
    "The range function returns an iterable object that generates a sequence of numbers. We can use the list function to convert the range object into a list. For example, we can use the range function to generate a sequence of numbers from 0 to 9 and then convert it into a list. This can be useful when we want to create a list of numbers without using a loop."
   ]
  },
  {
   "cell_type": "code",
   "execution_count": null,
   "metadata": {},
   "outputs": [],
   "source": [
    "print(range(10))\n",
    "print(list(range(10)))\n",
    "print(list(range(0, 10, 2)))"
   ]
  },
  {
   "cell_type": "code",
   "execution_count": null,
   "metadata": {},
   "outputs": [],
   "source": [
    "print(list(range(0, 20, 2)))\n",
    "print(list(range(5, 0, -1)))"
   ]
  },
  {
   "cell_type": "code",
   "execution_count": null,
   "metadata": {},
   "outputs": [],
   "source": [
    "seq = [1, 2, 3, 4]\n",
    "for i in range(len(seq)):\n",
    "    print(f\"element {i} is {seq[i]}\")"
   ]
  },
  {
   "cell_type": "code",
   "execution_count": null,
   "metadata": {},
   "outputs": [],
   "source": [
    "total = 0\n",
    "\n",
    "for i in range(100_000):\n",
    "    # % is the modulo operator\n",
    "    if i % 3 == 0 or i % 5 == 0:\n",
    "        total += i\n",
    "print(f\"The total amount from this sum is {total:,}\")"
   ]
  }
 ],
 "metadata": {
  "kernelspec": {
   "display_name": "Python 3",
   "language": "python",
   "name": "python3"
  },
  "language_info": {
   "codemirror_mode": {
    "name": "ipython",
    "version": 3
   },
   "file_extension": ".py",
   "mimetype": "text/x-python",
   "name": "python",
   "nbconvert_exporter": "python",
   "pygments_lexer": "ipython3",
   "version": "3.13.2"
  }
 },
 "nbformat": 4,
 "nbformat_minor": 2
}
