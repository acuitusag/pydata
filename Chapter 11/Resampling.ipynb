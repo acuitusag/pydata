{
 "cells": [
  {
   "cell_type": "markdown",
   "id": "7123762d",
   "metadata": {},
   "source": [
    "# Chapter 11.6: Resampling\n",
    "## Preliminaries"
   ]
  },
  {
   "cell_type": "code",
   "execution_count": null,
   "id": "b132c67d",
   "metadata": {},
   "outputs": [],
   "source": [
    "import pandas as pd\n",
    "import numpy as np"
   ]
  },
  {
   "cell_type": "markdown",
   "id": "442b7fa6",
   "metadata": {},
   "source": [
    "## 11.6 Resampling and Frequency Conversion"
   ]
  },
  {
   "cell_type": "code",
   "execution_count": null,
   "id": "14c21aa9",
   "metadata": {},
   "outputs": [],
   "source": [
    "dates = pd.date_range('2000-01-01', periods=100)\n",
    "dates"
   ]
  },
  {
   "cell_type": "code",
   "execution_count": null,
   "id": "f601a690",
   "metadata": {},
   "outputs": [],
   "source": [
    "ts = pd.Series(np.random.standard_normal(len(dates)), index=dates)\n",
    "ts"
   ]
  },
  {
   "cell_type": "code",
   "execution_count": null,
   "id": "f7adaf77",
   "metadata": {},
   "outputs": [],
   "source": [
    "ts.resample('ME').mean()"
   ]
  },
  {
   "cell_type": "code",
   "execution_count": null,
   "id": "840c1ec6",
   "metadata": {},
   "outputs": [],
   "source": [
    "ts.resample('ME', kind='period').mean()"
   ]
  }
 ],
 "metadata": {
  "kernelspec": {
   "display_name": "base",
   "language": "python",
   "name": "python3"
  },
  "language_info": {
   "codemirror_mode": {
    "name": "ipython",
    "version": 3
   },
   "file_extension": ".py",
   "mimetype": "text/x-python",
   "name": "python",
   "nbconvert_exporter": "python",
   "pygments_lexer": "ipython3",
   "version": "3.12.7"
  }
 },
 "nbformat": 4,
 "nbformat_minor": 5
}
