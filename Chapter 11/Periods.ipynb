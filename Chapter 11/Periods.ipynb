{
 "cells": [
  {
   "cell_type": "markdown",
   "id": "7123762d",
   "metadata": {},
   "source": [
    "# Chapter 11.5: Periods and Period Arithmetic\n",
    "## Preliminaries"
   ]
  },
  {
   "cell_type": "code",
   "execution_count": null,
   "id": "b132c67d",
   "metadata": {},
   "outputs": [],
   "source": [
    "# from datetime import datetime\n",
    "# from datetime import timedelta\n",
    "# from pandas.tseries.offsets import Hour, Minute\n",
    "import pandas as pd\n",
    "import numpy as np"
   ]
  },
  {
   "cell_type": "code",
   "execution_count": null,
   "id": "d89d3edd",
   "metadata": {},
   "outputs": [],
   "source": [
    "p = pd.Period(2011, freq='Y-DEC')\n",
    "p"
   ]
  },
  {
   "cell_type": "code",
   "execution_count": null,
   "id": "f85d3b89",
   "metadata": {},
   "outputs": [],
   "source": [
    "p + 5"
   ]
  },
  {
   "cell_type": "code",
   "execution_count": null,
   "id": "f5eb923d",
   "metadata": {},
   "outputs": [],
   "source": [
    "p - 2"
   ]
  },
  {
   "cell_type": "markdown",
   "id": "e1f95f58",
   "metadata": {},
   "source": [
    "The difference between two periods is defined as the difference between their start times. The sum of two periods is defined as the period that starts at the earlier of the two start times and ends at the later of the two end times."
   ]
  },
  {
   "cell_type": "code",
   "execution_count": null,
   "id": "4acfe657",
   "metadata": {},
   "outputs": [],
   "source": [
    "pd.Period(2014, freq='Y-DEC') - p"
   ]
  },
  {
   "cell_type": "markdown",
   "id": "12dd7081",
   "metadata": {},
   "source": [
    "We can generate a range of periods and then use it to create a pandas series object."
   ]
  },
  {
   "cell_type": "code",
   "execution_count": null,
   "id": "40b3c3dd",
   "metadata": {},
   "outputs": [],
   "source": [
    "periods = pd.period_range('2000-01-01', '2000-06-30', freq='M')\n",
    "periods"
   ]
  },
  {
   "cell_type": "code",
   "execution_count": null,
   "id": "e2002a1a",
   "metadata": {},
   "outputs": [],
   "source": [
    "pd.Series(np.random.standard_normal(len(periods)), index=periods)"
   ]
  },
  {
   "cell_type": "markdown",
   "id": "ac848ab6",
   "metadata": {},
   "source": [
    "We can also define a PeriodIndex, which is a sequence of periods. This is useful for indexing and slicing operations.\n"
   ]
  },
  {
   "cell_type": "code",
   "execution_count": null,
   "id": "d6cb1a17",
   "metadata": {},
   "outputs": [],
   "source": [
    "values = [\"2001Q3\", \"2002Q2\", \"2003Q1\"]\n",
    "index = pd.PeriodIndex(values, freq='Q-DEC')\n",
    "print(type(index))\n",
    "index"
   ]
  },
  {
   "cell_type": "markdown",
   "id": "dbceec0a",
   "metadata": {},
   "source": [
    "### Period Frequency Conversion"
   ]
  },
  {
   "cell_type": "code",
   "execution_count": null,
   "id": "ea2e13c5",
   "metadata": {},
   "outputs": [],
   "source": [
    "p = pd.Period(2011, freq='Y-DEC')\n",
    "p"
   ]
  },
  {
   "cell_type": "code",
   "execution_count": null,
   "id": "ff783f8f",
   "metadata": {},
   "outputs": [],
   "source": [
    "p.asfreq('M', how='start')"
   ]
  },
  {
   "cell_type": "code",
   "execution_count": null,
   "id": "73e91862",
   "metadata": {},
   "outputs": [],
   "source": [
    "p.asfreq('M', how='end')"
   ]
  },
  {
   "cell_type": "code",
   "execution_count": null,
   "id": "80c09f69",
   "metadata": {},
   "outputs": [],
   "source": [
    "p.asfreq('M')"
   ]
  },
  {
   "cell_type": "code",
   "execution_count": null,
   "id": "b117e841",
   "metadata": {},
   "outputs": [],
   "source": [
    "p = pd.Period(2011, freq='Y-JUN')\n",
    "p"
   ]
  },
  {
   "cell_type": "code",
   "execution_count": null,
   "id": "006f507a",
   "metadata": {},
   "outputs": [],
   "source": [
    "p.asfreq('M', how='start')"
   ]
  },
  {
   "cell_type": "code",
   "execution_count": null,
   "id": "e4092bd5",
   "metadata": {},
   "outputs": [],
   "source": [
    "p.asfreq('M', 'end')"
   ]
  },
  {
   "cell_type": "code",
   "execution_count": null,
   "id": "7a6512f1",
   "metadata": {},
   "outputs": [],
   "source": [
    "p = pd.Period('Aug-2011', freq='M')\n",
    "p"
   ]
  },
  {
   "cell_type": "code",
   "execution_count": null,
   "id": "8a50eb53",
   "metadata": {},
   "outputs": [],
   "source": [
    "p.asfreq('Y-JUN')"
   ]
  },
  {
   "cell_type": "code",
   "execution_count": null,
   "id": "c1d0e94b",
   "metadata": {},
   "outputs": [],
   "source": [
    "periods = pd.period_range('2006', '2009', freq='Y-DEC')\n",
    "ts = pd.Series(np.random.standard_normal(len(periods)), index=periods)\n",
    "ts"
   ]
  },
  {
   "cell_type": "code",
   "execution_count": null,
   "id": "cb995271",
   "metadata": {},
   "outputs": [],
   "source": [
    "ts.asfreq('M', how='start')"
   ]
  },
  {
   "cell_type": "code",
   "execution_count": null,
   "id": "59117f1e",
   "metadata": {},
   "outputs": [],
   "source": [
    "ts.asfreq(freq='B', how='end')"
   ]
  },
  {
   "cell_type": "markdown",
   "id": "05e0cc2b",
   "metadata": {},
   "source": [
    "### Quarterly Period Frequencies"
   ]
  },
  {
   "cell_type": "code",
   "execution_count": 21,
   "id": "777ac951",
   "metadata": {},
   "outputs": [
    {
     "data": {
      "text/plain": [
       "Period('2012Q4', 'Q-JAN')"
      ]
     },
     "execution_count": 21,
     "metadata": {},
     "output_type": "execute_result"
    }
   ],
   "source": [
    "p = pd.Period('2012Q4', freq='Q-JAN')\n",
    "p   "
   ]
  },
  {
   "cell_type": "code",
   "execution_count": 22,
   "id": "b84b878d",
   "metadata": {},
   "outputs": [
    {
     "data": {
      "text/plain": [
       "Period('2011-11-01', 'D')"
      ]
     },
     "execution_count": 22,
     "metadata": {},
     "output_type": "execute_result"
    }
   ],
   "source": [
    "p.asfreq(freq='D', how='start')"
   ]
  },
  {
   "cell_type": "code",
   "execution_count": null,
   "id": "73977897",
   "metadata": {},
   "outputs": [],
   "source": [
    "p.asfreq(freq='D', how='end')"
   ]
  },
  {
   "cell_type": "code",
   "execution_count": null,
   "id": "245f7477",
   "metadata": {},
   "outputs": [],
   "source": [
    "p4pm = (p.asfreq(\"B\", how=\"end\") - 1).asfreq(\"min\", how=\"start\") + 16 * 60\n",
    "p4pm\n"
   ]
  },
  {
   "cell_type": "code",
   "execution_count": null,
   "id": "d5bf8b19",
   "metadata": {},
   "outputs": [],
   "source": [
    "p4pm.to_timestamp()"
   ]
  },
  {
   "cell_type": "code",
   "execution_count": null,
   "id": "698facf2",
   "metadata": {},
   "outputs": [],
   "source": [
    "periods = pd.period_range('2011Q3', '2012Q4', freq='Q-JAN')\n",
    "periods"
   ]
  },
  {
   "cell_type": "code",
   "execution_count": null,
   "id": "79c98f2f",
   "metadata": {},
   "outputs": [],
   "source": [
    "ts = pd.Series(np.arange(len(periods)), index=periods)\n",
    "print(ts)"
   ]
  },
  {
   "cell_type": "code",
   "execution_count": null,
   "id": "3d2834ab",
   "metadata": {},
   "outputs": [],
   "source": [
    "new_periods = (periods.asfreq(\"B\", \"end\") - 1).asfreq(\"h\", \"start\") + 16\n",
    "ts.index = new_periods.to_timestamp()\n",
    "print(ts)"
   ]
  },
  {
   "cell_type": "markdown",
   "id": "292ef6cb",
   "metadata": {},
   "source": [
    "### Converting Timestamps to Periods (and Back)"
   ]
  },
  {
   "cell_type": "code",
   "execution_count": null,
   "id": "89f72546",
   "metadata": {},
   "outputs": [],
   "source": [
    "dates = pd.date_range('2000-01-01', periods=3, freq='ME')\n",
    "ts = pd.Series(np.random.standard_normal(len(dates)), index=dates)\n",
    "print(ts)"
   ]
  },
  {
   "cell_type": "code",
   "execution_count": null,
   "id": "18951c7d",
   "metadata": {},
   "outputs": [],
   "source": [
    "pts = ts.to_period()\n",
    "print(pts)"
   ]
  },
  {
   "cell_type": "code",
   "execution_count": null,
   "id": "81af089d",
   "metadata": {},
   "outputs": [],
   "source": [
    "dates = pd.date_range('2000-01-29', periods=6)\n",
    "ts2 = pd.Series(np.random.standard_normal(len(dates)), index=dates)\n",
    "print(ts2)"
   ]
  },
  {
   "cell_type": "code",
   "execution_count": null,
   "id": "90d9333b",
   "metadata": {},
   "outputs": [],
   "source": [
    "ts2.to_period('M')"
   ]
  },
  {
   "cell_type": "code",
   "execution_count": null,
   "id": "be259bde",
   "metadata": {},
   "outputs": [],
   "source": [
    "pts = ts2.to_period('M')\n",
    "print('This is a period series: \\n')\n",
    "print(pts)\n",
    "print('This is a timestamp series:  \\n')\n",
    "print(pts.to_timestamp(how='end'))"
   ]
  },
  {
   "cell_type": "markdown",
   "id": "0d506634",
   "metadata": {},
   "source": [
    "### Creating a PeriodIndex from Arrays"
   ]
  },
  {
   "cell_type": "code",
   "execution_count": null,
   "id": "5565cce8",
   "metadata": {},
   "outputs": [],
   "source": [
    "data = pd.read_csv(r\"F:\\books\\pydata-book-3rd-edition\\pydata-book-3rd-edition\\examples\\macrodata.csv\")\n",
    "data.head(5)"
   ]
  },
  {
   "cell_type": "code",
   "execution_count": null,
   "id": "74c50fd4",
   "metadata": {},
   "outputs": [],
   "source": [
    "data.year"
   ]
  },
  {
   "cell_type": "code",
   "execution_count": null,
   "id": "f5f90da9",
   "metadata": {},
   "outputs": [],
   "source": [
    "data.quarter"
   ]
  },
  {
   "cell_type": "code",
   "execution_count": null,
   "id": "b1351d2b",
   "metadata": {},
   "outputs": [],
   "source": [
    "index = pd.PeriodIndex.from_fields(year=data.year, quarter=data.quarter, freq='Q-DEC')\n",
    "index"
   ]
  },
  {
   "cell_type": "code",
   "execution_count": null,
   "id": "527663fb",
   "metadata": {},
   "outputs": [],
   "source": [
    "data.index = index\n",
    "data.infl.head(5)"
   ]
  }
 ],
 "metadata": {
  "kernelspec": {
   "display_name": "base",
   "language": "python",
   "name": "python3"
  },
  "language_info": {
   "codemirror_mode": {
    "name": "ipython",
    "version": 3
   },
   "file_extension": ".py",
   "mimetype": "text/x-python",
   "name": "python",
   "nbconvert_exporter": "python",
   "pygments_lexer": "ipython3",
   "version": "3.12.7"
  }
 },
 "nbformat": 4,
 "nbformat_minor": 5
}
