{
 "cells": [
  {
   "cell_type": "markdown",
   "id": "7123762d",
   "metadata": {},
   "source": [
    "# Chapter 11: Time Series\n",
    "## Preliminaries"
   ]
  },
  {
   "cell_type": "code",
   "execution_count": null,
   "id": "b132c67d",
   "metadata": {},
   "outputs": [],
   "source": [
    "from datetime import datetime\n",
    "from datetime import timedelta\n",
    "from pandas.tseries.offsets import Hour, Minute\n",
    "import pandas as pd\n",
    "import numpy as np"
   ]
  },
  {
   "cell_type": "markdown",
   "id": "d5b6570f",
   "metadata": {},
   "source": [
    "## 11.1 Date and Time Data Types and Tools"
   ]
  },
  {
   "cell_type": "code",
   "execution_count": null,
   "id": "6e9249c6",
   "metadata": {},
   "outputs": [],
   "source": [
    "now = datetime.now()\n",
    "now"
   ]
  },
  {
   "cell_type": "code",
   "execution_count": null,
   "id": "8dd30b7c",
   "metadata": {},
   "outputs": [],
   "source": [
    "now.year, now.month, now.day"
   ]
  },
  {
   "cell_type": "code",
   "execution_count": null,
   "id": "84d52659",
   "metadata": {},
   "outputs": [],
   "source": [
    "delta = datetime(2011, 1, 7) - datetime(2008, 6, 24, 8, 15)\n",
    "delta"
   ]
  },
  {
   "cell_type": "code",
   "execution_count": null,
   "id": "a04df61e",
   "metadata": {},
   "outputs": [],
   "source": [
    "delta.days"
   ]
  },
  {
   "cell_type": "code",
   "execution_count": null,
   "id": "491091c7",
   "metadata": {},
   "outputs": [],
   "source": [
    "delta.seconds"
   ]
  },
  {
   "cell_type": "code",
   "execution_count": null,
   "id": "3d123124",
   "metadata": {},
   "outputs": [],
   "source": [
    "start = datetime(2011, 1, 7)\n",
    "start + timedelta(days=12)"
   ]
  },
  {
   "cell_type": "code",
   "execution_count": null,
   "id": "390e759f",
   "metadata": {},
   "outputs": [],
   "source": [
    "start - 2 * timedelta(days=12)\n"
   ]
  },
  {
   "cell_type": "markdown",
   "id": "651502e4",
   "metadata": {},
   "source": [
    "### Converting Between String and Datetime"
   ]
  },
  {
   "cell_type": "code",
   "execution_count": null,
   "id": "c0cf72b9",
   "metadata": {},
   "outputs": [],
   "source": [
    "stamp = datetime(2011, 1, 3)\n",
    "str(stamp)"
   ]
  },
  {
   "cell_type": "code",
   "execution_count": null,
   "id": "8c6125d6",
   "metadata": {},
   "outputs": [],
   "source": [
    "stamp.strftime('%Y-%m-%d')"
   ]
  },
  {
   "cell_type": "code",
   "execution_count": null,
   "id": "98c69cc8",
   "metadata": {},
   "outputs": [],
   "source": [
    "value = '2011-01-03'\n",
    "datetime.strptime(value, '%Y-%m-%d')"
   ]
  },
  {
   "cell_type": "code",
   "execution_count": null,
   "id": "fbdfd278",
   "metadata": {},
   "outputs": [],
   "source": [
    "datestrs = ['7/6/2011', '8/6/2011']\n",
    "[datetime.strptime(x, '%m/%d/%Y') for x in datestrs]"
   ]
  },
  {
   "cell_type": "code",
   "execution_count": null,
   "id": "6e3ee144",
   "metadata": {},
   "outputs": [],
   "source": [
    "datestrs = ['2011-07-06 12:00:00', '2011-08-06 00:00:00']\n",
    "pd.to_datetime(datestrs)"
   ]
  },
  {
   "cell_type": "code",
   "execution_count": null,
   "id": "ed950135",
   "metadata": {},
   "outputs": [],
   "source": [
    "idx = pd.to_datetime(datestrs + [None])\n",
    "idx"
   ]
  },
  {
   "cell_type": "code",
   "execution_count": null,
   "id": "a24a31a6",
   "metadata": {},
   "outputs": [],
   "source": [
    "idx[2]"
   ]
  },
  {
   "cell_type": "code",
   "execution_count": null,
   "id": "d369143f",
   "metadata": {},
   "outputs": [],
   "source": [
    "pd.isna(idx)"
   ]
  },
  {
   "cell_type": "markdown",
   "id": "5e5b3e18",
   "metadata": {},
   "source": [
    "## 11.2 Time Series Basics"
   ]
  },
  {
   "cell_type": "code",
   "execution_count": null,
   "id": "04c05724",
   "metadata": {},
   "outputs": [],
   "source": [
    "dates = [datetime(2011, 1, 2), datetime(2011, 1, 5),\n",
    "        datetime(2011, 1, 7), datetime(2011, 1, 8),\n",
    "        datetime(2011, 1, 10), datetime(2011, 1, 12)]\n",
    "ts = pd.Series(np.random.standard_normal(6), index=dates)\n",
    "ts"
   ]
  },
  {
   "cell_type": "code",
   "execution_count": null,
   "id": "e9bbf229",
   "metadata": {},
   "outputs": [],
   "source": [
    "ts.index"
   ]
  },
  {
   "cell_type": "code",
   "execution_count": null,
   "id": "c266578c",
   "metadata": {},
   "outputs": [],
   "source": [
    "ts + ts[::2]"
   ]
  },
  {
   "cell_type": "code",
   "execution_count": null,
   "id": "7f8321a9",
   "metadata": {},
   "outputs": [],
   "source": [
    "ts.index.dtype"
   ]
  },
  {
   "cell_type": "code",
   "execution_count": null,
   "id": "e0fd0d48",
   "metadata": {},
   "outputs": [],
   "source": [
    "stamp = ts.index[0]\n",
    "stamp"
   ]
  },
  {
   "cell_type": "markdown",
   "id": "7a2f1893",
   "metadata": {},
   "source": [
    "### Indexing, Selection, and Subsetting"
   ]
  },
  {
   "cell_type": "code",
   "execution_count": null,
   "id": "f668a6df",
   "metadata": {},
   "outputs": [],
   "source": [
    "stamp = ts.index[3]\n",
    "ts[stamp]"
   ]
  },
  {
   "cell_type": "code",
   "execution_count": null,
   "id": "0d4d82b0",
   "metadata": {},
   "outputs": [],
   "source": [
    "ts['2011-01-10']"
   ]
  },
  {
   "cell_type": "code",
   "execution_count": null,
   "id": "e2128a9f",
   "metadata": {},
   "outputs": [],
   "source": [
    "longer_ts = pd.Series(np.random.standard_normal(1000),\n",
    "                     index=pd.date_range('2000-01-01', periods=1000))\n",
    "\n",
    "longer_ts"
   ]
  },
  {
   "cell_type": "code",
   "execution_count": null,
   "id": "ca699b87",
   "metadata": {},
   "outputs": [],
   "source": [
    "longer_ts[\"2001\"]"
   ]
  },
  {
   "cell_type": "code",
   "execution_count": null,
   "id": "a8d9ef23",
   "metadata": {},
   "outputs": [],
   "source": [
    "longer_ts['2001-05']"
   ]
  },
  {
   "cell_type": "code",
   "execution_count": null,
   "id": "c17c3ffd",
   "metadata": {},
   "outputs": [],
   "source": [
    "ts[datetime(2011, 1, 7):]"
   ]
  },
  {
   "cell_type": "code",
   "execution_count": null,
   "id": "b98165e6",
   "metadata": {},
   "outputs": [],
   "source": [
    "ts[datetime(2011, 1, 7):datetime(2011, 1, 10)]"
   ]
  },
  {
   "cell_type": "code",
   "execution_count": null,
   "id": "59814e95",
   "metadata": {},
   "outputs": [],
   "source": [
    "ts"
   ]
  },
  {
   "cell_type": "code",
   "execution_count": null,
   "id": "1556f692",
   "metadata": {},
   "outputs": [],
   "source": [
    "ts['2011-01-06':'2011-01-11']"
   ]
  },
  {
   "cell_type": "code",
   "execution_count": null,
   "id": "164cc5f9",
   "metadata": {},
   "outputs": [],
   "source": [
    "ts.truncate(after='2011-01-09')"
   ]
  },
  {
   "cell_type": "code",
   "execution_count": null,
   "id": "10ebc8f5",
   "metadata": {},
   "outputs": [],
   "source": [
    "dates = pd.date_range('1/1/2000', periods=100, freq='W-WED')\n",
    "dates"
   ]
  },
  {
   "cell_type": "code",
   "execution_count": null,
   "id": "d1bc5e38",
   "metadata": {},
   "outputs": [],
   "source": [
    "long_df = pd.DataFrame(\n",
    "    np.random.standard_normal((100, 4)),\n",
    "    index=dates,\n",
    "    columns=['Colorado', 'Texas',\n",
    "             'New York', 'Ohio'])\n",
    "long_df"
   ]
  },
  {
   "cell_type": "code",
   "execution_count": null,
   "id": "fb624bae",
   "metadata": {},
   "outputs": [],
   "source": [
    "long_df.loc['2001-05']"
   ]
  },
  {
   "cell_type": "markdown",
   "id": "9bbbd141",
   "metadata": {},
   "source": [
    "### Times Series with Duplicate Indices"
   ]
  },
  {
   "cell_type": "code",
   "execution_count": null,
   "id": "e9d8e99c",
   "metadata": {},
   "outputs": [],
   "source": [
    "dates = pd.DatetimeIndex([\"2000-01-01\", \"2000-01-02\", \"2000-01-02\",\n",
    "                         \"2000-01-02\", \"2000-01-03\"])\n",
    "\n",
    "dup_ts = pd.Series(np.arange(5), index=dates)\n",
    "dup_ts"
   ]
  },
  {
   "cell_type": "code",
   "execution_count": null,
   "id": "1fe759ed",
   "metadata": {},
   "outputs": [],
   "source": [
    "dup_ts.index.is_unique"
   ]
  },
  {
   "cell_type": "code",
   "execution_count": null,
   "id": "77dfe09d",
   "metadata": {},
   "outputs": [],
   "source": [
    "dup_ts['2000-01-02']"
   ]
  },
  {
   "cell_type": "code",
   "execution_count": null,
   "id": "7c76ef2a",
   "metadata": {},
   "outputs": [],
   "source": [
    "grouped = dup_ts.groupby(level=0)\n",
    "grouped.mean()"
   ]
  },
  {
   "cell_type": "code",
   "execution_count": null,
   "id": "f9e64384",
   "metadata": {},
   "outputs": [],
   "source": [
    "grouped.count()"
   ]
  },
  {
   "cell_type": "markdown",
   "id": "25ce11b2",
   "metadata": {},
   "source": [
    "## 11.3 Date Ranges, Frequencies, and Shifting"
   ]
  },
  {
   "cell_type": "code",
   "execution_count": null,
   "id": "8ac5c7d3",
   "metadata": {},
   "outputs": [],
   "source": [
    "ts"
   ]
  },
  {
   "cell_type": "code",
   "execution_count": null,
   "id": "28f50b0e",
   "metadata": {},
   "outputs": [],
   "source": [
    "resampler = ts.resample('D')\n",
    "resampler"
   ]
  },
  {
   "cell_type": "markdown",
   "id": "08e9ad9e",
   "metadata": {},
   "source": [
    "### Generating Date Ranges"
   ]
  },
  {
   "cell_type": "code",
   "execution_count": null,
   "id": "62b2d3a2",
   "metadata": {},
   "outputs": [],
   "source": [
    "index = pd.date_range('2012-04-01', '2012-06-01')\n",
    "index"
   ]
  },
  {
   "cell_type": "code",
   "execution_count": null,
   "id": "3ff233b5",
   "metadata": {},
   "outputs": [],
   "source": [
    "pd.date_range(start='2012-04-01', periods=20)"
   ]
  },
  {
   "cell_type": "code",
   "execution_count": null,
   "id": "0c6babee",
   "metadata": {},
   "outputs": [],
   "source": [
    "pd.date_range(end='2012-06-01', periods=20)"
   ]
  },
  {
   "cell_type": "code",
   "execution_count": null,
   "id": "d9767ee2",
   "metadata": {},
   "outputs": [],
   "source": [
    "pd.date_range('2000-01-01', '2000-12-01', freq='ME')"
   ]
  },
  {
   "cell_type": "code",
   "execution_count": null,
   "id": "52f4916a",
   "metadata": {},
   "outputs": [],
   "source": [
    "pd.date_range('2012-05-02 12:56:31', periods=5)"
   ]
  },
  {
   "cell_type": "code",
   "execution_count": null,
   "id": "b243b9d5",
   "metadata": {},
   "outputs": [],
   "source": [
    "pd.date_range('2012-05-02 12:56:31', periods=5, normalize=True)"
   ]
  },
  {
   "cell_type": "markdown",
   "id": "f79a4155",
   "metadata": {},
   "source": [
    "### Frequencies and Date Offsets"
   ]
  },
  {
   "cell_type": "code",
   "execution_count": null,
   "id": "4092dcde",
   "metadata": {},
   "outputs": [],
   "source": [
    "hour = Hour()\n",
    "hour"
   ]
  },
  {
   "cell_type": "code",
   "execution_count": null,
   "id": "b219f0e0",
   "metadata": {},
   "outputs": [],
   "source": [
    "four_hours = Hour(4)\n",
    "four_hours"
   ]
  },
  {
   "cell_type": "code",
   "execution_count": null,
   "id": "16e71812",
   "metadata": {},
   "outputs": [],
   "source": [
    "pd.date_range('2000-01-01', '2000-01-03 23:59', freq='4h')"
   ]
  },
  {
   "cell_type": "code",
   "execution_count": null,
   "id": "005cb29a",
   "metadata": {},
   "outputs": [],
   "source": [
    "Hour(2) + Minute(30)"
   ]
  },
  {
   "cell_type": "code",
   "execution_count": null,
   "id": "1c6fa668",
   "metadata": {},
   "outputs": [],
   "source": [
    "pd.date_range('2000-01-01', periods=10, freq='1h30min')"
   ]
  },
  {
   "cell_type": "markdown",
   "id": "e059a9ac",
   "metadata": {},
   "source": [
    "#### Week of month dates"
   ]
  },
  {
   "cell_type": "code",
   "execution_count": null,
   "id": "712f18cf",
   "metadata": {},
   "outputs": [],
   "source": [
    "monthly_dates = pd.date_range(\"2012-01-01\", \"2012-09-01\", freq=\"WOM-3FRI\")\n",
    "list(monthly_dates)"
   ]
  },
  {
   "cell_type": "markdown",
   "id": "3b49fda0",
   "metadata": {},
   "source": [
    "### Shifting and Lagging Data"
   ]
  },
  {
   "cell_type": "code",
   "execution_count": null,
   "id": "bfefe0ba",
   "metadata": {},
   "outputs": [],
   "source": [
    "ts = pd.Series(np.random.standard_normal(4),\n",
    "                index=pd.date_range('2012-01-01', periods=4, freq='ME'))\n",
    "ts\n",
    "               "
   ]
  },
  {
   "cell_type": "code",
   "execution_count": null,
   "id": "f8d44abc",
   "metadata": {},
   "outputs": [],
   "source": [
    "ts.shift(-2)"
   ]
  },
  {
   "cell_type": "code",
   "execution_count": null,
   "id": "ea6022bc",
   "metadata": {},
   "outputs": [],
   "source": [
    "ts.shift(1)"
   ]
  },
  {
   "cell_type": "code",
   "execution_count": null,
   "id": "7fb08011",
   "metadata": {},
   "outputs": [],
   "source": [
    "ts.shift(2, freq='ME')"
   ]
  },
  {
   "cell_type": "code",
   "execution_count": null,
   "id": "378e1382",
   "metadata": {},
   "outputs": [],
   "source": [
    "ts.shift(3, freq='D')"
   ]
  },
  {
   "cell_type": "code",
   "execution_count": null,
   "id": "8516d31b",
   "metadata": {},
   "outputs": [],
   "source": [
    "ts.shift(1, freq='90min')"
   ]
  },
  {
   "cell_type": "markdown",
   "id": "9be7eabd",
   "metadata": {},
   "source": [
    "#### Shift dates with offsets"
   ]
  },
  {
   "cell_type": "code",
   "execution_count": null,
   "id": "7bb8514f",
   "metadata": {},
   "outputs": [],
   "source": [
    "from pandas.tseries.offsets import Day, MonthEnd"
   ]
  },
  {
   "cell_type": "code",
   "execution_count": null,
   "id": "7d0e7ac7",
   "metadata": {},
   "outputs": [],
   "source": [
    "now = datetime(2011, 11, 17)\n",
    "now + 3 * Day()"
   ]
  },
  {
   "cell_type": "code",
   "execution_count": null,
   "id": "2e714f6b",
   "metadata": {},
   "outputs": [],
   "source": [
    "now + MonthEnd()"
   ]
  },
  {
   "cell_type": "code",
   "execution_count": null,
   "id": "e69e1411",
   "metadata": {},
   "outputs": [],
   "source": [
    "now + MonthEnd(2)"
   ]
  },
  {
   "cell_type": "code",
   "execution_count": null,
   "id": "d63650ba",
   "metadata": {},
   "outputs": [],
   "source": [
    "ts = pd.Series(np.random.standard_normal(20),\n",
    "                index=pd.date_range('2000-01-15', periods=20, freq='4D'))\n",
    "ts"
   ]
  },
  {
   "cell_type": "code",
   "execution_count": null,
   "id": "e11df635",
   "metadata": {},
   "outputs": [],
   "source": [
    "ts.groupby(MonthEnd().rollforward).mean()"
   ]
  },
  {
   "cell_type": "code",
   "execution_count": null,
   "id": "cf8a3c00",
   "metadata": {},
   "outputs": [],
   "source": [
    "ts.resample('ME').mean()"
   ]
  },
  {
   "cell_type": "markdown",
   "id": "c44d38d7",
   "metadata": {},
   "source": [
    "## 11.4 Time Zone Handling"
   ]
  },
  {
   "cell_type": "code",
   "execution_count": null,
   "id": "04cba683",
   "metadata": {},
   "outputs": [],
   "source": [
    "import pytz"
   ]
  },
  {
   "cell_type": "code",
   "execution_count": null,
   "id": "65b48d66",
   "metadata": {},
   "outputs": [],
   "source": [
    "pytz.common_timezones[-5:]"
   ]
  },
  {
   "cell_type": "code",
   "execution_count": null,
   "id": "a5f4129a",
   "metadata": {},
   "outputs": [],
   "source": [
    "tz = pytz.timezone('America/New_York')\n",
    "tz"
   ]
  },
  {
   "cell_type": "markdown",
   "id": "8ac72685",
   "metadata": {},
   "source": [
    "### Time Zone Localization and Conversion"
   ]
  },
  {
   "cell_type": "code",
   "execution_count": null,
   "id": "611e384e",
   "metadata": {},
   "outputs": [],
   "source": [
    "dates = pd.date_range(\"2012-03-09\", periods=6, freq=\"D\")\n",
    "ts = pd.Series(np.random.standard_normal(len(dates)), index=dates)\n",
    "ts"
   ]
  },
  {
   "cell_type": "code",
   "execution_count": null,
   "id": "9081d717",
   "metadata": {},
   "outputs": [],
   "source": [
    "pd.date_range(\"2012-03-09 09:30\", periods=10, freq=\"D\", tz='UTC')"
   ]
  },
  {
   "cell_type": "code",
   "execution_count": null,
   "id": "27e41028",
   "metadata": {},
   "outputs": [],
   "source": [
    "ts.index"
   ]
  },
  {
   "cell_type": "code",
   "execution_count": null,
   "id": "cb38d2fb",
   "metadata": {},
   "outputs": [],
   "source": [
    "ts_utc = ts.tz_localize('UTC')\n",
    "ts_utc.index"
   ]
  },
  {
   "cell_type": "code",
   "execution_count": null,
   "id": "a91eadd6",
   "metadata": {},
   "outputs": [],
   "source": [
    "ts_utc.tz_convert('America/New_York').index"
   ]
  },
  {
   "cell_type": "code",
   "execution_count": null,
   "id": "77989c9d",
   "metadata": {},
   "outputs": [],
   "source": [
    "ts_eastern = ts.tz_localize('America/New_York')\n",
    "ts_eastern.index"
   ]
  },
  {
   "cell_type": "code",
   "execution_count": null,
   "id": "57887392",
   "metadata": {},
   "outputs": [],
   "source": [
    "ts_eastern.tz_convert('UTC').index"
   ]
  },
  {
   "cell_type": "code",
   "execution_count": null,
   "id": "d3b469ad",
   "metadata": {},
   "outputs": [],
   "source": [
    "ts_eastern.tz_convert('Europe/Berlin').index"
   ]
  },
  {
   "cell_type": "code",
   "execution_count": null,
   "id": "cd2cf595",
   "metadata": {},
   "outputs": [],
   "source": [
    "ts.index.tz_localize('Asia/Shanghai')"
   ]
  },
  {
   "cell_type": "markdown",
   "id": "12191f9f",
   "metadata": {},
   "source": [
    "### Operations with Time Zone-Aware Timestamp Objects"
   ]
  },
  {
   "cell_type": "code",
   "execution_count": null,
   "id": "780660a2",
   "metadata": {},
   "outputs": [],
   "source": [
    "stamp = pd.Timestamp('2011-03-12 04:00')\n",
    "stamp"
   ]
  },
  {
   "cell_type": "code",
   "execution_count": null,
   "id": "597ee641",
   "metadata": {},
   "outputs": [],
   "source": [
    "stamp_utc = stamp.tz_localize('UTC')\n",
    "stamp_utc"
   ]
  },
  {
   "cell_type": "code",
   "execution_count": null,
   "id": "0eb4f42d",
   "metadata": {},
   "outputs": [],
   "source": [
    "stamp_utc.tz_convert('America/New_York')"
   ]
  },
  {
   "cell_type": "code",
   "execution_count": null,
   "id": "8576fe20",
   "metadata": {},
   "outputs": [],
   "source": [
    "stamp_moscow = pd.Timestamp('2011-03-12 04:00', tz='Europe/Moscow')\n",
    "stamp_moscow"
   ]
  },
  {
   "cell_type": "code",
   "execution_count": null,
   "id": "6227ff9d",
   "metadata": {},
   "outputs": [],
   "source": [
    "stamp_utc.value"
   ]
  },
  {
   "cell_type": "code",
   "execution_count": null,
   "id": "81cf8f9c",
   "metadata": {},
   "outputs": [],
   "source": [
    "stamp_utc.tz_convert('America/New_York').value"
   ]
  },
  {
   "cell_type": "code",
   "execution_count": null,
   "id": "4a1d75c0",
   "metadata": {},
   "outputs": [],
   "source": [
    "stamp = pd.Timestamp('2012-03-11 01:30', tz='America/New_York')\n",
    "stamp"
   ]
  },
  {
   "cell_type": "code",
   "execution_count": null,
   "id": "20a1aa2a",
   "metadata": {},
   "outputs": [],
   "source": [
    "stamp + Hour()"
   ]
  },
  {
   "cell_type": "code",
   "execution_count": null,
   "id": "209228d3",
   "metadata": {},
   "outputs": [],
   "source": [
    "stamp = pd.Timestamp('2012-11-04 00:30', tz='America/New_York')\n",
    "stamp"
   ]
  },
  {
   "cell_type": "code",
   "execution_count": null,
   "id": "4cbca277",
   "metadata": {},
   "outputs": [],
   "source": [
    "stamp + 2 * Hour()"
   ]
  },
  {
   "cell_type": "markdown",
   "id": "e5a2d8ef",
   "metadata": {},
   "source": [
    "### Operations Between Different Time Zones"
   ]
  },
  {
   "cell_type": "code",
   "execution_count": null,
   "id": "8c77fedc",
   "metadata": {},
   "outputs": [],
   "source": [
    "dates = pd.date_range(\"2012-03-07 09:30\", periods=10, freq=\"B\")\n",
    "ts = pd.Series(np.random.standard_normal(len(dates)), index=dates)\n",
    "ts.index"
   ]
  },
  {
   "cell_type": "code",
   "execution_count": null,
   "id": "2a901db7",
   "metadata": {},
   "outputs": [],
   "source": [
    "ts1 = ts[:7].tz_localize('Europe/London')\n",
    "ts2 = ts[2:].tz_localize('Europe/Moscow')\n",
    "result = ts1 + ts2\n",
    "result.index"
   ]
  },
  {
   "cell_type": "markdown",
   "id": "c19a7145",
   "metadata": {},
   "source": [
    "## 11.5 Periods and Period Arithmetic"
   ]
  },
  {
   "cell_type": "code",
   "execution_count": null,
   "id": "d89d3edd",
   "metadata": {},
   "outputs": [],
   "source": [
    "p = pd.Period(2011, freq='Y-DEC')\n",
    "p"
   ]
  },
  {
   "cell_type": "code",
   "execution_count": null,
   "id": "f85d3b89",
   "metadata": {},
   "outputs": [],
   "source": [
    "p + 5"
   ]
  },
  {
   "cell_type": "code",
   "execution_count": null,
   "id": "f5eb923d",
   "metadata": {},
   "outputs": [],
   "source": [
    "p - 2"
   ]
  },
  {
   "cell_type": "code",
   "execution_count": null,
   "id": "4acfe657",
   "metadata": {},
   "outputs": [],
   "source": [
    "pd.Period(2014, freq='Y-DEC') - p"
   ]
  },
  {
   "cell_type": "code",
   "execution_count": null,
   "id": "40b3c3dd",
   "metadata": {},
   "outputs": [],
   "source": [
    "periods = pd.period_range('2000-01-01', '2000-06-30', freq='M')\n",
    "periods"
   ]
  },
  {
   "cell_type": "code",
   "execution_count": null,
   "id": "e2002a1a",
   "metadata": {},
   "outputs": [],
   "source": [
    "pd.Series(np.random.standard_normal(len(periods)), index=periods)"
   ]
  },
  {
   "cell_type": "code",
   "execution_count": null,
   "id": "d6cb1a17",
   "metadata": {},
   "outputs": [],
   "source": [
    "values = [\"2001Q3\", \"2002Q2\", \"2003Q1\"]\n",
    "index = pd.PeriodIndex(values, freq='Q-DEC')\n",
    "index"
   ]
  },
  {
   "cell_type": "markdown",
   "id": "dbceec0a",
   "metadata": {},
   "source": [
    "### Period Frequency Conversion"
   ]
  },
  {
   "cell_type": "code",
   "execution_count": null,
   "id": "ea2e13c5",
   "metadata": {},
   "outputs": [],
   "source": [
    "p = pd.Period(2011, freq='Y-DEC')\n",
    "p"
   ]
  },
  {
   "cell_type": "code",
   "execution_count": null,
   "id": "ff783f8f",
   "metadata": {},
   "outputs": [],
   "source": [
    "p.asfreq('M', how='start')"
   ]
  },
  {
   "cell_type": "code",
   "execution_count": null,
   "id": "73e91862",
   "metadata": {},
   "outputs": [],
   "source": [
    "p.asfreq('M', how='end')"
   ]
  },
  {
   "cell_type": "code",
   "execution_count": null,
   "id": "80c09f69",
   "metadata": {},
   "outputs": [],
   "source": [
    "p.asfreq('M')"
   ]
  },
  {
   "cell_type": "code",
   "execution_count": null,
   "id": "b117e841",
   "metadata": {},
   "outputs": [],
   "source": [
    "p = pd.Period(2011, freq='Y-JUN')\n",
    "p"
   ]
  },
  {
   "cell_type": "code",
   "execution_count": null,
   "id": "006f507a",
   "metadata": {},
   "outputs": [],
   "source": [
    "p.asfreq('M', how='start')"
   ]
  },
  {
   "cell_type": "code",
   "execution_count": null,
   "id": "e4092bd5",
   "metadata": {},
   "outputs": [],
   "source": [
    "p.asfreq('M', 'end')"
   ]
  },
  {
   "cell_type": "code",
   "execution_count": null,
   "id": "7a6512f1",
   "metadata": {},
   "outputs": [],
   "source": [
    "p = pd.Period('Aug-2011', freq='M')\n",
    "p"
   ]
  },
  {
   "cell_type": "code",
   "execution_count": null,
   "id": "8a50eb53",
   "metadata": {},
   "outputs": [],
   "source": [
    "p.asfreq('Y-JUN')"
   ]
  },
  {
   "cell_type": "code",
   "execution_count": null,
   "id": "c1d0e94b",
   "metadata": {},
   "outputs": [],
   "source": [
    "periods = pd.period_range('2006', '2009', freq='Y-DEC')\n",
    "ts = pd.Series(np.random.standard_normal(len(periods)), index=periods)\n",
    "ts"
   ]
  },
  {
   "cell_type": "code",
   "execution_count": null,
   "id": "cb995271",
   "metadata": {},
   "outputs": [],
   "source": [
    "ts.asfreq('M', how='start')"
   ]
  },
  {
   "cell_type": "code",
   "execution_count": null,
   "id": "59117f1e",
   "metadata": {},
   "outputs": [],
   "source": [
    "ts.asfreq(freq='B', how='end')"
   ]
  },
  {
   "cell_type": "markdown",
   "id": "05e0cc2b",
   "metadata": {},
   "source": [
    "### Quarterly Period Frequencies"
   ]
  },
  {
   "cell_type": "code",
   "execution_count": null,
   "id": "777ac951",
   "metadata": {},
   "outputs": [],
   "source": [
    "p = pd.Period('2012Q4', freq='Q-JAN')\n",
    "p   "
   ]
  },
  {
   "cell_type": "code",
   "execution_count": null,
   "id": "b84b878d",
   "metadata": {},
   "outputs": [],
   "source": [
    "p.asfreq(freq='D', how='start')"
   ]
  },
  {
   "cell_type": "code",
   "execution_count": null,
   "id": "73977897",
   "metadata": {},
   "outputs": [],
   "source": [
    "p.asfreq(freq='D', how='end')"
   ]
  },
  {
   "cell_type": "code",
   "execution_count": null,
   "id": "245f7477",
   "metadata": {},
   "outputs": [],
   "source": [
    "p4pm = (p.asfreq(\"B\", how=\"end\") - 1).asfreq(\"min\", how=\"start\") + 16 * 60\n",
    "p4pm\n"
   ]
  },
  {
   "cell_type": "code",
   "execution_count": null,
   "id": "d5bf8b19",
   "metadata": {},
   "outputs": [],
   "source": [
    "p4pm.to_timestamp()"
   ]
  },
  {
   "cell_type": "code",
   "execution_count": null,
   "id": "698facf2",
   "metadata": {},
   "outputs": [],
   "source": [
    "periods = pd.period_range('2011Q3', '2012Q4', freq='Q-JAN')\n",
    "periods"
   ]
  },
  {
   "cell_type": "code",
   "execution_count": null,
   "id": "79c98f2f",
   "metadata": {},
   "outputs": [],
   "source": [
    "ts = pd.Series(np.arange(len(periods)), index=periods)\n",
    "print(ts)"
   ]
  },
  {
   "cell_type": "code",
   "execution_count": null,
   "id": "3d2834ab",
   "metadata": {},
   "outputs": [],
   "source": [
    "new_periods = (periods.asfreq(\"B\", \"end\") - 1).asfreq(\"h\", \"start\") + 16\n",
    "ts.index = new_periods.to_timestamp()\n",
    "print(ts)"
   ]
  },
  {
   "cell_type": "markdown",
   "id": "292ef6cb",
   "metadata": {},
   "source": [
    "### Converting Timestamps to Periods (and Back)"
   ]
  },
  {
   "cell_type": "code",
   "execution_count": null,
   "id": "89f72546",
   "metadata": {},
   "outputs": [],
   "source": [
    "dates = pd.date_range('2000-01-01', periods=3, freq='ME')\n",
    "ts = pd.Series(np.random.standard_normal(len(dates)), index=dates)\n",
    "print(ts)"
   ]
  },
  {
   "cell_type": "code",
   "execution_count": null,
   "id": "18951c7d",
   "metadata": {},
   "outputs": [],
   "source": [
    "pts = ts.to_period()\n",
    "print(pts)"
   ]
  },
  {
   "cell_type": "code",
   "execution_count": null,
   "id": "81af089d",
   "metadata": {},
   "outputs": [],
   "source": [
    "dates = pd.date_range('2000-01-29', periods=6)\n",
    "ts2 = pd.Series(np.random.standard_normal(len(dates)), index=dates)\n",
    "print(ts2)"
   ]
  },
  {
   "cell_type": "code",
   "execution_count": null,
   "id": "90d9333b",
   "metadata": {},
   "outputs": [],
   "source": [
    "ts2.to_period('M')"
   ]
  },
  {
   "cell_type": "code",
   "execution_count": null,
   "id": "be259bde",
   "metadata": {},
   "outputs": [],
   "source": [
    "pts = ts2.to_period('M')\n",
    "print('This is a period series: \\n')\n",
    "print(pts)\n",
    "print('This is a timestamp series:  \\n')\n",
    "print(pts.to_timestamp(how='end'))"
   ]
  },
  {
   "cell_type": "markdown",
   "id": "0d506634",
   "metadata": {},
   "source": [
    "### Creating a PeriodIndex from Arrays"
   ]
  },
  {
   "cell_type": "code",
   "execution_count": null,
   "id": "5565cce8",
   "metadata": {},
   "outputs": [],
   "source": [
    "data = pd.read_csv(r\"F:\\books\\pydata-book-3rd-edition\\pydata-book-3rd-edition\\examples\\macrodata.csv\")\n",
    "data.head(5)"
   ]
  },
  {
   "cell_type": "code",
   "execution_count": null,
   "id": "74c50fd4",
   "metadata": {},
   "outputs": [],
   "source": [
    "data.year"
   ]
  },
  {
   "cell_type": "code",
   "execution_count": null,
   "id": "f5f90da9",
   "metadata": {},
   "outputs": [],
   "source": [
    "data.quarter"
   ]
  },
  {
   "cell_type": "code",
   "execution_count": null,
   "id": "b1351d2b",
   "metadata": {},
   "outputs": [],
   "source": [
    "index = pd.PeriodIndex.from_fields(year=data.year, quarter=data.quarter, freq='Q-DEC')\n",
    "index"
   ]
  },
  {
   "cell_type": "code",
   "execution_count": null,
   "id": "527663fb",
   "metadata": {},
   "outputs": [],
   "source": [
    "data.index = index\n",
    "data.infl.head(5)"
   ]
  },
  {
   "cell_type": "markdown",
   "id": "442b7fa6",
   "metadata": {},
   "source": [
    "## 11.6 Resampling and Frequency Conversion"
   ]
  },
  {
   "cell_type": "code",
   "execution_count": null,
   "id": "14c21aa9",
   "metadata": {},
   "outputs": [],
   "source": [
    "dates = pd.date_range('2000-01-01', periods=100)\n",
    "dates"
   ]
  },
  {
   "cell_type": "code",
   "execution_count": null,
   "id": "f601a690",
   "metadata": {},
   "outputs": [],
   "source": [
    "ts = pd.Series(np.random.standard_normal(len(dates)), index=dates)\n",
    "ts"
   ]
  },
  {
   "cell_type": "code",
   "execution_count": null,
   "id": "f7adaf77",
   "metadata": {},
   "outputs": [],
   "source": [
    "ts.resample('ME').mean()"
   ]
  },
  {
   "cell_type": "code",
   "execution_count": 20,
   "id": "840c1ec6",
   "metadata": {},
   "outputs": [
    {
     "name": "stderr",
     "output_type": "stream",
     "text": [
      "C:\\Users\\raydn\\AppData\\Local\\Temp\\ipykernel_15280\\4110933574.py:1: FutureWarning: The 'kind' keyword in Series.resample is deprecated and will be removed in a future version. Explicitly cast the index to the desired type instead\n",
      "  ts.resample('ME', kind='period').mean()\n"
     ]
    },
    {
     "data": {
      "application/vnd.microsoft.datawrangler.viewer.v0+json": {
       "columns": [
        {
         "name": "index",
         "rawType": "period[M]",
         "type": "unknown"
        },
        {
         "name": "0",
         "rawType": "float64",
         "type": "float"
        }
       ],
       "ref": "a1044b50-c371-40b1-bd92-45168ba183d9",
       "rows": [
        [
         "2000-01",
         "-0.31079455926157235"
        ],
        [
         "2000-02",
         "-0.05915865933696186"
        ],
        [
         "2000-03",
         "0.12058974782924112"
        ],
        [
         "2000-04",
         "-0.005917389000480924"
        ]
       ],
       "shape": {
        "columns": 1,
        "rows": 4
       }
      },
      "text/plain": [
       "2000-01   -0.310795\n",
       "2000-02   -0.059159\n",
       "2000-03    0.120590\n",
       "2000-04   -0.005917\n",
       "Freq: M, dtype: float64"
      ]
     },
     "execution_count": 20,
     "metadata": {},
     "output_type": "execute_result"
    }
   ],
   "source": [
    "ts.resample('ME', kind='period').mean()"
   ]
  }
 ],
 "metadata": {
  "kernelspec": {
   "display_name": "base",
   "language": "python",
   "name": "python3"
  },
  "language_info": {
   "codemirror_mode": {
    "name": "ipython",
    "version": 3
   },
   "file_extension": ".py",
   "mimetype": "text/x-python",
   "name": "python",
   "nbconvert_exporter": "python",
   "pygments_lexer": "ipython3",
   "version": "3.12.7"
  }
 },
 "nbformat": 4,
 "nbformat_minor": 5
}
